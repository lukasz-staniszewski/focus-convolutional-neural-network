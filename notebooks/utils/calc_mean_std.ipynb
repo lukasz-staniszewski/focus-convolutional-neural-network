{
 "cells": [
  {
   "cell_type": "code",
   "execution_count": 1,
   "metadata": {},
   "outputs": [],
   "source": [
    "import torch\n",
    "from tqdm import tqdm"
   ]
  },
  {
   "cell_type": "markdown",
   "metadata": {},
   "source": [
    "# Import of clean dataloader"
   ]
  },
  {
   "cell_type": "code",
   "execution_count": 2,
   "metadata": {},
   "outputs": [],
   "source": [
    "from data_utils.data_loaders import ClassifierDataLoader\n",
    "dl = ClassifierDataLoader(\n",
    "    images_dir=\"../../data/processed/COCO-2017/CocoPersonClassifier/train/images\",\n",
    "    batch_size=64,\n",
    "    csv_path=\"../../data/processed/COCO-2017/CocoPersonClassifier/train/labels.csv\",\n",
    "    shuffle=True,\n",
    "    validation_split=0.2,\n",
    "    num_workers=8,\n",
    "    balance=True,\n",
    ")"
   ]
  },
  {
   "cell_type": "markdown",
   "metadata": {},
   "source": [
    "# Function to calculate mean and std of the dataset"
   ]
  },
  {
   "cell_type": "code",
   "execution_count": 5,
   "metadata": {},
   "outputs": [],
   "source": [
    "def get_mean_and_std(dataloader):\n",
    "    channels_sum, channels_squared_sum, num_batches = 0, 0, 0\n",
    "    for data, _ in tqdm(dataloader, desc=\"Calculating mean and std\"):\n",
    "        # Mean over batch, height and width, but not over the channels\n",
    "        channels_sum += torch.mean(data, dim=[0,2,3])\n",
    "        channels_squared_sum += torch.mean(data**2, dim=[0,2,3])\n",
    "        num_batches += 1\n",
    "    \n",
    "    mean = channels_sum / num_batches\n",
    "\n",
    "    # std = sqrt(E[X^2] - (E[X])^2)\n",
    "    std = (channels_squared_sum / num_batches - mean ** 2) ** 0.5\n",
    "\n",
    "    return mean, std"
   ]
  },
  {
   "cell_type": "code",
   "execution_count": 6,
   "metadata": {},
   "outputs": [
    {
     "name": "stderr",
     "output_type": "stream",
     "text": [
      "Calculating mean and std: 100%|██████████| 1000/1000 [03:25<00:00,  4.86it/s]\n"
     ]
    },
    {
     "data": {
      "text/plain": [
       "(tensor([0.5462, 0.5803, 0.6043]), tensor([0.2952, 0.2886, 0.2965]))"
      ]
     },
     "execution_count": 6,
     "metadata": {},
     "output_type": "execute_result"
    }
   ],
   "source": [
    "get_mean_and_std(dl)"
   ]
  },
  {
   "cell_type": "markdown",
   "metadata": {},
   "source": [
    "# Check if works :) "
   ]
  },
  {
   "cell_type": "code",
   "execution_count": 10,
   "metadata": {},
   "outputs": [],
   "source": [
    "from data_utils.data_loaders import ClassifierDataLoader\n",
    "dl2 = ClassifierDataLoader(\n",
    "    images_dir=\"../../data/processed/COCO-2017/CocoPersonClassifier/train/images\",\n",
    "    batch_size=64,\n",
    "    csv_path=\"../../data/processed/COCO-2017/CocoPersonClassifier/train/labels.csv\",\n",
    "    transform_mean=[0.5462, 0.5803, 0.6043],\n",
    "    transform_std=[0.2952, 0.2886, 0.2965],\n",
    "    shuffle=True,\n",
    "    validation_split=0.2,\n",
    "    num_workers=8,\n",
    "    balance=True,\n",
    ")"
   ]
  },
  {
   "cell_type": "code",
   "execution_count": 11,
   "metadata": {},
   "outputs": [
    {
     "name": "stderr",
     "output_type": "stream",
     "text": [
      "Calculating mean and std: 100%|██████████| 1000/1000 [04:17<00:00,  3.89it/s]\n"
     ]
    },
    {
     "data": {
      "text/plain": [
       "(tensor([ 5.6956e-05, -1.1733e-04, -1.3571e-04]),\n",
       " tensor([0.9999, 0.9999, 0.9999]))"
      ]
     },
     "execution_count": 11,
     "metadata": {},
     "output_type": "execute_result"
    }
   ],
   "source": [
    "get_mean_and_std(dl2)"
   ]
  },
  {
   "cell_type": "code",
   "execution_count": null,
   "metadata": {},
   "outputs": [],
   "source": []
  }
 ],
 "metadata": {
  "kernelspec": {
   "display_name": "Python 3.9.5 ('venv': venv)",
   "language": "python",
   "name": "python3"
  },
  "language_info": {
   "codemirror_mode": {
    "name": "ipython",
    "version": 3
   },
   "file_extension": ".py",
   "mimetype": "text/x-python",
   "name": "python",
   "nbconvert_exporter": "python",
   "pygments_lexer": "ipython3",
   "version": "3.9.5"
  },
  "orig_nbformat": 4,
  "vscode": {
   "interpreter": {
    "hash": "2d003083da56131e9c2597bd8311bd4849912c9f5353e8172a48e2f0a9f74796"
   }
  }
 },
 "nbformat": 4,
 "nbformat_minor": 2
}
