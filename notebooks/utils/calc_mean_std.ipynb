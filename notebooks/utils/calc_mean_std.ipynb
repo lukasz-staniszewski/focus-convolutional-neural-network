{
 "cells": [
  {
   "cell_type": "code",
   "execution_count": 18,
   "metadata": {},
   "outputs": [
    {
     "name": "stdout",
     "output_type": "stream",
     "text": [
      "The autoreload extension is already loaded. To reload it, use:\n",
      "  %reload_ext autoreload\n"
     ]
    }
   ],
   "source": [
    "%load_ext autoreload\n",
    "%autoreload 2\n",
    "\n",
    "import torch\n",
    "from tqdm import tqdm"
   ]
  },
  {
   "cell_type": "markdown",
   "metadata": {},
   "source": [
    "# Import of clean dataloader"
   ]
  },
  {
   "cell_type": "code",
   "execution_count": 32,
   "metadata": {},
   "outputs": [],
   "source": [
    "from data_utils.data_loaders import ClassifierLoader\n",
    "dl = ClassifierLoader(\n",
    "    images_dir='../../data/processed/COCO-2017/CocoMultiClassifier/train/images/',\n",
    "    batch_size=96,\n",
    "    csv_path='../../data/processed/COCO-2017/CocoMultiClassifier/train/labels.csv',\n",
    "    save_out_dir = \"../../res/classifiers/classifier_multi/trainer/labels/\",\n",
    "    shuffle=True,\n",
    "    validation_split=0.15,\n",
    "    num_workers=6,\n",
    "    balance_train=True,\n",
    "    balance_methods=[\n",
    "      'oversample',\n",
    "      'make_0_half'  \n",
    "    ],\n",
    "    labels={\n",
    "        \"0\": \"none\",\n",
    "        \"1\": \"person\",\n",
    "        \"2\": \"bicycle\",\n",
    "        \"3\": \"car\",\n",
    "        \"4\": \"cat\",\n",
    "        \"5\": \"dog\"\n",
    "    },\n",
    "    balance_max_multiplicity=None\n",
    ")\n",
    "dl_train = dl.get_train_loader()"
   ]
  },
  {
   "cell_type": "markdown",
   "metadata": {},
   "source": [
    "# Function to calculate mean and std of the dataset"
   ]
  },
  {
   "cell_type": "code",
   "execution_count": 36,
   "metadata": {},
   "outputs": [],
   "source": [
    "def get_mean_and_std(dataloader):\n",
    "    channels_sum, channels_squared_sum, num_batches = 0, 0, 0\n",
    "    for data, _ in tqdm(dataloader, desc=\"Calculating mean and std\"):\n",
    "        # print(data)\n",
    "        # Mean over batch, height and width, but not over the channels\n",
    "        channels_sum += torch.mean(data, dim=[0,2,3])\n",
    "        channels_squared_sum += torch.mean(data**2, dim=[0,2,3])\n",
    "        num_batches += 1\n",
    "    \n",
    "    mean = channels_sum / num_batches\n",
    "\n",
    "    # std = sqrt(E[X^2] - (E[X])^2)\n",
    "    std = (channels_squared_sum / num_batches - mean ** 2) ** 0.5\n",
    "\n",
    "    return mean, std"
   ]
  },
  {
   "cell_type": "code",
   "execution_count": 37,
   "metadata": {},
   "outputs": [
    {
     "name": "stderr",
     "output_type": "stream",
     "text": [
      "Calculating mean and std: 100%|██████████| 5956/5956 [13:57<00:00,  7.11it/s]\n"
     ]
    },
    {
     "data": {
      "text/plain": [
       "(tensor([0.4119, 0.3770, 0.3452]), tensor([0.2832, 0.2707, 0.2711]))"
      ]
     },
     "execution_count": 37,
     "metadata": {},
     "output_type": "execute_result"
    }
   ],
   "source": [
    "get_mean_and_std(dl_train)"
   ]
  },
  {
   "cell_type": "markdown",
   "metadata": {},
   "source": [
    "# Check if works :) "
   ]
  },
  {
   "cell_type": "code",
   "execution_count": 38,
   "metadata": {},
   "outputs": [],
   "source": [
    "from data_utils.data_loaders import ClassifierLoader\n",
    "dl = ClassifierLoader(\n",
    "    images_dir='../../data/processed/COCO-2017/CocoMultiClassifier/train/images/',\n",
    "    batch_size=96,\n",
    "    csv_path='../../data/processed/COCO-2017/CocoMultiClassifier/train/labels.csv',\n",
    "    save_out_dir = \"../../res/classifiers/classifier_multi/trainer/labels/\",\n",
    "    shuffle=True,\n",
    "    validation_split=0.15,\n",
    "    transform_mean=[0.4119, 0.3770, 0.3452],\n",
    "    transform_std=[0.2832, 0.2707, 0.2711],\n",
    "    num_workers=6,\n",
    "    balance_train=True,\n",
    "    balance_methods=[\n",
    "      'oversample',\n",
    "      'make_0_half'  \n",
    "    ],\n",
    "    labels={\n",
    "        \"0\": \"none\",\n",
    "        \"1\": \"person\",\n",
    "        \"2\": \"bicycle\",\n",
    "        \"3\": \"car\",\n",
    "        \"4\": \"cat\",\n",
    "        \"5\": \"dog\"\n",
    "    },\n",
    "    balance_max_multiplicity=None\n",
    ")\n",
    "dl_train = dl.get_train_loader()"
   ]
  },
  {
   "cell_type": "code",
   "execution_count": 39,
   "metadata": {},
   "outputs": [
    {
     "name": "stderr",
     "output_type": "stream",
     "text": [
      "Calculating mean and std: 100%|██████████| 5956/5956 [19:03<00:00,  5.21it/s]\n"
     ]
    },
    {
     "data": {
      "text/plain": [
       "(tensor([-5.2636e-05,  9.9283e-05, -1.4672e-04]),\n",
       " tensor([1.0000, 1.0000, 1.0002]))"
      ]
     },
     "execution_count": 39,
     "metadata": {},
     "output_type": "execute_result"
    }
   ],
   "source": [
    "get_mean_and_std(dl_train)"
   ]
  },
  {
   "cell_type": "markdown",
   "metadata": {},
   "source": [
    "# Results:\n",
    "## Person:\n",
    "+ \"transform_mean\": [0.5462,0.5803,0.6043]\n",
    "+ \"transform_std\": [0.2952,0.2886,0.2965]\n",
    "## Car:\n",
    "+ \"transform_mean\": [0.5615,0.5820,0.5965]\n",
    "+ \"transform_std\": [0.2911,0.2849,0.2908]\n",
    "## Dog:\n",
    "+ \"transform_mean\": [0.5243,0.5564,0.5869],\n",
    "+ \"transform_std\": [0.2958,0.2923,0.3011]\n",
    "## Bicycle:\n",
    "+ \"transform_mean\": [0.5647,0.5906,0.6088]\n",
    "+ \"transform_std\": [0.2894,0.283,0.2891]\n",
    "## Cat:\n",
    "+ \"transform_mean\": [0.5295,0.5672,0.5936]\n",
    "+ \"transform_std\": [0.3045,0.3015,0.3107]\n",
    "## Multi:\n",
    "+ \"transform_mean\": [0.5438,0.5786,0.6030]\n",
    "+ \"transform_std\": [0.2944,0.2882,0.2966]"
   ]
  },
  {
   "cell_type": "code",
   "execution_count": null,
   "metadata": {},
   "outputs": [],
   "source": [
    " "
   ]
  }
 ],
 "metadata": {
  "kernelspec": {
   "display_name": "Python 3.9.5 ('venv': venv)",
   "language": "python",
   "name": "python3"
  },
  "language_info": {
   "codemirror_mode": {
    "name": "ipython",
    "version": 3
   },
   "file_extension": ".py",
   "mimetype": "text/x-python",
   "name": "python",
   "nbconvert_exporter": "python",
   "pygments_lexer": "ipython3",
   "version": "3.9.5"
  },
  "orig_nbformat": 4,
  "vscode": {
   "interpreter": {
    "hash": "2d003083da56131e9c2597bd8311bd4849912c9f5353e8172a48e2f0a9f74796"
   }
  }
 },
 "nbformat": 4,
 "nbformat_minor": 2
}
