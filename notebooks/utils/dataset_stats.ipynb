{
 "cells": [
  {
   "cell_type": "code",
   "execution_count": 7,
   "metadata": {},
   "outputs": [
    {
     "name": "stdout",
     "output_type": "stream",
     "text": [
      "The autoreload extension is already loaded. To reload it, use:\n",
      "  %reload_ext autoreload\n"
     ]
    }
   ],
   "source": [
    "%load_ext autoreload\n",
    "%autoreload 2\n",
    "\n",
    "import torch\n",
    "from tqdm import tqdm"
   ]
  },
  {
   "cell_type": "markdown",
   "metadata": {},
   "source": [
    "# Import of clean dataloader"
   ]
  },
  {
   "cell_type": "code",
   "execution_count": 8,
   "metadata": {},
   "outputs": [],
   "source": [
    "from data_utils.data_loaders import FocusCNNLoader, ClassifierLoader, FocusLoader\n",
    "dl = FocusCNNLoader(\n",
    "    images_dir='/root/focus-convolutional-neural-network/data/processed/PASCAL/PascalFocusCNN/train/images',\n",
    "    batch_size=16,\n",
    "    csv_path='/root/focus-convolutional-neural-network/data/processed/PASCAL/PascalFocusCNN/train/labels.csv',\n",
    "    save_out_dir = \"/root/focus-convolutional-neural-network/res/focus_cnn/pascal_focuscnn/trainer/labels/\",\n",
    "    shuffle=True,\n",
    "    validation_split=0.15,\n",
    "    num_workers=32,\n",
    "    labels={\n",
    "        \"0\": \"none\",\n",
    "        \"1\": \"person\",\n",
    "        \"2\": \"car\",\n",
    "        \"3\": \"bicycle\"\n",
    "    },\n",
    "    balance_train=True,\n",
    "    balance_methods=[\"remove_only_0\"],\n",
    "    tf_image_size=[640, 640],\n",
    "    is_test=False\n",
    ")\n",
    "dl_train = dl.get_train_loader()"
   ]
  },
  {
   "cell_type": "markdown",
   "metadata": {},
   "source": [
    "# Function to calculate mean and std of the dataset"
   ]
  },
  {
   "cell_type": "code",
   "execution_count": 9,
   "metadata": {},
   "outputs": [],
   "source": [
    "def get_mean_and_std(dataloader):\n",
    "    channels_sum, channels_squared_sum, num_batches = 0, 0, 0\n",
    "    for data in tqdm(dataloader, desc=\"Calculating mean and std\"):\n",
    "        if isinstance(data, list) or isinstance(data, tuple):\n",
    "            data = data[0]\n",
    "        elif isinstance(data, dict):\n",
    "            data = data['image']\n",
    "        else:\n",
    "            raise Exception(\"Unknown data type\")\n",
    "        channels_sum += torch.mean(data, dim=[0,2,3])\n",
    "        channels_squared_sum += torch.mean(data**2, dim=[0,2,3])\n",
    "        num_batches += 1\n",
    "    \n",
    "    mean = channels_sum / num_batches\n",
    "\n",
    "    # std = sqrt(E[X^2] - (E[X])^2)\n",
    "    std = (channels_squared_sum / num_batches - mean ** 2) ** 0.5\n",
    "\n",
    "    return mean, std"
   ]
  },
  {
   "cell_type": "code",
   "execution_count": 10,
   "metadata": {},
   "outputs": [
    {
     "name": "stderr",
     "output_type": "stream",
     "text": [
      "Calculating mean and std:   0%|          | 0/446 [00:00<?, ?it/s]"
     ]
    },
    {
     "name": "stderr",
     "output_type": "stream",
     "text": [
      "Calculating mean and std: 100%|██████████| 446/446 [00:38<00:00, 11.70it/s]\n"
     ]
    },
    {
     "data": {
      "text/plain": [
       "(tensor([0.4309, 0.4104, 0.3840]), tensor([0.2620, 0.2618, 0.2679]))"
      ]
     },
     "execution_count": 10,
     "metadata": {},
     "output_type": "execute_result"
    }
   ],
   "source": [
    "get_mean_and_std(dl_train)"
   ]
  },
  {
   "cell_type": "markdown",
   "metadata": {},
   "source": [
    "# Check if works :) "
   ]
  },
  {
   "cell_type": "code",
   "execution_count": 11,
   "metadata": {},
   "outputs": [],
   "source": [
    "from data_utils.data_loaders import FocusCNNLoader, ClassifierLoader, FocusLoader\n",
    "dl = FocusCNNLoader(\n",
    "    images_dir='/root/focus-convolutional-neural-network/data/processed/PASCAL/PascalFocusCNN/train/images',\n",
    "    batch_size=16,\n",
    "    csv_path='/root/focus-convolutional-neural-network/data/processed/PASCAL/PascalFocusCNN/train/labels.csv',\n",
    "    save_out_dir = \"/root/focus-convolutional-neural-network/res/focus_cnn/pascal_focuscnn/trainer/labels/\",\n",
    "    shuffle=True,\n",
    "    validation_split=0.15,\n",
    "    num_workers=32,\n",
    "    labels={\n",
    "        \"0\": \"none\",\n",
    "        \"1\": \"person\",\n",
    "        \"2\": \"car\",\n",
    "        \"3\": \"bicycle\"\n",
    "    },\n",
    "    balance_train=True,\n",
    "    balance_methods=[\"remove_only_0\"],\n",
    "    tf_image_size=[640, 640],\n",
    "    is_test=False,\n",
    "    transform_mean=[0.4309, 0.4104, 0.3840],\n",
    "    transform_std=[0.2620, 0.2618, 0.2679]\n",
    ")\n",
    "dl_train = dl.get_train_loader()"
   ]
  },
  {
   "cell_type": "code",
   "execution_count": 12,
   "metadata": {},
   "outputs": [
    {
     "name": "stderr",
     "output_type": "stream",
     "text": [
      "Calculating mean and std:   0%|          | 0/446 [00:00<?, ?it/s]"
     ]
    },
    {
     "name": "stderr",
     "output_type": "stream",
     "text": [
      "Calculating mean and std: 100%|██████████| 446/446 [00:39<00:00, 11.41it/s]\n"
     ]
    },
    {
     "data": {
      "text/plain": [
       "(tensor([-8.0582e-05,  2.2756e-03,  1.3948e-03]),\n",
       " tensor([1.0005, 0.9994, 1.0001]))"
      ]
     },
     "execution_count": 12,
     "metadata": {},
     "output_type": "execute_result"
    }
   ],
   "source": [
    "get_mean_and_std(dl_train)"
   ]
  },
  {
   "cell_type": "code",
   "execution_count": 8,
   "metadata": {},
   "outputs": [],
   "source": [
    "data = next(iter(dl_train))"
   ]
  },
  {
   "attachments": {},
   "cell_type": "markdown",
   "metadata": {},
   "source": [
    "# Classifiers:\n",
    "## Person:\n",
    "+ \"transform_mean\": [0.5462,0.5803,0.6043]\n",
    "+ \"transform_std\": [0.2952,0.2886,0.2965]\n",
    "## Car:\n",
    "+ \"transform_mean\": [0.5615,0.5820,0.5965]\n",
    "+ \"transform_std\": [0.2911,0.2849,0.2908]\n",
    "## Dog:\n",
    "+ \"transform_mean\": [0.5243,0.5564,0.5869],\n",
    "+ \"transform_std\": [0.2958,0.2923,0.3011]\n",
    "## Bicycle:\n",
    "+ \"transform_mean\": [0.5647,0.5906,0.6088]\n",
    "+ \"transform_std\": [0.2894,0.283,0.2891]\n",
    "## Cat:\n",
    "+ \"transform_mean\": [0.5295,0.5672,0.5936]\n",
    "+ \"transform_std\": [0.3045,0.3015,0.3107]\n",
    "## Multi:\n",
    "+ \"transform_mean\": [0.5438,0.5786,0.6030]\n",
    "+ \"transform_std\": [0.2944,0.2882,0.2966]\n",
    "\n",
    "# Focus:\n",
    "## Person:\n",
    "+ \"transform_mean\": [0.4686, 0.4496, 0.4134]\n",
    "+ \"transform_std\": [0.2553, 0.2530, 0.2708]\n",
    "## Car:\n",
    "+ \"transform_mean\": [0.4572, 0.4423, 0.4103]\n",
    "+ \"transform_std\": [0.2577, 0.2591, 0.2712]"
   ]
  },
  {
   "attachments": {},
   "cell_type": "markdown",
   "metadata": {},
   "source": [
    "# Class weights computing"
   ]
  },
  {
   "cell_type": "code",
   "execution_count": 14,
   "metadata": {},
   "outputs": [],
   "source": [
    "import pandas as pd\n",
    "from sklearn.utils.class_weight import compute_class_weight\n",
    "import numpy as np"
   ]
  },
  {
   "cell_type": "code",
   "execution_count": 13,
   "metadata": {},
   "outputs": [],
   "source": [
    "df_train = pd.read_csv(\"/root/focus-convolutional-neural-network/res/classifiers/pascal_classifier_multi/trainer/labels/labels_train.csv\")\n",
    "df_train_aug = pd.read_csv(\"/root/focus-convolutional-neural-network/res/classifiers/pascal_classifier_multi/trainer/labels/labels_train_aug.csv\")"
   ]
  },
  {
   "cell_type": "code",
   "execution_count": 14,
   "metadata": {},
   "outputs": [
    {
     "data": {
      "text/plain": [
       "label\n",
       "0    7843\n",
       "1    6111\n",
       "3     824\n",
       "2     384\n",
       "Name: count, dtype: int64"
      ]
     },
     "execution_count": 14,
     "metadata": {},
     "output_type": "execute_result"
    }
   ],
   "source": [
    "df_train['label'].value_counts()"
   ]
  },
  {
   "cell_type": "code",
   "execution_count": 15,
   "metadata": {},
   "outputs": [
    {
     "data": {
      "text/plain": [
       "label\n",
       "2    384\n",
       "3    178\n",
       "Name: count, dtype: int64"
      ]
     },
     "execution_count": 15,
     "metadata": {},
     "output_type": "execute_result"
    }
   ],
   "source": [
    "df_train_aug['label'].value_counts()"
   ]
  },
  {
   "cell_type": "code",
   "execution_count": 16,
   "metadata": {},
   "outputs": [],
   "source": [
    "list_train = df_train['label'].to_list()"
   ]
  },
  {
   "cell_type": "code",
   "execution_count": 17,
   "metadata": {},
   "outputs": [],
   "source": [
    "list_train_aug = df_train_aug['label'].to_list()"
   ]
  },
  {
   "cell_type": "code",
   "execution_count": 18,
   "metadata": {},
   "outputs": [],
   "source": [
    "list_train_full = list_train + list_train_aug"
   ]
  },
  {
   "cell_type": "code",
   "execution_count": 19,
   "metadata": {},
   "outputs": [
    {
     "data": {
      "text/plain": [
       "array([0.50121127, 0.64326624, 5.11848958, 3.92315369])"
      ]
     },
     "execution_count": 19,
     "metadata": {},
     "output_type": "execute_result"
    }
   ],
   "source": [
    "compute_class_weight(class_weight='balanced', classes=np.unique(list_train_full), y=list_train_full)"
   ]
  },
  {
   "cell_type": "markdown",
   "metadata": {},
   "source": [
    "# Class weights:"
   ]
  },
  {
   "cell_type": "code",
   "execution_count": 5,
   "metadata": {},
   "outputs": [],
   "source": [
    "import pandas as pd\n",
    "import numpy as np\n",
    "from sklearn.utils.class_weight import compute_class_weight"
   ]
  },
  {
   "cell_type": "code",
   "execution_count": 6,
   "metadata": {},
   "outputs": [],
   "source": [
    "df = pd.read_csv(\"/root/focus-convolutional-neural-network/res/focus_cnn/pascal_focuscnn/trainer/labels/labels_train_undersampled.csv\")"
   ]
  },
  {
   "cell_type": "code",
   "execution_count": 7,
   "metadata": {},
   "outputs": [],
   "source": [
    "arr = np.array(df['label_1'].to_list() + df['label_2'].to_list() + df['label_3'].to_list())"
   ]
  },
  {
   "cell_type": "code",
   "execution_count": 8,
   "metadata": {},
   "outputs": [
    {
     "data": {
      "text/plain": [
       "array([ 0.39267881,  0.82231278, 13.07457213,  6.21802326])"
      ]
     },
     "execution_count": 8,
     "metadata": {},
     "output_type": "execute_result"
    }
   ],
   "source": [
    "compute_class_weight(class_weight='balanced', classes=np.unique(arr), y=arr)"
   ]
  },
  {
   "cell_type": "code",
   "execution_count": 9,
   "metadata": {},
   "outputs": [],
   "source": [
    "arr = np.array([1] * 1000 + [0] * 9000)"
   ]
  },
  {
   "cell_type": "code",
   "execution_count": 10,
   "metadata": {},
   "outputs": [
    {
     "data": {
      "text/plain": [
       "array([0.55555556, 5.        ])"
      ]
     },
     "execution_count": 10,
     "metadata": {},
     "output_type": "execute_result"
    }
   ],
   "source": [
    "compute_class_weight(class_weight='balanced', classes=np.unique(arr), y=arr)"
   ]
  },
  {
   "cell_type": "code",
   "execution_count": null,
   "metadata": {},
   "outputs": [],
   "source": []
  },
  {
   "cell_type": "code",
   "execution_count": null,
   "metadata": {},
   "outputs": [],
   "source": []
  }
 ],
 "metadata": {
  "kernelspec": {
   "display_name": "Python 3.10.6 ('venv': venv)",
   "language": "python",
   "name": "python3"
  },
  "language_info": {
   "codemirror_mode": {
    "name": "ipython",
    "version": 3
   },
   "file_extension": ".py",
   "mimetype": "text/x-python",
   "name": "python",
   "nbconvert_exporter": "python",
   "pygments_lexer": "ipython3",
   "version": "3.10.11"
  },
  "orig_nbformat": 4,
  "vscode": {
   "interpreter": {
    "hash": "c23f8bac5f54f555216c25507ea8382a3bcc21e21d40d6abf1fac4c9e8531714"
   }
  }
 },
 "nbformat": 4,
 "nbformat_minor": 2
}
