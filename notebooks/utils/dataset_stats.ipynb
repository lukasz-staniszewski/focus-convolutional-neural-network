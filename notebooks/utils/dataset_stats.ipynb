{
 "cells": [
  {
   "cell_type": "code",
   "execution_count": null,
   "metadata": {},
   "outputs": [],
   "source": [
    "%load_ext autoreload\n",
    "%autoreload 2\n",
    "\n",
    "import torch\n",
    "from tqdm import tqdm"
   ]
  },
  {
   "cell_type": "markdown",
   "metadata": {},
   "source": [
    "# Import of clean dataloader"
   ]
  },
  {
   "cell_type": "code",
   "execution_count": 5,
   "metadata": {},
   "outputs": [],
   "source": [
    "from data_utils.data_loaders import FocusLoader\n",
    "dl = FocusLoader(\n",
    "    images_dir='../../data/processed/COCO-2017/CocoCarFocus/train/images',\n",
    "    batch_size=96,\n",
    "    csv_path='../../data/processed/COCO-2017/CocoCarFocus/train/labels.csv',\n",
    "    save_out_dir = \"../../res/focus/coco_focus_car/trainer/labels/\",\n",
    "    shuffle=True,\n",
    "    validation_split=0.15,\n",
    "    num_workers=12,\n",
    "    labels={\n",
    "        \"0\": \"none\",\n",
    "        \"1\": \"car\"\n",
    "    },\n",
    "    tf_image_size=(650,650),\n",
    "    balance_train=True,\n",
    "    balance_methods=['undersample'],\n",
    "    balance_max_multiplicity=3\n",
    ")\n",
    "dl_train = dl.get_train_loader()"
   ]
  },
  {
   "cell_type": "markdown",
   "metadata": {},
   "source": [
    "# Function to calculate mean and std of the dataset"
   ]
  },
  {
   "cell_type": "code",
   "execution_count": 15,
   "metadata": {},
   "outputs": [],
   "source": [
    "def get_mean_and_std(dataloader):\n",
    "    channels_sum, channels_squared_sum, num_batches = 0, 0, 0\n",
    "    for data in tqdm(dataloader, desc=\"Calculating mean and std\"):\n",
    "        # print(data)\n",
    "        # Mean over batch, height and width, but not over the channels\n",
    "        data = data['image']\n",
    "        channels_sum += torch.mean(data, dim=[0,2,3])\n",
    "        channels_squared_sum += torch.mean(data**2, dim=[0,2,3])\n",
    "        num_batches += 1\n",
    "    \n",
    "    mean = channels_sum / num_batches\n",
    "\n",
    "    # std = sqrt(E[X^2] - (E[X])^2)\n",
    "    std = (channels_squared_sum / num_batches - mean ** 2) ** 0.5\n",
    "\n",
    "    return mean, std"
   ]
  },
  {
   "cell_type": "code",
   "execution_count": 16,
   "metadata": {},
   "outputs": [
    {
     "name": "stderr",
     "output_type": "stream",
     "text": [
      "Calculating mean and std: 100%|██████████| 109/109 [01:05<00:00,  1.67it/s]\n"
     ]
    },
    {
     "data": {
      "text/plain": [
       "(tensor([0.4572, 0.4423, 0.4103]), tensor([0.2577, 0.2591, 0.2712]))"
      ]
     },
     "execution_count": 16,
     "metadata": {},
     "output_type": "execute_result"
    }
   ],
   "source": [
    "get_mean_and_std(dl_train)"
   ]
  },
  {
   "cell_type": "markdown",
   "metadata": {},
   "source": [
    "# Check if works :) "
   ]
  },
  {
   "cell_type": "code",
   "execution_count": 17,
   "metadata": {},
   "outputs": [],
   "source": [
    "from data_utils.data_loaders import FocusLoader\n",
    "dl = FocusLoader(\n",
    "    images_dir='../../data/processed/COCO-2017/CocoCarFocus/train/images',\n",
    "    batch_size=96,\n",
    "    csv_path='../../data/processed/COCO-2017/CocoCarFocus/train/labels.csv',\n",
    "    save_out_dir = \"../../res/focus/coco_focus_car/trainer/labels/\",\n",
    "    shuffle=True,\n",
    "    validation_split=0.15,\n",
    "    num_workers=12,\n",
    "    labels={\n",
    "        \"0\": \"none\",\n",
    "        \"1\": \"car\"\n",
    "    },\n",
    "    tf_image_size=(650,650),\n",
    "    balance_train=True,\n",
    "    balance_methods=['undersample'],\n",
    "    balance_max_multiplicity=3,\n",
    "    transform_mean=[0.4572, 0.4423, 0.4103],\n",
    "    transform_std=[0.2577, 0.2591, 0.2712],\n",
    ")\n",
    "dl_train = dl.get_train_loader()"
   ]
  },
  {
   "cell_type": "code",
   "execution_count": 18,
   "metadata": {},
   "outputs": [
    {
     "name": "stderr",
     "output_type": "stream",
     "text": [
      "Calculating mean and std: 100%|██████████| 109/109 [01:03<00:00,  1.72it/s]\n"
     ]
    },
    {
     "data": {
      "text/plain": [
       "(tensor([0.0022, 0.0015, 0.0005]), tensor([1.0019, 1.0020, 1.0012]))"
      ]
     },
     "execution_count": 18,
     "metadata": {},
     "output_type": "execute_result"
    }
   ],
   "source": [
    "get_mean_and_std(dl_train)"
   ]
  },
  {
   "attachments": {},
   "cell_type": "markdown",
   "metadata": {},
   "source": [
    "# Classifiers:\n",
    "## Person:\n",
    "+ \"transform_mean\": [0.5462,0.5803,0.6043]\n",
    "+ \"transform_std\": [0.2952,0.2886,0.2965]\n",
    "## Car:\n",
    "+ \"transform_mean\": [0.5615,0.5820,0.5965]\n",
    "+ \"transform_std\": [0.2911,0.2849,0.2908]\n",
    "## Dog:\n",
    "+ \"transform_mean\": [0.5243,0.5564,0.5869],\n",
    "+ \"transform_std\": [0.2958,0.2923,0.3011]\n",
    "## Bicycle:\n",
    "+ \"transform_mean\": [0.5647,0.5906,0.6088]\n",
    "+ \"transform_std\": [0.2894,0.283,0.2891]\n",
    "## Cat:\n",
    "+ \"transform_mean\": [0.5295,0.5672,0.5936]\n",
    "+ \"transform_std\": [0.3045,0.3015,0.3107]\n",
    "## Multi:\n",
    "+ \"transform_mean\": [0.5438,0.5786,0.6030]\n",
    "+ \"transform_std\": [0.2944,0.2882,0.2966]\n",
    "\n",
    "# Focus:\n",
    "## Person:\n",
    "+ \"transform_mean\": [0.4686, 0.4496, 0.4134]\n",
    "+ \"transform_std\": [0.2553, 0.2530, 0.2708]\n",
    "## Car:\n",
    "+ \"transform_mean\": [0.4572, 0.4423, 0.4103]\n",
    "+ \"transform_std\": [0.2577, 0.2591, 0.2712]"
   ]
  },
  {
   "attachments": {},
   "cell_type": "markdown",
   "metadata": {},
   "source": [
    "# Class weights computing"
   ]
  },
  {
   "cell_type": "code",
   "execution_count": 23,
   "metadata": {},
   "outputs": [],
   "source": [
    "import pandas as pd\n",
    "from sklearn.utils.class_weight import compute_class_weight\n",
    "import numpy as np"
   ]
  },
  {
   "cell_type": "code",
   "execution_count": 16,
   "metadata": {},
   "outputs": [],
   "source": [
    "df_train = pd.read_csv(\"/home/ubuntu/focus-convolutional-neural-network/res/focus/coco_focus_car/trainer/labels/labels_train.csv\")\n",
    "df_train_undersampled = pd.read_csv(\"/home/ubuntu/focus-convolutional-neural-network/res/focus/coco_focus_car/trainer/labels/labels_train_undersampled.csv\")"
   ]
  },
  {
   "cell_type": "code",
   "execution_count": 18,
   "metadata": {},
   "outputs": [
    {
     "data": {
      "text/plain": [
       "0    33078\n",
       "1    11026\n",
       "Name: label, dtype: int64"
      ]
     },
     "execution_count": 18,
     "metadata": {},
     "output_type": "execute_result"
    }
   ],
   "source": [
    "df_train_undersampled['label'].value_counts()"
   ]
  },
  {
   "cell_type": "code",
   "execution_count": 22,
   "metadata": {},
   "outputs": [],
   "source": [
    "list_train = df_train_undersampled['label'].to_list()"
   ]
  },
  {
   "cell_type": "code",
   "execution_count": 24,
   "metadata": {},
   "outputs": [
    {
     "data": {
      "text/plain": [
       "array([0.66666667, 2.        ])"
      ]
     },
     "execution_count": 24,
     "metadata": {},
     "output_type": "execute_result"
    }
   ],
   "source": [
    "compute_class_weight(class_weight='balanced', classes=np.unique(list_train), y=list_train)"
   ]
  }
 ],
 "metadata": {
  "kernelspec": {
   "display_name": "Python 3.10.6 ('venv': venv)",
   "language": "python",
   "name": "python3"
  },
  "language_info": {
   "codemirror_mode": {
    "name": "ipython",
    "version": 3
   },
   "file_extension": ".py",
   "mimetype": "text/x-python",
   "name": "python",
   "nbconvert_exporter": "python",
   "pygments_lexer": "ipython3",
   "version": "3.10.6"
  },
  "orig_nbformat": 4,
  "vscode": {
   "interpreter": {
    "hash": "c23f8bac5f54f555216c25507ea8382a3bcc21e21d40d6abf1fac4c9e8531714"
   }
  }
 },
 "nbformat": 4,
 "nbformat_minor": 2
}
