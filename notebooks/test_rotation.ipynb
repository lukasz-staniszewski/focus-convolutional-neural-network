{
 "cells": [
  {
   "cell_type": "code",
   "execution_count": 370,
   "id": "316f9153",
   "metadata": {
    "ExecuteTime": {
     "end_time": "2022-03-26T16:11:01.410680Z",
     "start_time": "2022-03-26T16:11:01.403487Z"
    }
   },
   "outputs": [],
   "source": [
    "import torch\n",
    "import torch.nn.functional as F\n",
    "import numpy as np\n",
    "import matplotlib.pyplot as plt\n",
    "import torchvision\n",
    "from PIL import Image"
   ]
  },
  {
   "cell_type": "code",
   "execution_count": 371,
   "id": "3cae1e6e",
   "metadata": {
    "ExecuteTime": {
     "end_time": "2022-03-26T16:11:01.781576Z",
     "start_time": "2022-03-26T16:11:01.772555Z"
    }
   },
   "outputs": [
    {
     "data": {
      "text/plain": [
       "device(type='cuda')"
      ]
     },
     "execution_count": 371,
     "metadata": {},
     "output_type": "execute_result"
    }
   ],
   "source": [
    "device = torch.device(\"cuda\" if torch.cuda.is_available() else \"cpu\")\n",
    "device"
   ]
  },
  {
   "cell_type": "code",
   "execution_count": 372,
   "id": "dbb6991e",
   "metadata": {
    "ExecuteTime": {
     "end_time": "2022-03-26T16:11:02.305992Z",
     "start_time": "2022-03-26T16:11:02.291654Z"
    }
   },
   "outputs": [],
   "source": [
    "transform = torchvision.transforms.Compose(transforms=[\n",
    "    torchvision.transforms.ToPILImage(),\n",
    "    torchvision.transforms.Resize(size=(500, 500)),\n",
    "    torchvision.transforms.ToTensor(),\n",
    "])"
   ]
  },
  {
   "cell_type": "code",
   "execution_count": 373,
   "id": "65e55d12",
   "metadata": {
    "ExecuteTime": {
     "end_time": "2022-03-26T16:11:02.336325Z",
     "start_time": "2022-03-26T16:11:02.326695Z"
    }
   },
   "outputs": [],
   "source": [
    "def get_rot_mat(theta, device):\n",
    "    theta_cos = torch.cos(input=theta)\n",
    "    theta_sin = torch.sin(input=theta)\n",
    "    zeros = torch.zeros_like(input=theta_cos).to(device)\n",
    "    return torch.stack(tensors=[theta_cos, -theta_sin, zeros, theta_sin, theta_cos, zeros]).view(2,3)"
   ]
  },
  {
   "cell_type": "code",
   "execution_count": 374,
   "id": "6368ccaa",
   "metadata": {
    "ExecuteTime": {
     "end_time": "2022-03-26T16:11:02.367187Z",
     "start_time": "2022-03-26T16:11:02.358354Z"
    }
   },
   "outputs": [],
   "source": [
    "def rot_img(x, theta, device):\n",
    "    rot_mat = get_rot_mat(theta=theta, device=device).unsqueeze(dim=0).repeat(x.shape[0],1,1)    # repeat for whole batch\n",
    "    grid = F.affine_grid(theta=rot_mat, size=x.size(), align_corners=False)\n",
    "    x = F.grid_sample(input=x, grid=grid, align_corners=False)\n",
    "    return x"
   ]
  },
  {
   "cell_type": "code",
   "execution_count": 375,
   "id": "c924b3d0",
   "metadata": {
    "ExecuteTime": {
     "end_time": "2022-03-26T16:11:02.398197Z",
     "start_time": "2022-03-26T16:11:02.391429Z"
    }
   },
   "outputs": [],
   "source": [
    "def convert_img_to_gray(image, path=None):\n",
    "    imgGray = image.convert('L')\n",
    "    if path:\n",
    "        imgGray.save(path)\n",
    "    return imgGray"
   ]
  },
  {
   "cell_type": "code",
   "execution_count": 376,
   "id": "3c085c37",
   "metadata": {
    "ExecuteTime": {
     "end_time": "2022-03-26T16:11:02.444247Z",
     "start_time": "2022-03-26T16:11:02.426169Z"
    }
   },
   "outputs": [],
   "source": [
    "im_in = Image.open('images/test_seven.jpg')\n",
    "im_out = Image.open('images/test_seven_2.jpg')\n",
    "im_in = convert_img_to_gray(im_in, 'images/test_seven_grey.jpg')\n",
    "im_out = convert_img_to_gray(im_out, 'images/test_seven_2_grey.jpg')"
   ]
  },
  {
   "cell_type": "code",
   "execution_count": 377,
   "id": "9ed21da5",
   "metadata": {
    "ExecuteTime": {
     "end_time": "2022-03-26T16:11:02.474012Z",
     "start_time": "2022-03-26T16:11:02.457289Z"
    }
   },
   "outputs": [],
   "source": [
    "transformation = transforms.Compose([\n",
    "    transforms.Resize((32,32)),\n",
    "    transforms.ToTensor(),\n",
    "#     transforms.Normalize(mean=0.5, std=0.5)\n",
    "])"
   ]
  },
  {
   "cell_type": "code",
   "execution_count": 378,
   "id": "fc7693d9",
   "metadata": {
    "ExecuteTime": {
     "end_time": "2022-03-26T16:11:02.504619Z",
     "start_time": "2022-03-26T16:11:02.490940Z"
    }
   },
   "outputs": [],
   "source": [
    "im_in = transformation(Image.open('images/test_seven_grey.jpg'))\n",
    "\n",
    "im_out = transformation(Image.open('images/test_seven_2_grey.jpg'))"
   ]
  },
  {
   "cell_type": "code",
   "execution_count": 379,
   "id": "14481788",
   "metadata": {
    "ExecuteTime": {
     "end_time": "2022-03-26T16:11:02.535048Z",
     "start_time": "2022-03-26T16:11:02.527465Z"
    }
   },
   "outputs": [
    {
     "data": {
      "text/plain": [
       "torch.Size([1, 32, 32])"
      ]
     },
     "execution_count": 379,
     "metadata": {},
     "output_type": "execute_result"
    }
   ],
   "source": [
    "im_in.shape"
   ]
  },
  {
   "cell_type": "code",
   "execution_count": 380,
   "id": "22cce8a9",
   "metadata": {
    "ExecuteTime": {
     "end_time": "2022-03-26T16:11:02.566627Z",
     "start_time": "2022-03-26T16:11:02.559638Z"
    }
   },
   "outputs": [
    {
     "data": {
      "text/plain": [
       "torch.Size([1, 32, 32])"
      ]
     },
     "execution_count": 380,
     "metadata": {},
     "output_type": "execute_result"
    }
   ],
   "source": [
    "im_out.shape"
   ]
  },
  {
   "cell_type": "code",
   "execution_count": 381,
   "id": "3b28814d",
   "metadata": {
    "ExecuteTime": {
     "end_time": "2022-03-26T16:11:02.692126Z",
     "start_time": "2022-03-26T16:11:02.591603Z"
    }
   },
   "outputs": [
    {
     "data": {
      "text/plain": [
       "<Figure size 432x288 with 0 Axes>"
      ]
     },
     "execution_count": 381,
     "metadata": {},
     "output_type": "execute_result"
    },
    {
     "data": {
      "image/png": "[encoded data removed]",
      "text/plain": [
       "<Figure size 432x288 with 1 Axes>"
      ]
     },
     "metadata": {
      "needs_background": "light"
     },
     "output_type": "display_data"
    },
    {
     "data": {
      "text/plain": [
       "<Figure size 432x288 with 0 Axes>"
      ]
     },
     "metadata": {},
     "output_type": "display_data"
    }
   ],
   "source": [
    "plt.imshow(im_in.detach().cpu().permute(1,2,0), cmap='gray')\n",
    "plt.figure()"
   ]
  },
  {
   "cell_type": "code",
   "execution_count": 382,
   "id": "645ca9f9",
   "metadata": {
    "ExecuteTime": {
     "end_time": "2022-03-26T16:11:02.800411Z",
     "start_time": "2022-03-26T16:11:02.693639Z"
    }
   },
   "outputs": [
    {
     "data": {
      "text/plain": [
       "<Figure size 432x288 with 0 Axes>"
      ]
     },
     "execution_count": 382,
     "metadata": {},
     "output_type": "execute_result"
    },
    {
     "data": {
      "image/png": "[encoded data removed]",
      "text/plain": [
       "<Figure size 432x288 with 1 Axes>"
      ]
     },
     "metadata": {
      "needs_background": "light"
     },
     "output_type": "display_data"
    },
    {
     "data": {
      "text/plain": [
       "<Figure size 432x288 with 0 Axes>"
      ]
     },
     "metadata": {},
     "output_type": "display_data"
    }
   ],
   "source": [
    "plt.imshow(im_out.detach().cpu().permute(1,2,0), cmap='gray')\n",
    "plt.figure()"
   ]
  },
  {
   "cell_type": "markdown",
   "id": "26d27b3c",
   "metadata": {},
   "source": [
    "# Sieć"
   ]
  },
  {
   "cell_type": "code",
   "execution_count": 384,
   "id": "5d461964",
   "metadata": {
    "ExecuteTime": {
     "end_time": "2022-03-26T16:11:02.954145Z",
     "start_time": "2022-03-26T16:11:02.939671Z"
    }
   },
   "outputs": [],
   "source": [
    "import torch\n",
    "import torch.nn as nn\n",
    "import torch.nn.functional as F\n",
    "from torch.utils.data import DataLoader\n",
    "from torchvision import datasets, transforms\n",
    "from datetime import datetime \n",
    "\n",
    "import matplotlib.pyplot as plt"
   ]
  },
  {
   "cell_type": "code",
   "execution_count": 421,
   "id": "420b7b08",
   "metadata": {
    "ExecuteTime": {
     "end_time": "2022-03-26T16:18:06.154148Z",
     "start_time": "2022-03-26T16:18:06.136300Z"
    }
   },
   "outputs": [],
   "source": [
    "# parameters\n",
    "RANDOM_SEED = 42\n",
    "LEARNING_RATE = 0.001\n",
    "BATCH_SIZE = 1\n",
    "N_EPOCHS = 1000\n",
    "IMG_SIZE = 32"
   ]
  },
  {
   "cell_type": "code",
   "execution_count": 386,
   "id": "f44c1a9d",
   "metadata": {
    "ExecuteTime": {
     "end_time": "2022-03-26T16:11:02.984333Z",
     "start_time": "2022-03-26T16:11:02.970830Z"
    }
   },
   "outputs": [],
   "source": [
    "def train(train_loader, model, criterion, optimizer, device):\n",
    "    '''\n",
    "    Function for the training step of the training loop\n",
    "    '''\n",
    "\n",
    "    model.train()\n",
    "    running_loss = 0\n",
    "    \n",
    "    for X, y_true in train_loader:\n",
    "\n",
    "        optimizer.zero_grad()\n",
    "        \n",
    "        X = X.to(device)\n",
    "        y_true = y_true.to(device)\n",
    "    \n",
    "        # Forward pass\n",
    "        y_hat = model(X) \n",
    "        loss = criterion(y_hat, y_true) \n",
    "        running_loss += loss.item() * X.size(0)\n",
    "\n",
    "        # Backward pass\n",
    "        loss.backward()\n",
    "        optimizer.step()\n",
    "        \n",
    "    epoch_loss = running_loss / len(train_loader.dataset)\n",
    "    return model, optimizer, epoch_loss"
   ]
  },
  {
   "cell_type": "code",
   "execution_count": 387,
   "id": "3e8a20cf",
   "metadata": {
    "ExecuteTime": {
     "end_time": "2022-03-26T16:11:03.482626Z",
     "start_time": "2022-03-26T16:11:03.463653Z"
    }
   },
   "outputs": [],
   "source": [
    "def validate(valid_loader, model, criterion, device):\n",
    "    '''\n",
    "    Function for the validation step of the training loop\n",
    "    '''\n",
    "   \n",
    "    model.eval()\n",
    "    running_loss = 0\n",
    "    \n",
    "    for X, y_true in valid_loader:\n",
    "    \n",
    "        X = X.to(device)\n",
    "        y_true = y_true.to(device)\n",
    "\n",
    "        # Forward pass and record loss\n",
    "        y_hat = model(X) \n",
    "        loss = criterion(y_hat, y_true) \n",
    "        running_loss += loss.item() * X.size(0)\n",
    "\n",
    "    epoch_loss = running_loss / len(valid_loader.dataset)\n",
    "        \n",
    "    return model, epoch_loss"
   ]
  },
  {
   "cell_type": "code",
   "execution_count": 388,
   "id": "4732b493",
   "metadata": {
    "ExecuteTime": {
     "end_time": "2022-03-26T16:11:03.854833Z",
     "start_time": "2022-03-26T16:11:03.849860Z"
    }
   },
   "outputs": [],
   "source": [
    "def training_loop(model, criterion, optimizer, train_loader, epochs, device, print_every=10):\n",
    "    '''\n",
    "    Function defining the entire training loop\n",
    "    '''\n",
    "    \n",
    "    # set objects for storing metrics\n",
    "    best_loss = 1e10\n",
    "    train_losses = []\n",
    " \n",
    "    # Train model\n",
    "    for epoch in range(0, epochs):\n",
    "\n",
    "        # training\n",
    "        model, optimizer, train_loss = train(train_loader, model, criterion, optimizer, device)\n",
    "        train_losses.append(train_loss)\n",
    "\n",
    "        if epoch % print_every == (print_every - 1):\n",
    "            print(f'{datetime.now().time().replace(microsecond=0)} --- '\n",
    "                  f'Epoch: {epoch}\\t'\n",
    "                  f'Train loss: {train_loss:.4f}')\n",
    "\n",
    "    plot_losses(train_losses, valid_losses)\n",
    "    \n",
    "    return model, optimizer, train_losses"
   ]
  },
  {
   "cell_type": "code",
   "execution_count": 389,
   "id": "53febba6",
   "metadata": {
    "ExecuteTime": {
     "end_time": "2022-03-26T16:11:04.457210Z",
     "start_time": "2022-03-26T16:11:04.443971Z"
    }
   },
   "outputs": [
    {
     "data": {
      "text/plain": [
       "tensor([[[0.0000, 0.0000, 0.0000,  ..., 0.0000, 0.0000, 0.0000],\n",
       "         [0.0000, 0.0000, 0.0000,  ..., 0.0000, 0.0000, 0.0000],\n",
       "         [0.0000, 0.0000, 0.0000,  ..., 0.0000, 0.0000, 0.0000],\n",
       "         ...,\n",
       "         [0.0000, 0.0431, 0.0078,  ..., 0.0000, 0.0000, 0.0000],\n",
       "         [0.0000, 0.0510, 0.0235,  ..., 0.0000, 0.0000, 0.0000],\n",
       "         [0.0157, 0.0000, 0.0000,  ..., 0.0000, 0.0000, 0.0000]]])"
      ]
     },
     "execution_count": 389,
     "metadata": {},
     "output_type": "execute_result"
    }
   ],
   "source": [
    "im_in"
   ]
  },
  {
   "cell_type": "code",
   "execution_count": 390,
   "id": "a965d58e",
   "metadata": {
    "ExecuteTime": {
     "end_time": "2022-03-26T16:11:04.769181Z",
     "start_time": "2022-03-26T16:11:04.763580Z"
    }
   },
   "outputs": [],
   "source": [
    "from torch.utils.data import Dataset"
   ]
  },
  {
   "cell_type": "code",
   "execution_count": 391,
   "id": "4f9c9dc3",
   "metadata": {
    "ExecuteTime": {
     "end_time": "2022-03-26T16:11:04.986722Z",
     "start_time": "2022-03-26T16:11:04.971466Z"
    }
   },
   "outputs": [],
   "source": [
    "class CustomTestDataset(Dataset):\n",
    "    def __init__(self, image_in, image_out):\n",
    "        self.img_labels = (image_in, image_out)\n",
    "\n",
    "    def __len__(self):\n",
    "        return 1\n",
    "\n",
    "    def __getitem__(self, idx):\n",
    "        return self.img_labels[0], self.img_labels[1]"
   ]
  },
  {
   "cell_type": "code",
   "execution_count": 392,
   "id": "9c78820b",
   "metadata": {
    "ExecuteTime": {
     "end_time": "2022-03-26T16:11:05.173168Z",
     "start_time": "2022-03-26T16:11:05.156190Z"
    }
   },
   "outputs": [],
   "source": [
    "train_loader = DataLoader(dataset=CustomTestDataset(im_in, im_out), \n",
    "                          batch_size=BATCH_SIZE, \n",
    "                          shuffle=False)"
   ]
  },
  {
   "cell_type": "code",
   "execution_count": 393,
   "id": "3408c4e1",
   "metadata": {
    "ExecuteTime": {
     "end_time": "2022-03-26T16:11:05.377049Z",
     "start_time": "2022-03-26T16:11:05.360563Z"
    }
   },
   "outputs": [
    {
     "data": {
      "text/plain": [
       "[tensor([[[[0.0000, 0.0000, 0.0000,  ..., 0.0000, 0.0000, 0.0000],\n",
       "           [0.0000, 0.0000, 0.0000,  ..., 0.0000, 0.0000, 0.0000],\n",
       "           [0.0000, 0.0000, 0.0000,  ..., 0.0000, 0.0000, 0.0000],\n",
       "           ...,\n",
       "           [0.0000, 0.0431, 0.0078,  ..., 0.0000, 0.0000, 0.0000],\n",
       "           [0.0000, 0.0510, 0.0235,  ..., 0.0000, 0.0000, 0.0000],\n",
       "           [0.0157, 0.0000, 0.0000,  ..., 0.0000, 0.0000, 0.0000]]]]),\n",
       " tensor([[[[0.0000, 0.0000, 0.0000,  ..., 0.0000, 0.0000, 0.0000],\n",
       "           [0.0000, 0.0000, 0.0000,  ..., 0.0000, 0.0000, 0.0000],\n",
       "           [0.0000, 0.0000, 0.0000,  ..., 0.0000, 0.0000, 0.0000],\n",
       "           ...,\n",
       "           [0.0000, 0.0000, 0.0000,  ..., 0.0196, 0.0000, 0.0000],\n",
       "           [0.0000, 0.0000, 0.0000,  ..., 0.0196, 0.0000, 0.0078],\n",
       "           [0.0000, 0.0000, 0.0000,  ..., 0.0039, 0.0000, 0.0314]]]])]"
      ]
     },
     "execution_count": 393,
     "metadata": {},
     "output_type": "execute_result"
    }
   ],
   "source": [
    "next(iter(train_loader))"
   ]
  },
  {
   "cell_type": "code",
   "execution_count": 422,
   "id": "98dcfe42",
   "metadata": {
    "ExecuteTime": {
     "end_time": "2022-03-26T16:20:02.495493Z",
     "start_time": "2022-03-26T16:20:02.482520Z"
    }
   },
   "outputs": [],
   "source": [
    "class LeNet5(nn.Module):\n",
    "\n",
    "    def __init__(self, device):\n",
    "        super().__init__()\n",
    "        \n",
    "        self.device = device\n",
    "        \n",
    "        self.feature_extractor = nn.Sequential(            \n",
    "            nn.Conv2d(in_channels=1, out_channels=6, kernel_size=5, stride=1),\n",
    "            nn.Tanh(),\n",
    "            nn.BatchNorm2d(6),\n",
    "            nn.MaxPool2d(kernel_size=3),\n",
    "#             nn.Conv2d(in_channels=6, out_channels=16, kernel_size=5, stride=1),\n",
    "#             nn.Tanh(),\n",
    "#             nn.MaxPool2d(kernel_size=2),\n",
    "#             nn.Conv2d(in_channels=16, out_channels=120, kernel_size=5, stride=1),\n",
    "#             nn.Tanh()\n",
    "        )\n",
    "\n",
    "        self.classifier = nn.Sequential(\n",
    "#             nn.Linear(in_features=120, out_features=84),\n",
    "#             nn.Tanh(),\n",
    "            nn.Linear(in_features=486, out_features=20),\n",
    "            nn.Tanh(),\n",
    "            nn.Linear(in_features=20, out_features=1)\n",
    "        )\n",
    "\n",
    "\n",
    "    def forward(self, x_inp):\n",
    "        x = self.feature_extractor(x_inp)\n",
    "#         print(x.shape)\n",
    "        x = torch.flatten(x, 1)\n",
    "        theta = self.classifier(x)\n",
    "#         print(f\"theta: {theta}\")\n",
    "        rotated_x = rot_img(x=x_inp, theta=theta, device=self.device)\n",
    "        return rotated_x"
   ]
  },
  {
   "cell_type": "code",
   "execution_count": 423,
   "id": "78f57fd8",
   "metadata": {
    "ExecuteTime": {
     "end_time": "2022-03-26T16:20:02.699255Z",
     "start_time": "2022-03-26T16:20:02.689220Z"
    }
   },
   "outputs": [
    {
     "data": {
      "text/plain": [
       "torchvision.datasets.mnist.MNIST"
      ]
     },
     "execution_count": 423,
     "metadata": {},
     "output_type": "execute_result"
    }
   ],
   "source": [
    "type(train_dataset)"
   ]
  },
  {
   "cell_type": "code",
   "execution_count": 424,
   "id": "8c0623af",
   "metadata": {
    "ExecuteTime": {
     "end_time": "2022-03-26T16:20:02.898849Z",
     "start_time": "2022-03-26T16:20:02.891878Z"
    }
   },
   "outputs": [
    {
     "data": {
      "text/plain": [
       "tensor(0.9137)"
      ]
     },
     "execution_count": 424,
     "metadata": {},
     "output_type": "execute_result"
    }
   ],
   "source": [
    "next(iter(train_loader))[0].max()"
   ]
  },
  {
   "cell_type": "code",
   "execution_count": 429,
   "id": "ed6017aa",
   "metadata": {
    "ExecuteTime": {
     "end_time": "2022-03-26T16:20:27.126089Z",
     "start_time": "2022-03-26T16:20:22.492857Z"
    },
    "scrolled": true
   },
   "outputs": [
    {
     "name": "stdout",
     "output_type": "stream",
     "text": [
      "17:20:22 --- Epoch: 9\tTrain loss: 0.0457\n",
      "17:20:22 --- Epoch: 19\tTrain loss: 0.0424\n",
      "17:20:22 --- Epoch: 29\tTrain loss: 0.0427\n",
      "17:20:22 --- Epoch: 39\tTrain loss: 0.0422\n",
      "17:20:22 --- Epoch: 49\tTrain loss: 0.0423\n",
      "17:20:22 --- Epoch: 59\tTrain loss: 0.0422\n",
      "17:20:22 --- Epoch: 69\tTrain loss: 0.0422\n",
      "17:20:22 --- Epoch: 79\tTrain loss: 0.0422\n",
      "17:20:22 --- Epoch: 89\tTrain loss: 0.0422\n",
      "17:20:22 --- Epoch: 99\tTrain loss: 0.0422\n",
      "17:20:23 --- Epoch: 109\tTrain loss: 0.0422\n",
      "17:20:23 --- Epoch: 119\tTrain loss: 0.0422\n",
      "17:20:23 --- Epoch: 129\tTrain loss: 0.0422\n",
      "17:20:23 --- Epoch: 139\tTrain loss: 0.0422\n",
      "17:20:23 --- Epoch: 149\tTrain loss: 0.0422\n",
      "17:20:23 --- Epoch: 159\tTrain loss: 0.0422\n",
      "17:20:23 --- Epoch: 169\tTrain loss: 0.0422\n",
      "17:20:23 --- Epoch: 179\tTrain loss: 0.0422\n",
      "17:20:23 --- Epoch: 189\tTrain loss: 0.0422\n",
      "17:20:23 --- Epoch: 199\tTrain loss: 0.0422\n",
      "17:20:23 --- Epoch: 209\tTrain loss: 0.0422\n",
      "17:20:23 --- Epoch: 219\tTrain loss: 0.0422\n",
      "17:20:23 --- Epoch: 229\tTrain loss: 0.0422\n",
      "17:20:23 --- Epoch: 239\tTrain loss: 0.0422\n",
      "17:20:23 --- Epoch: 249\tTrain loss: 0.0422\n",
      "17:20:23 --- Epoch: 259\tTrain loss: 0.0422\n",
      "17:20:23 --- Epoch: 269\tTrain loss: 0.0422\n",
      "17:20:23 --- Epoch: 279\tTrain loss: 0.0422\n",
      "17:20:23 --- Epoch: 289\tTrain loss: 0.0422\n",
      "17:20:23 --- Epoch: 299\tTrain loss: 0.0422\n",
      "17:20:23 --- Epoch: 309\tTrain loss: 0.0422\n",
      "17:20:23 --- Epoch: 319\tTrain loss: 0.0422\n",
      "17:20:23 --- Epoch: 329\tTrain loss: 0.0422\n",
      "17:20:24 --- Epoch: 339\tTrain loss: 0.0422\n",
      "17:20:24 --- Epoch: 349\tTrain loss: 0.0422\n",
      "17:20:24 --- Epoch: 359\tTrain loss: 0.0422\n",
      "17:20:24 --- Epoch: 369\tTrain loss: 0.0422\n",
      "17:20:24 --- Epoch: 379\tTrain loss: 0.0422\n",
      "17:20:24 --- Epoch: 389\tTrain loss: 0.0422\n",
      "17:20:24 --- Epoch: 399\tTrain loss: 0.0422\n",
      "17:20:24 --- Epoch: 409\tTrain loss: 0.0422\n",
      "17:20:24 --- Epoch: 419\tTrain loss: 0.0422\n",
      "17:20:24 --- Epoch: 429\tTrain loss: 0.0422\n",
      "17:20:24 --- Epoch: 439\tTrain loss: 0.0422\n",
      "17:20:24 --- Epoch: 449\tTrain loss: 0.0422\n",
      "17:20:24 --- Epoch: 459\tTrain loss: 0.0422\n",
      "17:20:24 --- Epoch: 469\tTrain loss: 0.0422\n",
      "17:20:24 --- Epoch: 479\tTrain loss: 0.0422\n",
      "17:20:24 --- Epoch: 489\tTrain loss: 0.0422\n",
      "17:20:24 --- Epoch: 499\tTrain loss: 0.0422\n",
      "17:20:24 --- Epoch: 509\tTrain loss: 0.0422\n",
      "17:20:24 --- Epoch: 519\tTrain loss: 0.0422\n",
      "17:20:24 --- Epoch: 529\tTrain loss: 0.0422\n",
      "17:20:24 --- Epoch: 539\tTrain loss: 0.0422\n",
      "17:20:24 --- Epoch: 549\tTrain loss: 0.0422\n",
      "17:20:25 --- Epoch: 559\tTrain loss: 0.0422\n",
      "17:20:25 --- Epoch: 569\tTrain loss: 0.0422\n",
      "17:20:25 --- Epoch: 579\tTrain loss: 0.0422\n",
      "17:20:25 --- Epoch: 589\tTrain loss: 0.0422\n",
      "17:20:25 --- Epoch: 599\tTrain loss: 0.0422\n",
      "17:20:25 --- Epoch: 609\tTrain loss: 0.0422\n",
      "17:20:25 --- Epoch: 619\tTrain loss: 0.0422\n",
      "17:20:25 --- Epoch: 629\tTrain loss: 0.0422\n",
      "17:20:25 --- Epoch: 639\tTrain loss: 0.0422\n",
      "17:20:25 --- Epoch: 649\tTrain loss: 0.0422\n",
      "17:20:25 --- Epoch: 659\tTrain loss: 0.0422\n",
      "17:20:25 --- Epoch: 669\tTrain loss: 0.0422\n",
      "17:20:25 --- Epoch: 679\tTrain loss: 0.0422\n",
      "17:20:25 --- Epoch: 689\tTrain loss: 0.0422\n",
      "17:20:25 --- Epoch: 699\tTrain loss: 0.0422\n",
      "17:20:25 --- Epoch: 709\tTrain loss: 0.0422\n",
      "17:20:25 --- Epoch: 719\tTrain loss: 0.0422\n",
      "17:20:25 --- Epoch: 729\tTrain loss: 0.0422\n",
      "17:20:25 --- Epoch: 739\tTrain loss: 0.0422\n",
      "17:20:25 --- Epoch: 749\tTrain loss: 0.0422\n",
      "17:20:25 --- Epoch: 759\tTrain loss: 0.0422\n",
      "17:20:25 --- Epoch: 769\tTrain loss: 0.0422\n",
      "17:20:25 --- Epoch: 779\tTrain loss: 0.0422\n",
      "17:20:26 --- Epoch: 789\tTrain loss: 0.0422\n",
      "17:20:26 --- Epoch: 799\tTrain loss: 0.0422\n",
      "17:20:26 --- Epoch: 809\tTrain loss: 0.0422\n",
      "17:20:26 --- Epoch: 819\tTrain loss: 0.0422\n",
      "17:20:26 --- Epoch: 829\tTrain loss: 0.0422\n",
      "17:20:26 --- Epoch: 839\tTrain loss: 0.0422\n",
      "17:20:26 --- Epoch: 849\tTrain loss: 0.0422\n",
      "17:20:26 --- Epoch: 859\tTrain loss: 0.0422\n",
      "17:20:26 --- Epoch: 869\tTrain loss: 0.0422\n",
      "17:20:26 --- Epoch: 879\tTrain loss: 0.0422\n",
      "17:20:26 --- Epoch: 889\tTrain loss: 0.0422\n",
      "17:20:26 --- Epoch: 899\tTrain loss: 0.0422\n",
      "17:20:26 --- Epoch: 909\tTrain loss: 0.0422\n",
      "17:20:26 --- Epoch: 919\tTrain loss: 0.0422\n",
      "17:20:26 --- Epoch: 929\tTrain loss: 0.0422\n",
      "17:20:26 --- Epoch: 939\tTrain loss: 0.0422\n",
      "17:20:26 --- Epoch: 949\tTrain loss: 0.0422\n",
      "17:20:26 --- Epoch: 959\tTrain loss: 0.0422\n",
      "17:20:26 --- Epoch: 969\tTrain loss: 0.0422\n",
      "17:20:27 --- Epoch: 979\tTrain loss: 0.0422\n",
      "17:20:27 --- Epoch: 989\tTrain loss: 0.0422\n",
      "17:20:27 --- Epoch: 999\tTrain loss: 0.0422\n"
     ]
    },
    {
     "ename": "NameError",
     "evalue": "name 'plot_losses' is not defined",
     "output_type": "error",
     "traceback": [
      "\u001b[1;31m---------------------------------------------------------------------------\u001b[0m",
      "\u001b[1;31mNameError\u001b[0m                                 Traceback (most recent call last)",
      "Input \u001b[1;32mIn [429]\u001b[0m, in \u001b[0;36m<cell line: 6>\u001b[1;34m()\u001b[0m\n\u001b[0;32m      3\u001b[0m optimizer \u001b[38;5;241m=\u001b[39m torch\u001b[38;5;241m.\u001b[39moptim\u001b[38;5;241m.\u001b[39mAdam(model\u001b[38;5;241m.\u001b[39mparameters(), lr\u001b[38;5;241m=\u001b[39mLEARNING_RATE)\n\u001b[0;32m      4\u001b[0m criterion \u001b[38;5;241m=\u001b[39m nn\u001b[38;5;241m.\u001b[39mMSELoss()\n\u001b[1;32m----> 6\u001b[0m model, optimizer, _ \u001b[38;5;241m=\u001b[39m \u001b[43mtraining_loop\u001b[49m\u001b[43m(\u001b[49m\u001b[43mmodel\u001b[49m\u001b[43m,\u001b[49m\u001b[43m \u001b[49m\u001b[43mcriterion\u001b[49m\u001b[43m,\u001b[49m\u001b[43m \u001b[49m\u001b[43moptimizer\u001b[49m\u001b[43m,\u001b[49m\u001b[43m \u001b[49m\u001b[43mtrain_loader\u001b[49m\u001b[43m,\u001b[49m\u001b[43m \u001b[49m\u001b[43mN_EPOCHS\u001b[49m\u001b[43m,\u001b[49m\u001b[43m \u001b[49m\u001b[43mdevice\u001b[49m\u001b[43m)\u001b[49m\n",
      "Input \u001b[1;32mIn [388]\u001b[0m, in \u001b[0;36mtraining_loop\u001b[1;34m(model, criterion, optimizer, train_loader, epochs, device, print_every)\u001b[0m\n\u001b[0;32m     17\u001b[0m     \u001b[38;5;28;01mif\u001b[39;00m epoch \u001b[38;5;241m%\u001b[39m print_every \u001b[38;5;241m==\u001b[39m (print_every \u001b[38;5;241m-\u001b[39m \u001b[38;5;241m1\u001b[39m):\n\u001b[0;32m     18\u001b[0m         \u001b[38;5;28mprint\u001b[39m(\u001b[38;5;124mf\u001b[39m\u001b[38;5;124m'\u001b[39m\u001b[38;5;132;01m{\u001b[39;00mdatetime\u001b[38;5;241m.\u001b[39mnow()\u001b[38;5;241m.\u001b[39mtime()\u001b[38;5;241m.\u001b[39mreplace(microsecond\u001b[38;5;241m=\u001b[39m\u001b[38;5;241m0\u001b[39m)\u001b[38;5;132;01m}\u001b[39;00m\u001b[38;5;124m --- \u001b[39m\u001b[38;5;124m'\u001b[39m\n\u001b[0;32m     19\u001b[0m               \u001b[38;5;124mf\u001b[39m\u001b[38;5;124m'\u001b[39m\u001b[38;5;124mEpoch: \u001b[39m\u001b[38;5;132;01m{\u001b[39;00mepoch\u001b[38;5;132;01m}\u001b[39;00m\u001b[38;5;130;01m\\t\u001b[39;00m\u001b[38;5;124m'\u001b[39m\n\u001b[0;32m     20\u001b[0m               \u001b[38;5;124mf\u001b[39m\u001b[38;5;124m'\u001b[39m\u001b[38;5;124mTrain loss: \u001b[39m\u001b[38;5;132;01m{\u001b[39;00mtrain_loss\u001b[38;5;132;01m:\u001b[39;00m\u001b[38;5;124m.4f\u001b[39m\u001b[38;5;132;01m}\u001b[39;00m\u001b[38;5;124m'\u001b[39m)\n\u001b[1;32m---> 22\u001b[0m \u001b[43mplot_losses\u001b[49m(train_losses, valid_losses)\n\u001b[0;32m     24\u001b[0m \u001b[38;5;28;01mreturn\u001b[39;00m model, optimizer, train_losses\n",
      "\u001b[1;31mNameError\u001b[0m: name 'plot_losses' is not defined"
     ]
    }
   ],
   "source": [
    "torch.manual_seed(RANDOM_SEED)\n",
    "model = LeNet5(device).to(device)\n",
    "optimizer = torch.optim.Adam(model.parameters(), lr=LEARNING_RATE)\n",
    "criterion = nn.MSELoss()\n",
    "\n",
    "model, optimizer, _ = training_loop(model, criterion, optimizer, train_loader, N_EPOCHS, device)"
   ]
  },
  {
   "cell_type": "code",
   "execution_count": 430,
   "id": "c12a9f51",
   "metadata": {
    "ExecuteTime": {
     "end_time": "2022-03-26T16:20:30.917874Z",
     "start_time": "2022-03-26T16:20:30.900257Z"
    }
   },
   "outputs": [],
   "source": [
    "with torch.no_grad():\n",
    "    y = model(next(iter(train_loader))[0].to(device))"
   ]
  },
  {
   "cell_type": "code",
   "execution_count": 431,
   "id": "144b0b91",
   "metadata": {
    "ExecuteTime": {
     "end_time": "2022-03-26T16:20:31.324228Z",
     "start_time": "2022-03-26T16:20:31.311934Z"
    }
   },
   "outputs": [
    {
     "data": {
      "text/plain": [
       "tensor([[[[0.0000, 0.0000, 0.0000,  ..., 0.0000, 0.0000, 0.0000],\n",
       "          [0.0000, 0.0000, 0.0000,  ..., 0.0000, 0.0000, 0.0000],\n",
       "          [0.0000, 0.0000, 0.0000,  ..., 0.0000, 0.0000, 0.0000],\n",
       "          ...,\n",
       "          [0.0000, 0.0000, 0.0000,  ..., 0.0106, 0.0348, 0.0273],\n",
       "          [0.0000, 0.0000, 0.0000,  ..., 0.0070, 0.0158, 0.0140],\n",
       "          [0.0000, 0.0000, 0.0000,  ..., 0.0011, 0.0000, 0.0013]]]],\n",
       "       device='cuda:0')"
      ]
     },
     "execution_count": 431,
     "metadata": {},
     "output_type": "execute_result"
    }
   ],
   "source": [
    "y"
   ]
  },
  {
   "cell_type": "code",
   "execution_count": 432,
   "id": "ef78a69b",
   "metadata": {
    "ExecuteTime": {
     "end_time": "2022-03-26T16:20:32.701560Z",
     "start_time": "2022-03-26T16:20:32.595960Z"
    }
   },
   "outputs": [
    {
     "data": {
      "text/plain": [
       "<Figure size 432x288 with 0 Axes>"
      ]
     },
     "execution_count": 432,
     "metadata": {},
     "output_type": "execute_result"
    },
    {
     "data": {
      "image/png": "[encoded data removed]",
      "text/plain": [
       "<Figure size 432x288 with 1 Axes>"
      ]
     },
     "metadata": {
      "needs_background": "light"
     },
     "output_type": "display_data"
    },
    {
     "data": {
      "text/plain": [
       "<Figure size 432x288 with 0 Axes>"
      ]
     },
     "metadata": {},
     "output_type": "display_data"
    }
   ],
   "source": [
    "plt.imshow(y.detach().cpu().squeeze(0).permute(1,2,0), cmap='gray')\n",
    "plt.figure()"
   ]
  },
  {
   "cell_type": "code",
   "execution_count": null,
   "id": "e74948ef",
   "metadata": {},
   "outputs": [],
   "source": []
  }
 ],
 "metadata": {
  "kernelspec": {
   "display_name": "Python 3 (ipykernel)",
   "language": "python",
   "name": "python3"
  },
  "language_info": {
   "codemirror_mode": {
    "name": "ipython",
    "version": 3
   },
   "file_extension": ".py",
   "mimetype": "text/x-python",
   "name": "python",
   "nbconvert_exporter": "python",
   "pygments_lexer": "ipython3",
   "version": "3.9.5"
  },
  "toc": {
   "base_numbering": 1,
   "nav_menu": {},
   "number_sections": true,
   "sideBar": true,
   "skip_h1_title": false,
   "title_cell": "Table of Contents",
   "title_sidebar": "Contents",
   "toc_cell": false,
   "toc_position": {},
   "toc_section_display": true,
   "toc_window_display": false
  }
 },
 "nbformat": 4,
 "nbformat_minor": 5
}
