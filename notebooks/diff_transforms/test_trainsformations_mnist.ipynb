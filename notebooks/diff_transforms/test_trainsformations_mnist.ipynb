{
 "cells": [
  {
   "cell_type": "markdown",
   "id": "ac2c37a8",
   "metadata": {},
   "source": [
    "# Libs, cuda, seed, params"
   ]
  },
  {
   "cell_type": "code",
   "execution_count": 4,
   "id": "316f9153",
   "metadata": {
    "ExecuteTime": {
     "end_time": "2022-03-27T01:51:55.296081Z",
     "start_time": "2022-03-27T01:51:55.285908Z"
    }
   },
   "outputs": [],
   "source": [
    "import torch\n",
    "import torch.nn as nn\n",
    "import torch.nn.functional as F\n",
    "from torch.utils.data import Dataset, DataLoader\n",
    "from torchvision.io import read_image\n",
    "import torchvision.transforms as T\n",
    "import numpy as np\n",
    "import matplotlib.pyplot as plt\n",
    "from PIL import Image\n",
    "from datetime import datetime\n",
    "from torch.nn.utils import clip_grad_norm_"
   ]
  },
  {
   "cell_type": "code",
   "execution_count": 5,
   "id": "3cae1e6e",
   "metadata": {
    "ExecuteTime": {
     "end_time": "2022-03-27T01:51:55.822008Z",
     "start_time": "2022-03-27T01:51:55.808816Z"
    }
   },
   "outputs": [
    {
     "data": {
      "text/plain": [
       "device(type='cuda')"
      ]
     },
     "execution_count": 5,
     "metadata": {},
     "output_type": "execute_result"
    }
   ],
   "source": [
    "device = torch.device(\"cuda\" if torch.cuda.is_available() else \"cpu\")\n",
    "device"
   ]
  },
  {
   "cell_type": "code",
   "execution_count": 17,
   "id": "111b9a7d",
   "metadata": {
    "ExecuteTime": {
     "end_time": "2022-03-27T01:51:55.852974Z",
     "start_time": "2022-03-27T01:51:55.840971Z"
    }
   },
   "outputs": [],
   "source": [
    "# parameters\n",
    "RANDOM_SEED = 420\n",
    "LEARNING_RATE = 0.01\n",
    "BATCH_SIZE = 1\n",
    "N_EPOCHS = 400\n",
    "IMG_SIZE = 32"
   ]
  },
  {
   "cell_type": "markdown",
   "id": "529bdb05",
   "metadata": {},
   "source": [
    "# Data"
   ]
  },
  {
   "cell_type": "code",
   "execution_count": 7,
   "id": "c924b3d0",
   "metadata": {
    "ExecuteTime": {
     "end_time": "2022-03-27T01:51:55.914997Z",
     "start_time": "2022-03-27T01:51:55.906973Z"
    }
   },
   "outputs": [],
   "source": [
    "def convert_img_to_gray(image, path=None):\n",
    "    imgGray = image.convert('L')\n",
    "    if path:\n",
    "        imgGray.save(path)\n",
    "    return imgGray\n",
    "\n",
    "def get_data(img_in_path, img_out_path):\n",
    "    img_in = Image.open(img_in_path+\".jpg\")\n",
    "    img_out = Image.open(img_out_path+\".jpg\")\n",
    "    img_in = convert_img_to_gray(img_in, img_in_path+\"_bw.jpg\")\n",
    "    img_out = convert_img_to_gray(img_out, img_out_path+\"_bw.jpg\")\n",
    "    \n",
    "    transform = T.Compose(transforms=[\n",
    "        T.ToPILImage(),\n",
    "        T.Resize(size=(IMG_SIZE, IMG_SIZE)),\n",
    "        T.ToTensor()\n",
    "    ])\n",
    "    \n",
    "    img_in = transform(read_image(img_in_path+\"_bw.jpg\"))\n",
    "    img_out = transform(read_image(img_out_path+\"_bw.jpg\"))\n",
    "    \n",
    "    return img_in, img_out"
   ]
  },
  {
   "cell_type": "code",
   "execution_count": 9,
   "id": "741a97b4",
   "metadata": {},
   "outputs": [],
   "source": [
    "class CustomTestDataset(Dataset):\n",
    "    def __init__(self, image_in, image_out):\n",
    "        self.img_labels = (image_in, image_out)\n",
    "\n",
    "    def __len__(self):\n",
    "        return 1\n",
    "\n",
    "    def __getitem__(self, idx):\n",
    "        return self.img_labels[0], self.img_labels[1]"
   ]
  },
  {
   "cell_type": "code",
   "execution_count": 8,
   "id": "7380ae95",
   "metadata": {},
   "outputs": [],
   "source": [
    "im_in_path = 'images/only_trans/one_bottom_little'\n",
    "im_out_path = 'images/only_trans/one_center'\n",
    "im_in, im_out = get_data(img_in_path=im_in_path, img_out_path=im_out_path)"
   ]
  },
  {
   "cell_type": "code",
   "execution_count": 10,
   "id": "9c78820b",
   "metadata": {
    "ExecuteTime": {
     "end_time": "2022-03-27T01:51:56.540183Z",
     "start_time": "2022-03-27T01:51:56.521182Z"
    }
   },
   "outputs": [],
   "source": [
    "train_loader = DataLoader(dataset=CustomTestDataset(im_in, im_out), \n",
    "                          batch_size=BATCH_SIZE, \n",
    "                          shuffle=False)"
   ]
  },
  {
   "cell_type": "markdown",
   "id": "e50d2640",
   "metadata": {},
   "source": [
    "# Transform functions"
   ]
  },
  {
   "cell_type": "code",
   "execution_count": 11,
   "id": "70a48ef9",
   "metadata": {
    "ExecuteTime": {
     "end_time": "2022-03-27T01:51:57.301514Z",
     "start_time": "2022-03-27T01:51:57.297774Z"
    }
   },
   "outputs": [],
   "source": [
    "def get_transform_matrix(theta, scale_factor, trans_x, trans_y, device):\n",
    "    theta_cos = torch.cos(input=theta)\n",
    "    theta_sin = torch.sin(input=theta)\n",
    "    return torch.stack(tensors=[scale_factor*theta_cos, scale_factor * (-theta_sin), trans_x, scale_factor * theta_sin, scale_factor*theta_cos, trans_y]).view(2,3)\n",
    "\n",
    "\n",
    "def transform_img(x, theta, scale_factor, trans_x, trans_y, device):\n",
    "    scale_mat = get_transform_matrix(theta = theta, scale_factor=scale_factor, trans_x=trans_x, trans_y=trans_y,device=device).unsqueeze(dim=0).repeat(x.shape[0],1,1)    # repeat for whole batch\n",
    "    grid = F.affine_grid(theta=scale_mat, size=x.size(), align_corners=False)\n",
    "    x = F.grid_sample(input=x, grid=grid, align_corners=False)\n",
    "    return x\n",
    "\n",
    "\n",
    "def transform_img_with_matrix(x, trans_matrix):\n",
    "    scale_mat = trans_matrix.view(2,3).unsqueeze(dim=0).repeat(x.shape[0],1,1)    # repeat for whole batch\n",
    "    grid = F.affine_grid(theta=scale_mat, size=x.size(), align_corners=False)\n",
    "    x = F.grid_sample(input=x, grid=grid, align_corners=False)\n",
    "    return x"
   ]
  },
  {
   "cell_type": "markdown",
   "id": "26d27b3c",
   "metadata": {},
   "source": [
    "# Network"
   ]
  },
  {
   "cell_type": "markdown",
   "id": "f80a8487",
   "metadata": {},
   "source": [
    "+ Functions"
   ]
  },
  {
   "cell_type": "code",
   "execution_count": 12,
   "id": "f44c1a9d",
   "metadata": {
    "ExecuteTime": {
     "end_time": "2022-03-27T01:51:58.403160Z",
     "start_time": "2022-03-27T01:51:58.392782Z"
    }
   },
   "outputs": [],
   "source": [
    "def train(train_loader, model, criterion, optimizer, device):\n",
    "    model.train()\n",
    "    running_loss = 0\n",
    "    \n",
    "    for X, y_true in train_loader:\n",
    "        optimizer.zero_grad()\n",
    "        \n",
    "        X = X.to(device)\n",
    "        y_true = y_true.to(device)\n",
    "    \n",
    "        y_hat = model(X) \n",
    "        loss = criterion(y_hat, y_true) \n",
    "        running_loss += loss.item() * X.size(0)\n",
    "\n",
    "        loss.backward()\n",
    "        clip_grad_norm_(model.parameters(), max_norm=0.1)\n",
    "        optimizer.step()\n",
    "        \n",
    "    epoch_loss = running_loss / len(train_loader.dataset)\n",
    "    return model, optimizer, epoch_loss"
   ]
  },
  {
   "cell_type": "code",
   "execution_count": 13,
   "id": "4732b493",
   "metadata": {
    "ExecuteTime": {
     "end_time": "2022-03-27T01:51:58.744386Z",
     "start_time": "2022-03-27T01:51:58.736387Z"
    }
   },
   "outputs": [],
   "source": [
    "def training_loop(model, criterion, optimizer, train_loader, epochs, device, print_every=50):\n",
    "    best_loss = 1e10\n",
    "    train_losses = []\n",
    " \n",
    "    for epoch in range(0, epochs):\n",
    "        model, optimizer, train_loss = train(train_loader, model, criterion, optimizer, device)\n",
    "        train_losses.append(train_loss)\n",
    "        \n",
    "        if epoch % print_every == (print_every - 1):\n",
    "            print(f'{datetime.now().time().replace(microsecond=0)} --- '\n",
    "                  f'Epoch: {epoch}\\t'\n",
    "                  f'Train loss: {train_loss:.4f}')\n",
    "    \n",
    "    return model, optimizer, train_losses"
   ]
  },
  {
   "cell_type": "markdown",
   "id": "dc7e0734",
   "metadata": {},
   "source": [
    "+ Model"
   ]
  },
  {
   "cell_type": "code",
   "execution_count": 14,
   "id": "98dcfe42",
   "metadata": {
    "ExecuteTime": {
     "end_time": "2022-03-27T01:51:59.132986Z",
     "start_time": "2022-03-27T01:51:59.125282Z"
    }
   },
   "outputs": [],
   "source": [
    "class AttentionTransformation(nn.Module):\n",
    "\n",
    "    def __init__(self, device, img_size):\n",
    "        super().__init__()\n",
    "        \n",
    "        self.device = device\n",
    "        self.img_size = img_size\n",
    "        \n",
    "        self.feature_extractor = nn.Sequential(            \n",
    "            nn.Conv2d(in_channels=1, out_channels=8, kernel_size=5, stride=1),\n",
    "            nn.LeakyReLU(),\n",
    "            nn.Conv2d(in_channels=8, out_channels=4, kernel_size=3, stride=1),\n",
    "            nn.LeakyReLU(),\n",
    "            nn.Conv2d(in_channels=4, out_channels=6, kernel_size=3, stride=2),\n",
    "            nn.LeakyReLU(),\n",
    "            nn.Conv2d(in_channels=6, out_channels=3, kernel_size=2, stride=2),\n",
    "            \n",
    "        )\n",
    "        \n",
    "        self.transf_ff = nn.Sequential(\n",
    "            nn.Linear(in_features=108, out_features=50),\n",
    "            nn.ReLU(),\n",
    "            nn.Linear(in_features=50, out_features=4)\n",
    "        )\n",
    "        \n",
    "        self.scale_ff = nn.Sequential(\n",
    "            nn.Linear(in_features=4, out_features=1),\n",
    "        )\n",
    "        \n",
    "        self.rot_ff = nn.Sequential(\n",
    "            nn.Linear(in_features=4, out_features=1)\n",
    "        )\n",
    "        \n",
    "        self.trans_x_ff = nn.Sequential(\n",
    "            nn.Linear(in_features=4, out_features=1),\n",
    "            nn.Tanh()\n",
    "        ) \n",
    "            \n",
    "        self.trans_y_ff = nn.Sequential(\n",
    "            nn.Linear(in_features=4, out_features=1),\n",
    "            nn.Tanh()\n",
    "        )\n",
    "        \n",
    "        # zeroing transformation weights\n",
    "        with torch.no_grad():\n",
    "            self.transf_ff[0].weight.data.zero_()\n",
    "            self.transf_ff[2].weight.data.zero_()            \n",
    "            self.scale_ff[0].weight.data.zero_()            \n",
    "            self.rot_ff[0].weight.data.zero_()            \n",
    "            self.trans_x_ff[0].weight.data.zero_()                       \n",
    "            self.trans_y_ff[0].weight.data.zero_()\n",
    "\n",
    "\n",
    "    def forward(self, x_inp, is_evaling=False):\n",
    "        x = self.feature_extractor(x_inp)\n",
    "        x = torch.flatten(x, 1)\n",
    "        trans = self.transf_ff(x)\n",
    "        trans_x = self.trans_x_ff(trans)\n",
    "        trans_y = self.trans_y_ff(trans)\n",
    "        scale_factor = torch.exp(self.scale_ff(trans))\n",
    "        rot_factor = self.rot_ff(trans)\n",
    "        if is_evaling:\n",
    "            print(\"Params:\\n-Scale: \" + str(scale_factor)+ \"\\n-Theta: \" + str(rot_factor)+\"\\n-Trans_x: \" + str(trans_x)+\"\\n-Trans_y: \" + str(trans_y))\n",
    "        trans_x =transform_img(x=x_inp, theta=rot_factor, scale_factor=scale_factor, device=self.device, trans_x=trans_x, trans_y=trans_y)\n",
    "        return trans_x"
   ]
  },
  {
   "cell_type": "code",
   "execution_count": 18,
   "id": "e93391c9",
   "metadata": {
    "ExecuteTime": {
     "end_time": "2022-03-27T01:51:59.352232Z",
     "start_time": "2022-03-27T01:51:59.329235Z"
    }
   },
   "outputs": [],
   "source": [
    "torch.manual_seed(RANDOM_SEED)\n",
    "model = AttentionTransformation(device,IMG_SIZE).to(device)\n",
    "optimizer = torch.optim.Adam(model.parameters(), lr=LEARNING_RATE)\n",
    "criterion = nn.MSELoss(reduction=\"mean\")"
   ]
  },
  {
   "cell_type": "code",
   "execution_count": 19,
   "id": "ed6017aa",
   "metadata": {
    "ExecuteTime": {
     "end_time": "2022-03-27T01:52:06.550823Z",
     "start_time": "2022-03-27T01:51:59.697914Z"
    },
    "scrolled": true
   },
   "outputs": [
    {
     "name": "stdout",
     "output_type": "stream",
     "text": [
      "11:19:00 --- Epoch: 29\tTrain loss: 0.0035\n",
      "11:19:01 --- Epoch: 59\tTrain loss: 0.0001\n",
      "11:19:01 --- Epoch: 89\tTrain loss: 0.0001\n",
      "11:19:01 --- Epoch: 119\tTrain loss: 0.0001\n",
      "11:19:02 --- Epoch: 149\tTrain loss: 0.0001\n",
      "11:19:02 --- Epoch: 179\tTrain loss: 0.0001\n",
      "11:19:03 --- Epoch: 209\tTrain loss: 0.0001\n",
      "11:19:03 --- Epoch: 239\tTrain loss: 0.0001\n",
      "11:19:03 --- Epoch: 269\tTrain loss: 0.0001\n",
      "11:19:04 --- Epoch: 299\tTrain loss: 0.0001\n",
      "11:19:04 --- Epoch: 329\tTrain loss: 0.0001\n",
      "11:19:04 --- Epoch: 359\tTrain loss: 0.0001\n",
      "11:19:05 --- Epoch: 389\tTrain loss: 0.0001\n"
     ]
    }
   ],
   "source": [
    "model, optimizer, _ = training_loop(model, criterion, optimizer, train_loader, N_EPOCHS, device, print_every=30)"
   ]
  },
  {
   "cell_type": "markdown",
   "id": "e709c3bc",
   "metadata": {},
   "source": [
    "# Evaluation"
   ]
  },
  {
   "cell_type": "code",
   "execution_count": 22,
   "id": "122d9547",
   "metadata": {},
   "outputs": [],
   "source": [
    "def evaluate_model(model, train_loader, device):\n",
    "  img_inp, img_out = next(iter(train_loader))\n",
    "  \n",
    "  print(\"Proposed transformation\", end=\" \")\n",
    "  with torch.no_grad():\n",
    "    y = model(img_inp.to(device),is_evaling=True)\n",
    "  \n",
    "  print(f\"Shape of prediction: {y.shape}\")\n",
    "  \n",
    "  print(f\"Images:\")\n",
    "  fig, ax = plt.subplots(nrows=1, ncols=3, figsize=(18, 5))\n",
    "  ax[0].title.set_text(\"Input\")\n",
    "  ax[0].imshow(img_inp.detach().cpu().squeeze(0).permute(1,2,0), cmap='gray')\n",
    "  ax[1].title.set_text(\"Prediction\")\n",
    "  ax[1].imshow(y.detach().cpu().squeeze(0).permute(1,2,0), cmap='gray')\n",
    "  ax[2].title.set_text(\"Target\")\n",
    "  ax[2].imshow(img_out.detach().cpu().squeeze(0).permute(1,2,0), cmap='gray')\n",
    "  plt.show()"
   ]
  },
  {
   "cell_type": "code",
   "execution_count": 23,
   "id": "cfac6e80",
   "metadata": {},
   "outputs": [
    {
     "name": "stdout",
     "output_type": "stream",
     "text": [
      "Proposed transformation Params:\n",
      "-Scale: tensor([[1.0011]], device='cuda:0')\n",
      "-Theta: tensor([[-7.4506e-08]], device='cuda:0')\n",
      "-Trans_x: tensor([[1.8626e-08]], device='cuda:0')\n",
      "-Trans_y: tensor([[0.1254]], device='cuda:0')\n",
      "Shape of prediction: torch.Size([1, 1, 32, 32])\n",
      "Images:\n"
     ]
    },
    {
     "data": {
      "image/png": "[encoded data removed]",
      "text/plain": [
       "<Figure size 1296x360 with 3 Axes>"
      ]
     },
     "metadata": {
      "needs_background": "light"
     },
     "output_type": "display_data"
    }
   ],
   "source": [
    "evaluate_model(model, train_loader, device)"
   ]
  },
  {
   "cell_type": "markdown",
   "id": "9ea8786b",
   "metadata": {},
   "source": [
    "# More examples:"
   ]
  },
  {
   "cell_type": "code",
   "execution_count": 27,
   "id": "4e1f8b5a",
   "metadata": {},
   "outputs": [],
   "source": [
    "# parameters\n",
    "RANDOM_SEED = 420\n",
    "LEARNING_RATE = 0.01\n",
    "BATCH_SIZE = 1\n",
    "N_EPOCHS = 400\n",
    "IMG_SIZE = 32\n",
    "\n",
    "im2_in_path = 'images/only_trans/one_another_weird'\n",
    "im2_out_path = 'images/only_trans/one_center'\n",
    "im2_in, im2_out = get_data(img_in_path=im2_in_path, img_out_path=im2_out_path)\n",
    "\n",
    "train_loader2 = DataLoader(dataset=CustomTestDataset(im2_in, im2_out), \n",
    "                          batch_size=BATCH_SIZE, \n",
    "                          shuffle=False)"
   ]
  },
  {
   "cell_type": "code",
   "execution_count": 28,
   "id": "c6a0bec8",
   "metadata": {},
   "outputs": [
    {
     "name": "stdout",
     "output_type": "stream",
     "text": [
      "11:24:14 --- Epoch: 29\tTrain loss: 0.0355\n",
      "11:24:15 --- Epoch: 59\tTrain loss: 0.0262\n",
      "11:24:15 --- Epoch: 89\tTrain loss: 0.0168\n",
      "11:24:15 --- Epoch: 119\tTrain loss: 0.0168\n",
      "11:24:16 --- Epoch: 149\tTrain loss: 0.0168\n",
      "11:24:16 --- Epoch: 179\tTrain loss: 0.0168\n",
      "11:24:17 --- Epoch: 209\tTrain loss: 0.0168\n",
      "11:24:17 --- Epoch: 239\tTrain loss: 0.0168\n",
      "11:24:17 --- Epoch: 269\tTrain loss: 0.0168\n",
      "11:24:18 --- Epoch: 299\tTrain loss: 0.0168\n",
      "11:24:18 --- Epoch: 329\tTrain loss: 0.0168\n",
      "11:24:18 --- Epoch: 359\tTrain loss: 0.0168\n",
      "11:24:19 --- Epoch: 389\tTrain loss: 0.0168\n"
     ]
    }
   ],
   "source": [
    "torch.manual_seed(RANDOM_SEED)\n",
    "model2 = AttentionTransformation(device,IMG_SIZE).to(device)\n",
    "optimizer2 = torch.optim.Adam(model2.parameters(), lr=LEARNING_RATE)\n",
    "criterion2 = nn.MSELoss(reduction=\"mean\")\n",
    "\n",
    "model2, optimizer2, _ = training_loop(model2, criterion2, optimizer2, train_loader2, N_EPOCHS, device, print_every=30)"
   ]
  },
  {
   "cell_type": "code",
   "execution_count": 29,
   "id": "be2eb281",
   "metadata": {},
   "outputs": [
    {
     "name": "stdout",
     "output_type": "stream",
     "text": [
      "Proposed transformation Params:\n",
      "-Scale: tensor([[0.5568]], device='cuda:0')\n",
      "-Theta: tensor([[9.9689e-06]], device='cuda:0')\n",
      "-Trans_x: tensor([[-0.1249]], device='cuda:0')\n",
      "-Trans_y: tensor([[0.0107]], device='cuda:0')\n",
      "Shape of prediction: torch.Size([1, 1, 32, 32])\n",
      "Images:\n"
     ]
    },
    {
     "data": {
      "image/png": "[encoded data removed]",
      "text/plain": [
       "<Figure size 1296x360 with 3 Axes>"
      ]
     },
     "metadata": {
      "needs_background": "light"
     },
     "output_type": "display_data"
    }
   ],
   "source": [
    "evaluate_model(model2, train_loader2, device)"
   ]
  },
  {
   "cell_type": "code",
   "execution_count": 42,
   "id": "4d53e25e",
   "metadata": {},
   "outputs": [],
   "source": [
    "# parameters\n",
    "RANDOM_SEED = 420\n",
    "LEARNING_RATE = 0.0001\n",
    "BATCH_SIZE = 1\n",
    "N_EPOCHS = 900\n",
    "IMG_SIZE = 32\n",
    "\n",
    "im3_in_path = 'images/only_trans/one_center'\n",
    "im3_out_path = 'images/only_trans/one_another_weird'\n",
    "im3_in, im3_out = get_data(img_in_path=im3_in_path, img_out_path=im3_out_path)\n",
    "\n",
    "train_loader3 = DataLoader(dataset=CustomTestDataset(im3_in, im3_out), \n",
    "                          batch_size=BATCH_SIZE, \n",
    "                          shuffle=False)"
   ]
  },
  {
   "cell_type": "code",
   "execution_count": 43,
   "id": "5c96e0e3",
   "metadata": {},
   "outputs": [
    {
     "name": "stdout",
     "output_type": "stream",
     "text": [
      "11:27:09 --- Epoch: 29\tTrain loss: 0.1001\n",
      "11:27:09 --- Epoch: 59\tTrain loss: 0.0991\n",
      "11:27:09 --- Epoch: 89\tTrain loss: 0.0968\n",
      "11:27:10 --- Epoch: 119\tTrain loss: 0.0940\n",
      "11:27:10 --- Epoch: 149\tTrain loss: 0.0866\n",
      "11:27:11 --- Epoch: 179\tTrain loss: 0.0736\n",
      "11:27:11 --- Epoch: 209\tTrain loss: 0.0613\n",
      "11:27:11 --- Epoch: 239\tTrain loss: 0.0552\n",
      "11:27:12 --- Epoch: 269\tTrain loss: 0.0498\n",
      "11:27:12 --- Epoch: 299\tTrain loss: 0.0436\n",
      "11:27:13 --- Epoch: 329\tTrain loss: 0.0391\n",
      "11:27:13 --- Epoch: 359\tTrain loss: 0.0331\n",
      "11:27:13 --- Epoch: 389\tTrain loss: 0.0280\n",
      "11:27:14 --- Epoch: 419\tTrain loss: 0.0229\n",
      "11:27:14 --- Epoch: 449\tTrain loss: 0.0180\n",
      "11:27:14 --- Epoch: 479\tTrain loss: 0.0178\n",
      "11:27:15 --- Epoch: 509\tTrain loss: 0.0162\n",
      "11:27:15 --- Epoch: 539\tTrain loss: 0.0160\n",
      "11:27:15 --- Epoch: 569\tTrain loss: 0.0145\n",
      "11:27:16 --- Epoch: 599\tTrain loss: 0.0142\n",
      "11:27:16 --- Epoch: 629\tTrain loss: 0.0138\n",
      "11:27:16 --- Epoch: 659\tTrain loss: 0.0125\n",
      "11:27:17 --- Epoch: 689\tTrain loss: 0.0124\n",
      "11:27:17 --- Epoch: 719\tTrain loss: 0.0124\n",
      "11:27:17 --- Epoch: 749\tTrain loss: 0.0124\n",
      "11:27:18 --- Epoch: 779\tTrain loss: 0.0124\n",
      "11:27:18 --- Epoch: 809\tTrain loss: 0.0124\n",
      "11:27:19 --- Epoch: 839\tTrain loss: 0.0124\n",
      "11:27:19 --- Epoch: 869\tTrain loss: 0.0124\n",
      "11:27:19 --- Epoch: 899\tTrain loss: 0.0124\n"
     ]
    }
   ],
   "source": [
    "torch.manual_seed(RANDOM_SEED)\n",
    "model3 = AttentionTransformation(device,IMG_SIZE).to(device)\n",
    "optimizer3 = torch.optim.Adam(model3.parameters(), lr=LEARNING_RATE)\n",
    "criterion3 = nn.MSELoss(reduction=\"mean\")\n",
    "\n",
    "model3, optimizer3, _ = training_loop(model3, criterion3, optimizer3, train_loader3, N_EPOCHS, device, print_every=30)"
   ]
  },
  {
   "cell_type": "code",
   "execution_count": 44,
   "id": "81a52741",
   "metadata": {},
   "outputs": [
    {
     "name": "stdout",
     "output_type": "stream",
     "text": [
      "Proposed transformation Params:\n",
      "-Scale: tensor([[1.6456]], device='cuda:0')\n",
      "-Theta: tensor([[-0.0002]], device='cuda:0')\n",
      "-Trans_x: tensor([[0.2057]], device='cuda:0')\n",
      "-Trans_y: tensor([[0.0569]], device='cuda:0')\n",
      "Shape of prediction: torch.Size([1, 1, 32, 32])\n",
      "Images:\n"
     ]
    },
    {
     "data": {
      "image/png": "[encoded data removed]",
      "text/plain": [
       "<Figure size 1296x360 with 3 Axes>"
      ]
     },
     "metadata": {
      "needs_background": "light"
     },
     "output_type": "display_data"
    }
   ],
   "source": [
    "evaluate_model(model3, train_loader3, device)"
   ]
  },
  {
   "cell_type": "code",
   "execution_count": 46,
   "id": "24276cb2",
   "metadata": {},
   "outputs": [],
   "source": [
    "# parameters\n",
    "RANDOM_SEED = 420\n",
    "LEARNING_RATE = 0.0001\n",
    "BATCH_SIZE = 1\n",
    "N_EPOCHS = 900\n",
    "IMG_SIZE = 32\n",
    "\n",
    "im4_in_path = 'images/sc_rot_tr/third3'\n",
    "im4_out_path = 'images/sc_rot_tr/sec2'\n",
    "im4_in, im4_out = get_data(img_in_path=im4_in_path, img_out_path=im4_out_path)\n",
    "\n",
    "train_loader4 = DataLoader(dataset=CustomTestDataset(im4_in, im4_out), \n",
    "                          batch_size=BATCH_SIZE, \n",
    "                          shuffle=False)"
   ]
  },
  {
   "cell_type": "code",
   "execution_count": 49,
   "id": "6d8d0c8b",
   "metadata": {},
   "outputs": [
    {
     "name": "stdout",
     "output_type": "stream",
     "text": [
      "11:31:10 --- Epoch: 29\tTrain loss: 0.0781\n",
      "11:31:11 --- Epoch: 59\tTrain loss: 0.0780\n",
      "11:31:11 --- Epoch: 89\tTrain loss: 0.0778\n",
      "11:31:11 --- Epoch: 119\tTrain loss: 0.0774\n",
      "11:31:12 --- Epoch: 149\tTrain loss: 0.0768\n",
      "11:31:12 --- Epoch: 179\tTrain loss: 0.0763\n",
      "11:31:12 --- Epoch: 209\tTrain loss: 0.0750\n",
      "11:31:13 --- Epoch: 239\tTrain loss: 0.0719\n",
      "11:31:13 --- Epoch: 269\tTrain loss: 0.0670\n",
      "11:31:13 --- Epoch: 299\tTrain loss: 0.0637\n",
      "11:31:14 --- Epoch: 329\tTrain loss: 0.0599\n",
      "11:31:14 --- Epoch: 359\tTrain loss: 0.0548\n",
      "11:31:14 --- Epoch: 389\tTrain loss: 0.0497\n",
      "11:31:15 --- Epoch: 419\tTrain loss: 0.0448\n",
      "11:31:15 --- Epoch: 449\tTrain loss: 0.0401\n",
      "11:31:15 --- Epoch: 479\tTrain loss: 0.0348\n",
      "11:31:16 --- Epoch: 509\tTrain loss: 0.0296\n",
      "11:31:16 --- Epoch: 539\tTrain loss: 0.0243\n",
      "11:31:17 --- Epoch: 569\tTrain loss: 0.0186\n",
      "11:31:17 --- Epoch: 599\tTrain loss: 0.0139\n",
      "11:31:17 --- Epoch: 629\tTrain loss: 0.0132\n",
      "11:31:18 --- Epoch: 659\tTrain loss: 0.0132\n",
      "11:31:18 --- Epoch: 689\tTrain loss: 0.0132\n",
      "11:31:18 --- Epoch: 719\tTrain loss: 0.0134\n",
      "11:31:19 --- Epoch: 749\tTrain loss: 0.0132\n",
      "11:31:19 --- Epoch: 779\tTrain loss: 0.0132\n",
      "11:31:19 --- Epoch: 809\tTrain loss: 0.0132\n",
      "11:31:20 --- Epoch: 839\tTrain loss: 0.0132\n",
      "11:31:20 --- Epoch: 869\tTrain loss: 0.0132\n",
      "11:31:20 --- Epoch: 899\tTrain loss: 0.0132\n"
     ]
    }
   ],
   "source": [
    "torch.manual_seed(RANDOM_SEED)\n",
    "model4 = AttentionTransformation(device,IMG_SIZE).to(device)\n",
    "optimizer4 = torch.optim.Adam(model4.parameters(), lr=LEARNING_RATE)\n",
    "criterion4 = nn.MSELoss(reduction=\"mean\")\n",
    "\n",
    "model4, optimizer4, _ = training_loop(model4, criterion4, optimizer4, train_loader4, N_EPOCHS, device, print_every=30)"
   ]
  },
  {
   "cell_type": "code",
   "execution_count": 51,
   "id": "21e29b19",
   "metadata": {},
   "outputs": [
    {
     "name": "stdout",
     "output_type": "stream",
     "text": [
      "Proposed transformation Params:\n",
      "-Scale: tensor([[0.5683]], device='cuda:0')\n",
      "-Theta: tensor([[0.7135]], device='cuda:0')\n",
      "-Trans_x: tensor([[-0.1911]], device='cuda:0')\n",
      "-Trans_y: tensor([[-0.3010]], device='cuda:0')\n",
      "Shape of prediction: torch.Size([1, 1, 32, 32])\n",
      "Images:\n"
     ]
    },
    {
     "data": {
      "image/png": "[encoded data removed]",
      "text/plain": [
       "<Figure size 1296x360 with 3 Axes>"
      ]
     },
     "metadata": {
      "needs_background": "light"
     },
     "output_type": "display_data"
    }
   ],
   "source": [
    "evaluate_model(model4, train_loader4, device)"
   ]
  },
  {
   "cell_type": "code",
   "execution_count": 52,
   "id": "dfbba293",
   "metadata": {},
   "outputs": [],
   "source": [
    "# parameters\n",
    "RANDOM_SEED = 420\n",
    "LEARNING_RATE = 0.0001\n",
    "BATCH_SIZE = 1\n",
    "N_EPOCHS = 900\n",
    "IMG_SIZE = 32\n",
    "\n",
    "im5_in_path = 'images/sc_rot_tr/zero_tf'\n",
    "im5_out_path = 'images/sc_rot_tr/'\n",
    "im5_in, im5_out = get_data(img_in_path=im5_in_path, img_out_path=im5_out_path)\n",
    "\n",
    "train_loader5 = DataLoader(dataset=CustomTestDataset(im5_in, im5_out), \n",
    "                          batch_size=BATCH_SIZE, \n",
    "                          shuffle=False)"
   ]
  },
  {
   "cell_type": "code",
   "execution_count": 53,
   "id": "f05a921c",
   "metadata": {},
   "outputs": [
    {
     "name": "stdout",
     "output_type": "stream",
     "text": [
      "11:45:16 --- Epoch: 29\tTrain loss: 0.1368\n",
      "11:45:16 --- Epoch: 59\tTrain loss: 0.1355\n",
      "11:45:16 --- Epoch: 89\tTrain loss: 0.1336\n",
      "11:45:17 --- Epoch: 119\tTrain loss: 0.1304\n",
      "11:45:17 --- Epoch: 149\tTrain loss: 0.1233\n",
      "11:45:17 --- Epoch: 179\tTrain loss: 0.1195\n",
      "11:45:18 --- Epoch: 209\tTrain loss: 0.1188\n",
      "11:45:18 --- Epoch: 239\tTrain loss: 0.1180\n",
      "11:45:18 --- Epoch: 269\tTrain loss: 0.1170\n",
      "11:45:19 --- Epoch: 299\tTrain loss: 0.1156\n",
      "11:45:19 --- Epoch: 329\tTrain loss: 0.1144\n",
      "11:45:20 --- Epoch: 359\tTrain loss: 0.1134\n",
      "11:45:20 --- Epoch: 389\tTrain loss: 0.1117\n",
      "11:45:20 --- Epoch: 419\tTrain loss: 0.1093\n",
      "11:45:21 --- Epoch: 449\tTrain loss: 0.1058\n",
      "11:45:21 --- Epoch: 479\tTrain loss: 0.0988\n",
      "11:45:21 --- Epoch: 509\tTrain loss: 0.0857\n",
      "11:45:22 --- Epoch: 539\tTrain loss: 0.0772\n",
      "11:45:22 --- Epoch: 569\tTrain loss: 0.0658\n",
      "11:45:22 --- Epoch: 599\tTrain loss: 0.0518\n",
      "11:45:23 --- Epoch: 629\tTrain loss: 0.0328\n",
      "11:45:23 --- Epoch: 659\tTrain loss: 0.0158\n",
      "11:45:23 --- Epoch: 689\tTrain loss: 0.0113\n",
      "11:45:24 --- Epoch: 719\tTrain loss: 0.0113\n",
      "11:45:24 --- Epoch: 749\tTrain loss: 0.0111\n",
      "11:45:25 --- Epoch: 779\tTrain loss: 0.0111\n",
      "11:45:25 --- Epoch: 809\tTrain loss: 0.0111\n",
      "11:45:25 --- Epoch: 839\tTrain loss: 0.0111\n",
      "11:45:26 --- Epoch: 869\tTrain loss: 0.0111\n",
      "11:45:26 --- Epoch: 899\tTrain loss: 0.0111\n"
     ]
    }
   ],
   "source": [
    "torch.manual_seed(RANDOM_SEED)\n",
    "model5 = AttentionTransformation(device,IMG_SIZE).to(device)\n",
    "optimizer5 = torch.optim.Adam(model5.parameters(), lr=LEARNING_RATE)\n",
    "criterion5 = nn.MSELoss(reduction=\"mean\")\n",
    "\n",
    "model5, optimizer5, _ = training_loop(model5, criterion5, optimizer5, train_loader5, N_EPOCHS, device, print_every=30)"
   ]
  },
  {
   "cell_type": "code",
   "execution_count": 54,
   "id": "11801281",
   "metadata": {},
   "outputs": [
    {
     "name": "stdout",
     "output_type": "stream",
     "text": [
      "Proposed transformation Params:\n",
      "-Scale: tensor([[0.4942]], device='cuda:0')\n",
      "-Theta: tensor([[0.6184]], device='cuda:0')\n",
      "-Trans_x: tensor([[-0.4146]], device='cuda:0')\n",
      "-Trans_y: tensor([[-0.3726]], device='cuda:0')\n",
      "Shape of prediction: torch.Size([1, 1, 32, 32])\n",
      "Images:\n"
     ]
    },
    {
     "data": {
      "image/png": "[encoded data removed]",
      "text/plain": [
       "<Figure size 1296x360 with 3 Axes>"
      ]
     },
     "metadata": {
      "needs_background": "light"
     },
     "output_type": "display_data"
    }
   ],
   "source": [
    "evaluate_model(model5, train_loader5, device)"
   ]
  },
  {
   "cell_type": "code",
   "execution_count": 86,
   "id": "31e38a5a",
   "metadata": {},
   "outputs": [],
   "source": [
    "# parameters\n",
    "RANDOM_SEED = 410\n",
    "LEARNING_RATE = 0.0002\n",
    "BATCH_SIZE = 1\n",
    "N_EPOCHS = 900\n",
    "IMG_SIZE = 32\n",
    "\n",
    "im6_in_path = 'images/sc_rot_tr/zero_centered'\n",
    "im6_out_path = 'images/sc_rot_tr/zero_tf'\n",
    "im6_in, im6_out = get_data(img_in_path=im6_in_path, img_out_path=im6_out_path)\n",
    "\n",
    "train_loader6 = DataLoader(dataset=CustomTestDataset(im6_in, im6_out), \n",
    "                          batch_size=BATCH_SIZE, \n",
    "                          shuffle=False)"
   ]
  },
  {
   "cell_type": "code",
   "execution_count": 87,
   "id": "7a83a256",
   "metadata": {},
   "outputs": [
    {
     "name": "stdout",
     "output_type": "stream",
     "text": [
      "12:14:16 --- Epoch: 29\tTrain loss: 0.1449\n",
      "12:14:17 --- Epoch: 59\tTrain loss: 0.1404\n",
      "12:14:17 --- Epoch: 89\tTrain loss: 0.1226\n",
      "12:14:17 --- Epoch: 119\tTrain loss: 0.0923\n",
      "12:14:18 --- Epoch: 149\tTrain loss: 0.0764\n",
      "12:14:18 --- Epoch: 179\tTrain loss: 0.0573\n",
      "12:14:19 --- Epoch: 209\tTrain loss: 0.0384\n",
      "12:14:19 --- Epoch: 239\tTrain loss: 0.0234\n",
      "12:14:19 --- Epoch: 269\tTrain loss: 0.0169\n",
      "12:14:20 --- Epoch: 299\tTrain loss: 0.0151\n",
      "12:14:20 --- Epoch: 329\tTrain loss: 0.0144\n",
      "12:14:20 --- Epoch: 359\tTrain loss: 0.0121\n",
      "12:14:21 --- Epoch: 389\tTrain loss: 0.0102\n",
      "12:14:21 --- Epoch: 419\tTrain loss: 0.0079\n",
      "12:14:21 --- Epoch: 449\tTrain loss: 0.0064\n",
      "12:14:22 --- Epoch: 479\tTrain loss: 0.0054\n",
      "12:14:22 --- Epoch: 509\tTrain loss: 0.0050\n",
      "12:14:22 --- Epoch: 539\tTrain loss: 0.0048\n",
      "12:14:23 --- Epoch: 569\tTrain loss: 0.0048\n",
      "12:14:23 --- Epoch: 599\tTrain loss: 0.0047\n",
      "12:14:23 --- Epoch: 629\tTrain loss: 0.0046\n",
      "12:14:24 --- Epoch: 659\tTrain loss: 0.0046\n",
      "12:14:24 --- Epoch: 689\tTrain loss: 0.0046\n",
      "12:14:25 --- Epoch: 719\tTrain loss: 0.0045\n",
      "12:14:25 --- Epoch: 749\tTrain loss: 0.0045\n",
      "12:14:25 --- Epoch: 779\tTrain loss: 0.0045\n",
      "12:14:26 --- Epoch: 809\tTrain loss: 0.0044\n",
      "12:14:26 --- Epoch: 839\tTrain loss: 0.0046\n",
      "12:14:26 --- Epoch: 869\tTrain loss: 0.0044\n",
      "12:14:27 --- Epoch: 899\tTrain loss: 0.0044\n"
     ]
    }
   ],
   "source": [
    "torch.manual_seed(RANDOM_SEED)\n",
    "model6 = AttentionTransformation(device,IMG_SIZE).to(device)\n",
    "optimizer6 = torch.optim.Adam(model6.parameters(), lr=LEARNING_RATE)\n",
    "criterion6 = nn.MSELoss(reduction=\"mean\")\n",
    "\n",
    "model6, optimizer6, _ = training_loop(model6, criterion6, optimizer6, train_loader6, N_EPOCHS, device, print_every=30)"
   ]
  },
  {
   "cell_type": "code",
   "execution_count": 88,
   "id": "66e8c8c2",
   "metadata": {},
   "outputs": [
    {
     "name": "stdout",
     "output_type": "stream",
     "text": [
      "Proposed transformation Params:\n",
      "-Scale: tensor([[1.9214]], device='cuda:0')\n",
      "-Theta: tensor([[-0.4477]], device='cuda:0')\n",
      "-Trans_x: tensor([[0.9986]], device='cuda:0')\n",
      "-Trans_y: tensor([[0.2861]], device='cuda:0')\n",
      "Shape of prediction: torch.Size([1, 1, 32, 32])\n",
      "Images:\n"
     ]
    },
    {
     "data": {
      "image/png": "[encoded data removed]",
      "text/plain": [
       "<Figure size 1296x360 with 3 Axes>"
      ]
     },
     "metadata": {
      "needs_background": "light"
     },
     "output_type": "display_data"
    }
   ],
   "source": [
    "evaluate_model(model6, train_loader6, device)"
   ]
  },
  {
   "cell_type": "code",
   "execution_count": 126,
   "id": "ef8afa5c",
   "metadata": {},
   "outputs": [],
   "source": [
    "# parameters\n",
    "RANDOM_SEED = 415\n",
    "LEARNING_RATE = 0.0005\n",
    "BATCH_SIZE = 1\n",
    "N_EPOCHS = 900\n",
    "IMG_SIZE = 32\n",
    "\n",
    "im7_in_path = 'images/sc_rot_tr/three_centered'\n",
    "im7_out_path = 'images/sc_rot_tr/three_tf'\n",
    "im7_in, im7_out = get_data(img_in_path=im7_in_path, img_out_path=im7_out_path)\n",
    "\n",
    "train_loader7 = DataLoader(dataset=CustomTestDataset(im7_in, im7_out), \n",
    "                          batch_size=BATCH_SIZE, \n",
    "                          shuffle=False)"
   ]
  },
  {
   "cell_type": "code",
   "execution_count": 127,
   "id": "a20cf15e",
   "metadata": {},
   "outputs": [
    {
     "name": "stdout",
     "output_type": "stream",
     "text": [
      "12:25:33 --- Epoch: 29\tTrain loss: 0.1782\n",
      "12:25:33 --- Epoch: 59\tTrain loss: 0.0976\n",
      "12:25:33 --- Epoch: 89\tTrain loss: 0.0684\n",
      "12:25:34 --- Epoch: 119\tTrain loss: 0.0659\n",
      "12:25:34 --- Epoch: 149\tTrain loss: 0.0650\n",
      "12:25:35 --- Epoch: 179\tTrain loss: 0.0648\n",
      "12:25:35 --- Epoch: 209\tTrain loss: 0.0647\n",
      "12:25:35 --- Epoch: 239\tTrain loss: 0.0648\n",
      "12:25:36 --- Epoch: 269\tTrain loss: 0.0648\n",
      "12:25:36 --- Epoch: 299\tTrain loss: 0.0624\n",
      "12:25:37 --- Epoch: 329\tTrain loss: 0.0600\n",
      "12:25:37 --- Epoch: 359\tTrain loss: 0.0322\n",
      "12:25:37 --- Epoch: 389\tTrain loss: 0.0301\n",
      "12:25:38 --- Epoch: 419\tTrain loss: 0.0298\n",
      "12:25:38 --- Epoch: 449\tTrain loss: 0.0299\n",
      "12:25:39 --- Epoch: 479\tTrain loss: 0.0299\n",
      "12:25:39 --- Epoch: 509\tTrain loss: 0.0299\n",
      "12:25:39 --- Epoch: 539\tTrain loss: 0.0298\n",
      "12:25:40 --- Epoch: 569\tTrain loss: 0.0299\n",
      "12:25:40 --- Epoch: 599\tTrain loss: 0.0300\n",
      "12:25:41 --- Epoch: 629\tTrain loss: 0.0300\n",
      "12:25:41 --- Epoch: 659\tTrain loss: 0.0299\n",
      "12:25:41 --- Epoch: 689\tTrain loss: 0.0298\n",
      "12:25:42 --- Epoch: 719\tTrain loss: 0.0299\n",
      "12:25:42 --- Epoch: 749\tTrain loss: 0.0299\n",
      "12:25:42 --- Epoch: 779\tTrain loss: 0.0299\n",
      "12:25:43 --- Epoch: 809\tTrain loss: 0.0299\n",
      "12:25:43 --- Epoch: 839\tTrain loss: 0.0299\n",
      "12:25:44 --- Epoch: 869\tTrain loss: 0.0298\n",
      "12:25:44 --- Epoch: 899\tTrain loss: 0.0299\n"
     ]
    }
   ],
   "source": [
    "torch.manual_seed(RANDOM_SEED)\n",
    "model7 = AttentionTransformation(device,IMG_SIZE).to(device)\n",
    "optimizer7 = torch.optim.Adam(model7.parameters(), lr=LEARNING_RATE)\n",
    "criterion7 = nn.MSELoss(reduction=\"mean\")\n",
    "\n",
    "model7, optimizer7, _ = training_loop(model7, criterion7, optimizer7, train_loader7, N_EPOCHS, device, print_every=30)"
   ]
  },
  {
   "cell_type": "code",
   "execution_count": 128,
   "id": "9c2bc24c",
   "metadata": {},
   "outputs": [
    {
     "name": "stdout",
     "output_type": "stream",
     "text": [
      "Proposed transformation Params:\n",
      "-Scale: tensor([[1.7701]], device='cuda:0')\n",
      "-Theta: tensor([[-0.7084]], device='cuda:0')\n",
      "-Trans_x: tensor([[-0.1766]], device='cuda:0')\n",
      "-Trans_y: tensor([[0.9379]], device='cuda:0')\n",
      "Shape of prediction: torch.Size([1, 1, 32, 32])\n",
      "Images:\n"
     ]
    },
    {
     "data": {
      "image/png": "[encoded data removed]",
      "text/plain": [
       "<Figure size 1296x360 with 3 Axes>"
      ]
     },
     "metadata": {
      "needs_background": "light"
     },
     "output_type": "display_data"
    }
   ],
   "source": [
    "evaluate_model(model7, train_loader7, device)"
   ]
  },
  {
   "cell_type": "code",
   "execution_count": 146,
   "id": "60e56549",
   "metadata": {},
   "outputs": [],
   "source": [
    "# parameters\n",
    "RANDOM_SEED = 415\n",
    "LEARNING_RATE = 0.05\n",
    "BATCH_SIZE = 1\n",
    "N_EPOCHS = 900\n",
    "IMG_SIZE = 32\n",
    "\n",
    "im8_in_path = 'images/sc_rot_tr/three_tf'\n",
    "im8_out_path = 'images/sc_rot_tr/three_centered'\n",
    "im8_in, im8_out = get_data(img_in_path=im8_in_path, img_out_path=im8_out_path)\n",
    "\n",
    "train_loader8 = DataLoader(dataset=CustomTestDataset(im8_in, im8_out), \n",
    "                          batch_size=BATCH_SIZE, \n",
    "                          shuffle=False)"
   ]
  },
  {
   "cell_type": "code",
   "execution_count": 147,
   "id": "59ff5367",
   "metadata": {},
   "outputs": [
    {
     "name": "stdout",
     "output_type": "stream",
     "text": [
      "12:29:16 --- Epoch: 29\tTrain loss: 0.0118\n",
      "12:29:17 --- Epoch: 59\tTrain loss: 0.0094\n",
      "12:29:17 --- Epoch: 89\tTrain loss: 0.0093\n",
      "12:29:18 --- Epoch: 119\tTrain loss: 0.0093\n",
      "12:29:18 --- Epoch: 149\tTrain loss: 0.0093\n",
      "12:29:19 --- Epoch: 179\tTrain loss: 0.0093\n",
      "12:29:19 --- Epoch: 209\tTrain loss: 0.0093\n",
      "12:29:19 --- Epoch: 239\tTrain loss: 0.0093\n",
      "12:29:20 --- Epoch: 269\tTrain loss: 0.0093\n",
      "12:29:20 --- Epoch: 299\tTrain loss: 0.0093\n",
      "12:29:21 --- Epoch: 329\tTrain loss: 0.0093\n",
      "12:29:21 --- Epoch: 359\tTrain loss: 0.0093\n",
      "12:29:22 --- Epoch: 389\tTrain loss: 0.0093\n",
      "12:29:22 --- Epoch: 419\tTrain loss: 0.0094\n",
      "12:29:22 --- Epoch: 449\tTrain loss: 0.0093\n",
      "12:29:23 --- Epoch: 479\tTrain loss: 0.0093\n",
      "12:29:23 --- Epoch: 509\tTrain loss: 0.0093\n",
      "12:29:24 --- Epoch: 539\tTrain loss: 0.0093\n",
      "12:29:24 --- Epoch: 569\tTrain loss: 0.0093\n",
      "12:29:25 --- Epoch: 599\tTrain loss: 0.0093\n",
      "12:29:25 --- Epoch: 629\tTrain loss: 0.0093\n",
      "12:29:25 --- Epoch: 659\tTrain loss: 0.0093\n",
      "12:29:26 --- Epoch: 689\tTrain loss: 0.0093\n",
      "12:29:26 --- Epoch: 719\tTrain loss: 0.0093\n",
      "12:29:27 --- Epoch: 749\tTrain loss: 0.0093\n",
      "12:29:27 --- Epoch: 779\tTrain loss: 0.0093\n",
      "12:29:27 --- Epoch: 809\tTrain loss: 0.0093\n",
      "12:29:28 --- Epoch: 839\tTrain loss: 0.0093\n",
      "12:29:28 --- Epoch: 869\tTrain loss: 0.0093\n",
      "12:29:29 --- Epoch: 899\tTrain loss: 0.0093\n"
     ]
    }
   ],
   "source": [
    "torch.manual_seed(RANDOM_SEED)\n",
    "model8 = AttentionTransformation(device,IMG_SIZE).to(device)\n",
    "optimizer8 = torch.optim.Adam(model8.parameters(), lr=LEARNING_RATE)\n",
    "criterion8 = nn.MSELoss(reduction=\"mean\")\n",
    "\n",
    "model8, optimizer8, _ = training_loop(model8, criterion8, optimizer8, train_loader8, N_EPOCHS, device, print_every=30)"
   ]
  },
  {
   "cell_type": "code",
   "execution_count": 148,
   "id": "f8566242",
   "metadata": {},
   "outputs": [
    {
     "name": "stdout",
     "output_type": "stream",
     "text": [
      "Proposed transformation Params:\n",
      "-Scale: tensor([[0.7473]], device='cuda:0')\n",
      "-Theta: tensor([[0.2340]], device='cuda:0')\n",
      "-Trans_x: tensor([[0.4725]], device='cuda:0')\n",
      "-Trans_y: tensor([[-0.4735]], device='cuda:0')\n",
      "Shape of prediction: torch.Size([1, 1, 32, 32])\n",
      "Images:\n"
     ]
    },
    {
     "data": {
      "image/png": "[encoded data removed]",
      "text/plain": [
       "<Figure size 1296x360 with 3 Axes>"
      ]
     },
     "metadata": {
      "needs_background": "light"
     },
     "output_type": "display_data"
    }
   ],
   "source": [
    "evaluate_model(model8, train_loader8, device)"
   ]
  }
 ],
 "metadata": {
  "interpreter": {
   "hash": "3e26849a565322f1f2ee8e8714881fdb760551d08fd176d7ee6ecd0e3f01e68a"
  },
  "kernelspec": {
   "display_name": "Python 3.9.5 ('venv': venv)",
   "language": "python",
   "name": "python3"
  },
  "language_info": {
   "codemirror_mode": {
    "name": "ipython",
    "version": 3
   },
   "file_extension": ".py",
   "mimetype": "text/x-python",
   "name": "python",
   "nbconvert_exporter": "python",
   "pygments_lexer": "ipython3",
   "version": "3.9.5"
  },
  "toc": {
   "base_numbering": 1,
   "nav_menu": {},
   "number_sections": true,
   "sideBar": true,
   "skip_h1_title": false,
   "title_cell": "Table of Contents",
   "title_sidebar": "Contents",
   "toc_cell": false,
   "toc_position": {},
   "toc_section_display": true,
   "toc_window_display": false
  }
 },
 "nbformat": 4,
 "nbformat_minor": 5
}
