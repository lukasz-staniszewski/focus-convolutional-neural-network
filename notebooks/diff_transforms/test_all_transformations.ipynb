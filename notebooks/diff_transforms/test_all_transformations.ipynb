{
 "cells": [
  {
   "cell_type": "markdown",
   "id": "ac2c37a8",
   "metadata": {},
   "source": [
    "# Libs, cuda, seed, params"
   ]
  },
  {
   "cell_type": "code",
   "execution_count": 868,
   "id": "316f9153",
   "metadata": {
    "ExecuteTime": {
     "end_time": "2022-03-27T01:51:55.296081Z",
     "start_time": "2022-03-27T01:51:55.285908Z"
    }
   },
   "outputs": [],
   "source": [
    "import torch\n",
    "import torch.nn as nn\n",
    "import torch.nn.functional as F\n",
    "from torch.utils.data import Dataset, DataLoader\n",
    "from torchvision.io import read_image\n",
    "import torchvision.transforms as T\n",
    "import numpy as np\n",
    "import matplotlib.pyplot as plt\n",
    "from PIL import Image\n",
    "from datetime import datetime "
   ]
  },
  {
   "cell_type": "code",
   "execution_count": 869,
   "id": "3cae1e6e",
   "metadata": {
    "ExecuteTime": {
     "end_time": "2022-03-27T01:51:55.822008Z",
     "start_time": "2022-03-27T01:51:55.808816Z"
    }
   },
   "outputs": [
    {
     "data": {
      "text/plain": [
       "device(type='cuda')"
      ]
     },
     "execution_count": 869,
     "metadata": {},
     "output_type": "execute_result"
    }
   ],
   "source": [
    "device = torch.device(\"cuda\" if torch.cuda.is_available() else \"cpu\")\n",
    "device"
   ]
  },
  {
   "cell_type": "code",
   "execution_count": 870,
   "id": "111b9a7d",
   "metadata": {
    "ExecuteTime": {
     "end_time": "2022-03-27T01:51:55.852974Z",
     "start_time": "2022-03-27T01:51:55.840971Z"
    }
   },
   "outputs": [],
   "source": [
    "# parameters\n",
    "RANDOM_SEED = 42\n",
    "LEARNING_RATE = 0.01\n",
    "BATCH_SIZE = 1\n",
    "N_EPOCHS = 1000\n",
    "IMG_SIZE = 32"
   ]
  },
  {
   "cell_type": "markdown",
   "id": "529bdb05",
   "metadata": {},
   "source": [
    "# Data"
   ]
  },
  {
   "cell_type": "code",
   "execution_count": 871,
   "id": "c924b3d0",
   "metadata": {
    "ExecuteTime": {
     "end_time": "2022-03-27T01:51:55.914997Z",
     "start_time": "2022-03-27T01:51:55.906973Z"
    }
   },
   "outputs": [],
   "source": [
    "def convert_img_to_gray(image, path=None):\n",
    "    imgGray = image.convert('L')\n",
    "    if path:\n",
    "        imgGray.save(path)\n",
    "    return imgGray"
   ]
  },
  {
   "cell_type": "code",
   "execution_count": 872,
   "id": "7380ae95",
   "metadata": {},
   "outputs": [],
   "source": [
    "im_out_path = 'images/sc_rot_tr/sec'\n",
    "im_in_path = 'images/sc_rot_tr/first'"
   ]
  },
  {
   "cell_type": "code",
   "execution_count": 873,
   "id": "98affc5a",
   "metadata": {
    "ExecuteTime": {
     "end_time": "2022-03-27T01:51:55.995006Z",
     "start_time": "2022-03-27T01:51:55.974972Z"
    }
   },
   "outputs": [],
   "source": [
    "# 3-ch im -> 1-ch im\n",
    "im_in = Image.open(im_in_path+\".jpg\")\n",
    "im_out = Image.open(im_out_path+\".jpg\")\n",
    "im_in = convert_img_to_gray(im_in, im_in_path+\"_bw.jpg\")\n",
    "im_out = convert_img_to_gray(im_out, im_out_path+\"_bw.jpg\")"
   ]
  },
  {
   "cell_type": "code",
   "execution_count": 874,
   "id": "9ed21da5",
   "metadata": {
    "ExecuteTime": {
     "end_time": "2022-03-27T01:51:56.026006Z",
     "start_time": "2022-03-27T01:51:56.007976Z"
    }
   },
   "outputs": [],
   "source": [
    "transform = T.Compose(transforms=[\n",
    "    T.ToPILImage(),\n",
    "    T.Resize(size=(IMG_SIZE, IMG_SIZE)),\n",
    "    T.ToTensor(),\n",
    "    # T.Normalize(mean=0.0419, std=0.1478)\n",
    "])"
   ]
  },
  {
   "cell_type": "code",
   "execution_count": 875,
   "id": "d0483f48",
   "metadata": {
    "ExecuteTime": {
     "end_time": "2022-03-27T01:51:56.119009Z",
     "start_time": "2022-03-27T01:51:56.107974Z"
    }
   },
   "outputs": [],
   "source": [
    "im_in = read_image(im_in_path+\"_bw.jpg\")\n",
    "im_out = read_image(im_out_path+\"_bw.jpg\")\n",
    "im_in = transform(im_in)\n",
    "im_out = transform(im_out)"
   ]
  },
  {
   "cell_type": "code",
   "execution_count": 876,
   "id": "c39c3c29",
   "metadata": {},
   "outputs": [
    {
     "name": "stdout",
     "output_type": "stream",
     "text": [
      "tensor(0.1478)\n",
      "tensor(0.0419)\n"
     ]
    }
   ],
   "source": [
    "stat_torch = torch.stack([im_in, im_out])\n",
    "print(torch.std(stat_torch))\n",
    "print(torch.mean(stat_torch))"
   ]
  },
  {
   "cell_type": "code",
   "execution_count": 877,
   "id": "176e5f26",
   "metadata": {
    "ExecuteTime": {
     "end_time": "2022-03-27T01:51:56.149971Z",
     "start_time": "2022-03-27T01:51:56.142003Z"
    }
   },
   "outputs": [
    {
     "name": "stdout",
     "output_type": "stream",
     "text": [
      "torch.Size([1, 32, 32])\n",
      "torch.Size([1, 32, 32])\n"
     ]
    }
   ],
   "source": [
    "print(im_in.shape)\n",
    "print(im_out.shape)"
   ]
  },
  {
   "cell_type": "markdown",
   "id": "238cd6e5",
   "metadata": {},
   "source": [
    "+ In"
   ]
  },
  {
   "cell_type": "code",
   "execution_count": 878,
   "id": "3b28814d",
   "metadata": {
    "ExecuteTime": {
     "end_time": "2022-03-27T01:51:56.307468Z",
     "start_time": "2022-03-27T01:51:56.206974Z"
    }
   },
   "outputs": [
    {
     "data": {
      "text/plain": [
       "<Figure size 432x288 with 0 Axes>"
      ]
     },
     "execution_count": 878,
     "metadata": {},
     "output_type": "execute_result"
    },
    {
     "data": {
      "image/png": "[encoded data removed]",
      "text/plain": [
       "<Figure size 432x288 with 1 Axes>"
      ]
     },
     "metadata": {
      "needs_background": "light"
     },
     "output_type": "display_data"
    },
    {
     "data": {
      "text/plain": [
       "<Figure size 432x288 with 0 Axes>"
      ]
     },
     "metadata": {},
     "output_type": "display_data"
    }
   ],
   "source": [
    "plt.imshow(im_in.detach().cpu().permute(1,2,0), cmap='gray')\n",
    "plt.figure()"
   ]
  },
  {
   "cell_type": "markdown",
   "id": "b2fc265c",
   "metadata": {},
   "source": [
    "+ Out"
   ]
  },
  {
   "cell_type": "code",
   "execution_count": 879,
   "id": "645ca9f9",
   "metadata": {
    "ExecuteTime": {
     "end_time": "2022-03-27T01:51:56.415232Z",
     "start_time": "2022-03-27T01:51:56.309573Z"
    },
    "scrolled": true
   },
   "outputs": [
    {
     "data": {
      "text/plain": [
       "<Figure size 432x288 with 0 Axes>"
      ]
     },
     "execution_count": 879,
     "metadata": {},
     "output_type": "execute_result"
    },
    {
     "data": {
      "image/png": "[encoded data removed]",
      "text/plain": [
       "<Figure size 432x288 with 1 Axes>"
      ]
     },
     "metadata": {
      "needs_background": "light"
     },
     "output_type": "display_data"
    },
    {
     "data": {
      "text/plain": [
       "<Figure size 432x288 with 0 Axes>"
      ]
     },
     "metadata": {},
     "output_type": "display_data"
    }
   ],
   "source": [
    "plt.imshow(im_out.detach().cpu().permute(1,2,0), cmap='gray')\n",
    "plt.figure()"
   ]
  },
  {
   "cell_type": "code",
   "execution_count": 880,
   "id": "4f9c9dc3",
   "metadata": {
    "ExecuteTime": {
     "end_time": "2022-03-27T01:51:56.431231Z",
     "start_time": "2022-03-27T01:51:56.417199Z"
    }
   },
   "outputs": [],
   "source": [
    "class CustomTestDataset(Dataset):\n",
    "    def __init__(self, image_in, image_out):\n",
    "        self.img_labels = (image_in, image_out)\n",
    "\n",
    "    def __len__(self):\n",
    "        return 1\n",
    "\n",
    "    def __getitem__(self, idx):\n",
    "        return self.img_labels[0], self.img_labels[1]"
   ]
  },
  {
   "cell_type": "code",
   "execution_count": 881,
   "id": "9c78820b",
   "metadata": {
    "ExecuteTime": {
     "end_time": "2022-03-27T01:51:56.540183Z",
     "start_time": "2022-03-27T01:51:56.521182Z"
    }
   },
   "outputs": [],
   "source": [
    "train_loader = DataLoader(dataset=CustomTestDataset(im_in, im_out), \n",
    "                          batch_size=BATCH_SIZE, \n",
    "                          shuffle=False)"
   ]
  },
  {
   "cell_type": "markdown",
   "id": "e50d2640",
   "metadata": {},
   "source": [
    "# Transform functions"
   ]
  },
  {
   "cell_type": "code",
   "execution_count": 882,
   "id": "65e55d12",
   "metadata": {
    "ExecuteTime": {
     "end_time": "2022-03-27T01:51:56.865247Z",
     "start_time": "2022-03-27T01:51:56.859744Z"
    }
   },
   "outputs": [],
   "source": [
    "def get_rot_mat(theta, device):\n",
    "    theta_cos = torch.cos(input=theta)\n",
    "    theta_sin = torch.sin(input=theta)\n",
    "    zeros = torch.zeros_like(input=theta_cos).to(device)\n",
    "    return torch.stack(tensors=[theta_cos, -theta_sin, zeros, theta_sin, theta_cos, zeros]).view(2,3)"
   ]
  },
  {
   "cell_type": "code",
   "execution_count": 883,
   "id": "a76dc9aa",
   "metadata": {
    "ExecuteTime": {
     "end_time": "2022-03-27T01:51:57.050199Z",
     "start_time": "2022-03-27T01:51:57.046165Z"
    }
   },
   "outputs": [],
   "source": [
    "def get_scale_matrix(scale_factor, device):\n",
    "    zeros = torch.zeros_like(input=scale_factor).to(device)\n",
    "    return torch.stack(tensors=[scale_factor, zeros, zeros, zeros, scale_factor, zeros]).view(2,3)"
   ]
  },
  {
   "cell_type": "code",
   "execution_count": 884,
   "id": "a1a5f62c",
   "metadata": {},
   "outputs": [],
   "source": [
    "def get_scale_rot_matrix(theta, scale_factor, device):\n",
    "    theta_cos = torch.cos(input=theta)\n",
    "    theta_sin = torch.sin(input=theta)\n",
    "    zeros = torch.zeros_like(input=theta_cos).to(device)\n",
    "    return torch.stack(tensors=[scale_factor*theta_cos, scale_factor * (-theta_sin), zeros, scale_factor * theta_sin, scale_factor*theta_cos, zeros]).view(2,3)"
   ]
  },
  {
   "cell_type": "code",
   "execution_count": 885,
   "id": "70a48ef9",
   "metadata": {
    "ExecuteTime": {
     "end_time": "2022-03-27T01:51:57.301514Z",
     "start_time": "2022-03-27T01:51:57.297774Z"
    }
   },
   "outputs": [],
   "source": [
    "def get_transform_matrix(theta, scale_factor, trans_x, trans_y, device):\n",
    "    theta_cos = torch.cos(input=theta)\n",
    "    theta_sin = torch.sin(input=theta)\n",
    "    return torch.stack(tensors=[scale_factor*theta_cos, scale_factor * (-theta_sin), trans_x, scale_factor * theta_sin, scale_factor*theta_cos, trans_y]).view(2,3)"
   ]
  },
  {
   "cell_type": "code",
   "execution_count": 886,
   "id": "6368ccaa",
   "metadata": {
    "ExecuteTime": {
     "end_time": "2022-03-27T01:51:57.518490Z",
     "start_time": "2022-03-27T01:51:57.502461Z"
    }
   },
   "outputs": [],
   "source": [
    "def rot_img(x, theta, device):\n",
    "    rot_mat = get_rot_mat(theta=theta, device=device).unsqueeze(dim=0).repeat(x.shape[0],1,1)    # repeat for whole batch\n",
    "    grid = F.affine_grid(theta=rot_mat, size=x.size(), align_corners=False)\n",
    "    x = F.grid_sample(input=x, grid=grid, align_corners=False)\n",
    "    return x"
   ]
  },
  {
   "cell_type": "code",
   "execution_count": 887,
   "id": "7bdbd350",
   "metadata": {
    "ExecuteTime": {
     "end_time": "2022-03-27T01:51:57.704278Z",
     "start_time": "2022-03-27T01:51:57.686278Z"
    }
   },
   "outputs": [],
   "source": [
    "def scale_img(x, scale_factor, device):\n",
    "    scale_mat = get_scale_matrix(scale_factor=scale_factor, device=device).unsqueeze(dim=0).repeat(x.shape[0],1,1)    # repeat for whole batch\n",
    "    grid = F.affine_grid(theta=scale_mat, size=x.size(), align_corners=False)\n",
    "    x = F.grid_sample(input=x, grid=grid, align_corners=False)\n",
    "    return x"
   ]
  },
  {
   "cell_type": "code",
   "execution_count": 888,
   "id": "24b57d8d",
   "metadata": {
    "ExecuteTime": {
     "end_time": "2022-03-27T01:51:57.875438Z",
     "start_time": "2022-03-27T01:51:57.867406Z"
    }
   },
   "outputs": [],
   "source": [
    "def scale_rot_img(x, theta, scale_factor, device):\n",
    "    scale_mat = get_scale_rot_matrix(theta = theta, scale_factor=scale_factor, device=device).unsqueeze(dim=0).repeat(x.shape[0],1,1)    # repeat for whole batch\n",
    "    grid = F.affine_grid(theta=scale_mat, size=x.size(), align_corners=False)\n",
    "    x = F.grid_sample(input=x, grid=grid, align_corners=False)\n",
    "    return x"
   ]
  },
  {
   "cell_type": "code",
   "execution_count": 889,
   "id": "04586182",
   "metadata": {},
   "outputs": [],
   "source": [
    "def transform_img(x, theta, scale_factor, trans_x, trans_y, device):\n",
    "    scale_mat = get_transform_matrix(theta = theta, scale_factor=scale_factor, trans_x=trans_x, trans_y=trans_y,device=device).unsqueeze(dim=0).repeat(x.shape[0],1,1)    # repeat for whole batch\n",
    "    grid = F.affine_grid(theta=scale_mat, size=x.size(), align_corners=False)\n",
    "    x = F.grid_sample(input=x, grid=grid, align_corners=False)\n",
    "    return x"
   ]
  },
  {
   "cell_type": "code",
   "execution_count": 890,
   "id": "bed224fe",
   "metadata": {},
   "outputs": [],
   "source": [
    "def transform_img_with_matrix(x, trans_matrix):\n",
    "    scale_mat = trans_matrix.view(2,3).unsqueeze(dim=0).repeat(x.shape[0],1,1)    # repeat for whole batch\n",
    "    grid = F.affine_grid(theta=scale_mat, size=x.size(), align_corners=False)\n",
    "    x = F.grid_sample(input=x, grid=grid, align_corners=False)\n",
    "    return x"
   ]
  },
  {
   "cell_type": "markdown",
   "id": "26d27b3c",
   "metadata": {},
   "source": [
    "# Network"
   ]
  },
  {
   "cell_type": "markdown",
   "id": "f80a8487",
   "metadata": {},
   "source": [
    "+ Functions"
   ]
  },
  {
   "cell_type": "code",
   "execution_count": 891,
   "id": "f44c1a9d",
   "metadata": {
    "ExecuteTime": {
     "end_time": "2022-03-27T01:51:58.403160Z",
     "start_time": "2022-03-27T01:51:58.392782Z"
    }
   },
   "outputs": [],
   "source": [
    "def train(train_loader, model, criterion, optimizer, device):\n",
    "    model.train()\n",
    "    running_loss = 0\n",
    "    \n",
    "    for X, y_true in train_loader:\n",
    "        optimizer.zero_grad()\n",
    "        \n",
    "        X = X.to(device)\n",
    "        y_true = y_true.to(device)\n",
    "    \n",
    "        y_hat = model(X) \n",
    "        loss = criterion(y_hat, y_true) \n",
    "        running_loss += loss.item() * X.size(0)\n",
    "\n",
    "        loss.backward()\n",
    "        optimizer.step()\n",
    "        \n",
    "    epoch_loss = running_loss / len(train_loader.dataset)\n",
    "    return model, optimizer, epoch_loss"
   ]
  },
  {
   "cell_type": "code",
   "execution_count": 893,
   "id": "3e8a20cf",
   "metadata": {
    "ExecuteTime": {
     "end_time": "2022-03-27T01:51:58.589004Z",
     "start_time": "2022-03-27T01:51:58.575969Z"
    }
   },
   "outputs": [],
   "source": [
    "def validate(valid_loader, model, criterion, device):\n",
    "    model.eval()\n",
    "    running_loss = 0\n",
    "    \n",
    "    for X, y_true in valid_loader:\n",
    "        X = X.to(device)\n",
    "        y_true = y_true.to(device)\n",
    "\n",
    "        y_hat = model(X) \n",
    "        loss = criterion(y_hat, y_true) \n",
    "        running_loss += loss.item() * X.size(0)\n",
    "\n",
    "    epoch_loss = running_loss / len(valid_loader.dataset)\n",
    "        \n",
    "    return model, epoch_loss"
   ]
  },
  {
   "cell_type": "code",
   "execution_count": 894,
   "id": "4732b493",
   "metadata": {
    "ExecuteTime": {
     "end_time": "2022-03-27T01:51:58.744386Z",
     "start_time": "2022-03-27T01:51:58.736387Z"
    }
   },
   "outputs": [],
   "source": [
    "def training_loop(model, criterion, optimizer, train_loader, epochs, device, print_every=50):\n",
    "    best_loss = 1e10\n",
    "    train_losses = []\n",
    " \n",
    "    for epoch in range(0, epochs):\n",
    "        model, optimizer, train_loss = train(train_loader, model, criterion, optimizer, device)\n",
    "        train_losses.append(train_loss)\n",
    "\n",
    "        if epoch % print_every == (print_every - 1):\n",
    "            print(f'{datetime.now().time().replace(microsecond=0)} --- '\n",
    "                  f'Epoch: {epoch}\\t'\n",
    "                  f'Train loss: {train_loss:.4f}')\n",
    "    \n",
    "    return model, optimizer, train_losses"
   ]
  },
  {
   "cell_type": "markdown",
   "id": "dc7e0734",
   "metadata": {},
   "source": [
    "+ Model"
   ]
  },
  {
   "cell_type": "code",
   "execution_count": 899,
   "id": "98dcfe42",
   "metadata": {
    "ExecuteTime": {
     "end_time": "2022-03-27T01:51:59.132986Z",
     "start_time": "2022-03-27T01:51:59.125282Z"
    }
   },
   "outputs": [],
   "source": [
    "class AttentionTransformation(nn.Module):\n",
    "\n",
    "    def __init__(self, device, img_size):\n",
    "        super().__init__()\n",
    "        \n",
    "        self.device = device\n",
    "        self.img_size = img_size\n",
    "        \n",
    "        self.feature_extractor = nn.Sequential(            \n",
    "            nn.Conv2d(in_channels=1, out_channels=8, kernel_size=5, stride=1),\n",
    "            nn.LeakyReLU(),\n",
    "            # nn.BatchNorm2d(8),\n",
    "            # nn.MaxPool2d(kernel_size=3),\n",
    "            nn.Conv2d(in_channels=8, out_channels=4, kernel_size=3, stride=1),\n",
    "            nn.LeakyReLU(),\n",
    "            nn.Conv2d(in_channels=4, out_channels=6, kernel_size=3, stride=2),\n",
    "            nn.LeakyReLU(),\n",
    "            nn.Conv2d(in_channels=6, out_channels=3, kernel_size=2, stride=2),\n",
    "            \n",
    "        )\n",
    "        \n",
    "        self.transf_ff = nn.Sequential(\n",
    "            nn.Linear(in_features=108, out_features=50),\n",
    "            nn.ReLU(),\n",
    "            nn.Linear(in_features=50, out_features=4)\n",
    "        )\n",
    "        \n",
    "        self.scale_ff = nn.Sequential(\n",
    "            nn.Linear(in_features=4, out_features=1),\n",
    "        )\n",
    "        \n",
    "        self.rot_ff = nn.Sequential(\n",
    "            nn.Linear(in_features=4, out_features=1)\n",
    "        )\n",
    "        \n",
    "        self.trans_x_ff = nn.Sequential(\n",
    "            nn.Linear(in_features=4, out_features=1),\n",
    "            nn.Tanh()\n",
    "        ) \n",
    "            \n",
    "        self.trans_y_ff = nn.Sequential(\n",
    "            nn.Linear(in_features=4, out_features=1),\n",
    "            nn.Tanh()\n",
    "        )\n",
    "\n",
    "\n",
    "    def forward(self, x_inp, is_evaling=False):\n",
    "        x = self.feature_extractor(x_inp)\n",
    "        x = torch.flatten(x, 1)\n",
    "        # print(x.shape)\n",
    "        trans = self.transf_ff(x)\n",
    "        trans_x = self.trans_x_ff(trans)\n",
    "        trans_y = self.trans_y_ff(trans)\n",
    "        scale_factor = torch.exp(self.scale_ff(trans))\n",
    "        # scale_factor = self.scale_ff(trans)\n",
    "        rot_factor = self.rot_ff(trans)\n",
    "        if is_evaling:\n",
    "            # print(trans)\n",
    "            print(\"Params:\\n-Scale: \" + str(scale_factor)+ \"\\n-Theta: \" + str(rot_factor)+\"\\n-Trans_x: \" + str(trans_x)+\"\\n-Trans_y: \" + str(trans_y))\n",
    "        trans_x =transform_img(x=x_inp, theta=rot_factor, scale_factor=scale_factor, device=self.device, trans_x=trans_x, trans_y=trans_y)\n",
    "        # trans_x =transform_img2(x_inp, trans)\n",
    "        return trans_x"
   ]
  },
  {
   "cell_type": "code",
   "execution_count": 900,
   "id": "e93391c9",
   "metadata": {
    "ExecuteTime": {
     "end_time": "2022-03-27T01:51:59.352232Z",
     "start_time": "2022-03-27T01:51:59.329235Z"
    }
   },
   "outputs": [],
   "source": [
    "torch.manual_seed(RANDOM_SEED)\n",
    "model = AttentionTransformation(device,IMG_SIZE).to(device)\n",
    "optimizer = torch.optim.Adam(model.parameters(), lr=LEARNING_RATE)\n",
    "criterion = nn.MSELoss(reduce=\"mean\")"
   ]
  },
  {
   "cell_type": "code",
   "execution_count": 901,
   "id": "ed6017aa",
   "metadata": {
    "ExecuteTime": {
     "end_time": "2022-03-27T01:52:06.550823Z",
     "start_time": "2022-03-27T01:51:59.697914Z"
    },
    "scrolled": true
   },
   "outputs": [
    {
     "name": "stdout",
     "output_type": "stream",
     "text": [
      "14:56:13 --- Epoch: 29\tTrain loss: 0.0010\n",
      "14:56:13 --- Epoch: 59\tTrain loss: 0.0007\n",
      "14:56:14 --- Epoch: 89\tTrain loss: 0.0007\n",
      "14:56:14 --- Epoch: 119\tTrain loss: 0.0007\n",
      "14:56:14 --- Epoch: 149\tTrain loss: 0.0007\n",
      "14:56:15 --- Epoch: 179\tTrain loss: 0.0007\n",
      "14:56:15 --- Epoch: 209\tTrain loss: 0.0007\n",
      "14:56:15 --- Epoch: 239\tTrain loss: 0.0007\n",
      "14:56:16 --- Epoch: 269\tTrain loss: 0.0007\n",
      "14:56:16 --- Epoch: 299\tTrain loss: 0.0007\n",
      "14:56:17 --- Epoch: 329\tTrain loss: 0.0007\n",
      "14:56:17 --- Epoch: 359\tTrain loss: 0.0007\n",
      "14:56:17 --- Epoch: 389\tTrain loss: 0.0007\n",
      "14:56:18 --- Epoch: 419\tTrain loss: 0.0007\n",
      "14:56:18 --- Epoch: 449\tTrain loss: 0.0007\n",
      "14:56:18 --- Epoch: 479\tTrain loss: 0.0007\n",
      "14:56:19 --- Epoch: 509\tTrain loss: 0.0007\n",
      "14:56:19 --- Epoch: 539\tTrain loss: 0.0007\n",
      "14:56:20 --- Epoch: 569\tTrain loss: 0.0007\n",
      "14:56:20 --- Epoch: 599\tTrain loss: 0.0007\n",
      "14:56:20 --- Epoch: 629\tTrain loss: 0.0007\n",
      "14:56:21 --- Epoch: 659\tTrain loss: 0.0007\n",
      "14:56:21 --- Epoch: 689\tTrain loss: 0.0007\n",
      "14:56:21 --- Epoch: 719\tTrain loss: 0.0007\n",
      "14:56:21 --- Epoch: 749\tTrain loss: 0.0007\n",
      "14:56:22 --- Epoch: 779\tTrain loss: 0.0007\n",
      "14:56:22 --- Epoch: 809\tTrain loss: 0.0007\n",
      "14:56:22 --- Epoch: 839\tTrain loss: 0.0007\n",
      "14:56:23 --- Epoch: 869\tTrain loss: 0.0007\n",
      "14:56:23 --- Epoch: 899\tTrain loss: 0.0007\n",
      "14:56:23 --- Epoch: 929\tTrain loss: 0.0007\n",
      "14:56:24 --- Epoch: 959\tTrain loss: 0.0007\n",
      "14:56:24 --- Epoch: 989\tTrain loss: 0.0007\n"
     ]
    }
   ],
   "source": [
    "model, optimizer, _ = training_loop(model, criterion, optimizer, train_loader, N_EPOCHS, device, print_every=30)"
   ]
  },
  {
   "cell_type": "markdown",
   "id": "e709c3bc",
   "metadata": {},
   "source": [
    "# Evaluation"
   ]
  },
  {
   "cell_type": "code",
   "execution_count": 902,
   "id": "c12a9f51",
   "metadata": {
    "ExecuteTime": {
     "end_time": "2022-03-27T01:52:07.520036Z",
     "start_time": "2022-03-27T01:52:07.511040Z"
    }
   },
   "outputs": [
    {
     "name": "stdout",
     "output_type": "stream",
     "text": [
      "Params:\n",
      "-Scale: tensor([[0.5748]], device='cuda:0')\n",
      "-Theta: tensor([[0.3975]], device='cuda:0')\n",
      "-Trans_x: tensor([[0.4348]], device='cuda:0')\n",
      "-Trans_y: tensor([[0.4012]], device='cuda:0')\n"
     ]
    }
   ],
   "source": [
    "with torch.no_grad():\n",
    "    y = model(next(iter(train_loader))[0].to(device),is_evaling=True)"
   ]
  },
  {
   "cell_type": "code",
   "execution_count": 865,
   "id": "144b0b91",
   "metadata": {
    "ExecuteTime": {
     "end_time": "2022-03-27T01:52:07.969770Z",
     "start_time": "2022-03-27T01:52:07.965372Z"
    }
   },
   "outputs": [
    {
     "data": {
      "text/plain": [
       "torch.Size([1, 1, 32, 32])"
      ]
     },
     "execution_count": 865,
     "metadata": {},
     "output_type": "execute_result"
    }
   ],
   "source": [
    "y.shape"
   ]
  },
  {
   "cell_type": "markdown",
   "id": "17a66850",
   "metadata": {},
   "source": [
    "+ What is as input:"
   ]
  },
  {
   "cell_type": "code",
   "execution_count": 903,
   "id": "ac09be04",
   "metadata": {
    "ExecuteTime": {
     "end_time": "2022-03-27T01:52:10.096720Z",
     "start_time": "2022-03-27T01:52:09.997631Z"
    }
   },
   "outputs": [
    {
     "data": {
      "text/plain": [
       "<Figure size 432x288 with 0 Axes>"
      ]
     },
     "execution_count": 903,
     "metadata": {},
     "output_type": "execute_result"
    },
    {
     "data": {
      "image/png": "[encoded data removed]",
      "text/plain": [
       "<Figure size 432x288 with 1 Axes>"
      ]
     },
     "metadata": {
      "needs_background": "light"
     },
     "output_type": "display_data"
    },
    {
     "data": {
      "text/plain": [
       "<Figure size 432x288 with 0 Axes>"
      ]
     },
     "metadata": {},
     "output_type": "display_data"
    }
   ],
   "source": [
    "plt.imshow(im_in.detach().cpu().permute(1,2,0), cmap='gray')\n",
    "plt.figure()"
   ]
  },
  {
   "cell_type": "markdown",
   "id": "2525174b",
   "metadata": {},
   "source": [
    "+ What is doing model:"
   ]
  },
  {
   "cell_type": "code",
   "execution_count": 904,
   "id": "ef78a69b",
   "metadata": {
    "ExecuteTime": {
     "end_time": "2022-03-27T01:52:11.292999Z",
     "start_time": "2022-03-27T01:52:11.197714Z"
    }
   },
   "outputs": [
    {
     "data": {
      "text/plain": [
       "<Figure size 432x288 with 0 Axes>"
      ]
     },
     "execution_count": 904,
     "metadata": {},
     "output_type": "execute_result"
    },
    {
     "data": {
      "image/png": "[encoded data removed]",
      "text/plain": [
       "<Figure size 432x288 with 1 Axes>"
      ]
     },
     "metadata": {
      "needs_background": "light"
     },
     "output_type": "display_data"
    },
    {
     "data": {
      "text/plain": [
       "<Figure size 432x288 with 0 Axes>"
      ]
     },
     "metadata": {},
     "output_type": "display_data"
    }
   ],
   "source": [
    "plt.imshow(y.detach().cpu().squeeze(0).permute(1,2,0), cmap='gray')\n",
    "plt.figure()"
   ]
  },
  {
   "cell_type": "markdown",
   "id": "6ba2d9c4",
   "metadata": {},
   "source": [
    "+ What should do model:"
   ]
  },
  {
   "cell_type": "code",
   "execution_count": 905,
   "id": "52bd1ea0",
   "metadata": {
    "ExecuteTime": {
     "end_time": "2022-03-27T01:52:12.986298Z",
     "start_time": "2022-03-27T01:52:12.885291Z"
    }
   },
   "outputs": [
    {
     "data": {
      "text/plain": [
       "<Figure size 432x288 with 0 Axes>"
      ]
     },
     "execution_count": 905,
     "metadata": {},
     "output_type": "execute_result"
    },
    {
     "data": {
      "image/png": "[encoded data removed]",
      "text/plain": [
       "<Figure size 432x288 with 1 Axes>"
      ]
     },
     "metadata": {
      "needs_background": "light"
     },
     "output_type": "display_data"
    },
    {
     "data": {
      "text/plain": [
       "<Figure size 432x288 with 0 Axes>"
      ]
     },
     "metadata": {},
     "output_type": "display_data"
    }
   ],
   "source": [
    "plt.imshow(im_out.detach().cpu().permute(1,2,0), cmap='gray')\n",
    "plt.figure()"
   ]
  },
  {
   "cell_type": "code",
   "execution_count": null,
   "id": "0a4f9bec",
   "metadata": {},
   "outputs": [],
   "source": []
  },
  {
   "cell_type": "code",
   "execution_count": null,
   "id": "abe73f18",
   "metadata": {},
   "outputs": [],
   "source": []
  }
 ],
 "metadata": {
  "kernelspec": {
   "display_name": "Python 3 (ipykernel)",
   "language": "python",
   "name": "python3"
  },
  "language_info": {
   "codemirror_mode": {
    "name": "ipython",
    "version": 3
   },
   "file_extension": ".py",
   "mimetype": "text/x-python",
   "name": "python",
   "nbconvert_exporter": "python",
   "pygments_lexer": "ipython3",
   "version": "3.9.5"
  },
  "toc": {
   "base_numbering": 1,
   "nav_menu": {},
   "number_sections": true,
   "sideBar": true,
   "skip_h1_title": false,
   "title_cell": "Table of Contents",
   "title_sidebar": "Contents",
   "toc_cell": false,
   "toc_position": {},
   "toc_section_display": true,
   "toc_window_display": false
  }
 },
 "nbformat": 4,
 "nbformat_minor": 5
}
