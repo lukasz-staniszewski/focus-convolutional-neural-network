{
 "cells": [
  {
   "cell_type": "code",
   "execution_count": null,
   "id": "14608f5b",
   "metadata": {},
   "outputs": [],
   "source": [
    "# todo"
   ]
  },
  {
   "cell_type": "markdown",
   "id": "ac2c37a8",
   "metadata": {},
   "source": [
    "# Libs, cuda, seed, params"
   ]
  },
  {
   "cell_type": "code",
   "execution_count": 578,
   "id": "316f9153",
   "metadata": {
    "ExecuteTime": {
     "end_time": "2022-03-27T01:51:55.296081Z",
     "start_time": "2022-03-27T01:51:55.285908Z"
    }
   },
   "outputs": [],
   "source": [
    "import torch\n",
    "import torch.nn as nn\n",
    "import torch.nn.functional as F\n",
    "from torch.utils.data import Dataset, DataLoader\n",
    "from torchvision.io import read_image\n",
    "import torchvision.transforms as T\n",
    "import numpy as np\n",
    "import matplotlib.pyplot as plt\n",
    "from PIL import Image\n",
    "from datetime import datetime\n",
    "from torch.nn.utils import clip_grad_norm_"
   ]
  },
  {
   "cell_type": "code",
   "execution_count": 579,
   "id": "3cae1e6e",
   "metadata": {
    "ExecuteTime": {
     "end_time": "2022-03-27T01:51:55.822008Z",
     "start_time": "2022-03-27T01:51:55.808816Z"
    }
   },
   "outputs": [
    {
     "data": {
      "text/plain": [
       "device(type='cuda')"
      ]
     },
     "execution_count": 579,
     "metadata": {},
     "output_type": "execute_result"
    }
   ],
   "source": [
    "device = torch.device(\"cuda\" if torch.cuda.is_available() else \"cpu\")\n",
    "device"
   ]
  },
  {
   "cell_type": "code",
   "execution_count": 580,
   "id": "111b9a7d",
   "metadata": {
    "ExecuteTime": {
     "end_time": "2022-03-27T01:51:55.852974Z",
     "start_time": "2022-03-27T01:51:55.840971Z"
    }
   },
   "outputs": [],
   "source": [
    "# parameters\n",
    "RANDOM_SEED = 420\n",
    "LEARNING_RATE = 0.01\n",
    "BATCH_SIZE = 1\n",
    "N_EPOCHS = 10000\n",
    "IMG_SIZE = 32"
   ]
  },
  {
   "cell_type": "markdown",
   "id": "529bdb05",
   "metadata": {},
   "source": [
    "# Data"
   ]
  },
  {
   "cell_type": "code",
   "execution_count": 581,
   "id": "c924b3d0",
   "metadata": {
    "ExecuteTime": {
     "end_time": "2022-03-27T01:51:55.914997Z",
     "start_time": "2022-03-27T01:51:55.906973Z"
    }
   },
   "outputs": [],
   "source": [
    "def convert_img_to_gray(image, path=None):\n",
    "    imgGray = image.convert('L')\n",
    "    if path:\n",
    "        imgGray.save(path)\n",
    "    return imgGray"
   ]
  },
  {
   "cell_type": "code",
   "execution_count": 582,
   "id": "7380ae95",
   "metadata": {},
   "outputs": [],
   "source": [
    "im_in_path = 'images/only_trans/one_bottom_little'\n",
    "im_out_path = 'images/only_trans/one_center'"
   ]
  },
  {
   "cell_type": "code",
   "execution_count": 583,
   "id": "98affc5a",
   "metadata": {
    "ExecuteTime": {
     "end_time": "2022-03-27T01:51:55.995006Z",
     "start_time": "2022-03-27T01:51:55.974972Z"
    }
   },
   "outputs": [],
   "source": [
    "# 3-ch im -> 1-ch im\n",
    "im_in = Image.open(im_in_path+\".jpg\")\n",
    "im_out = Image.open(im_out_path+\".jpg\")\n",
    "im_in = convert_img_to_gray(im_in, im_in_path+\"_bw.jpg\")\n",
    "im_out = convert_img_to_gray(im_out, im_out_path+\"_bw.jpg\")"
   ]
  },
  {
   "cell_type": "code",
   "execution_count": 584,
   "id": "9ed21da5",
   "metadata": {
    "ExecuteTime": {
     "end_time": "2022-03-27T01:51:56.026006Z",
     "start_time": "2022-03-27T01:51:56.007976Z"
    }
   },
   "outputs": [],
   "source": [
    "transform = T.Compose(transforms=[\n",
    "    T.ToPILImage(),\n",
    "    T.Resize(size=(IMG_SIZE, IMG_SIZE)),\n",
    "    T.ToTensor(),\n",
    "    # T.Normalize(mean=0.0419, std=0.1478)\n",
    "])"
   ]
  },
  {
   "cell_type": "code",
   "execution_count": 585,
   "id": "d0483f48",
   "metadata": {
    "ExecuteTime": {
     "end_time": "2022-03-27T01:51:56.119009Z",
     "start_time": "2022-03-27T01:51:56.107974Z"
    }
   },
   "outputs": [],
   "source": [
    "im_in = read_image(im_in_path+\"_bw.jpg\")\n",
    "im_out = read_image(im_out_path+\"_bw.jpg\")\n",
    "im_in = transform(im_in)\n",
    "im_out = transform(im_out)"
   ]
  },
  {
   "cell_type": "code",
   "execution_count": 586,
   "id": "c39c3c29",
   "metadata": {},
   "outputs": [
    {
     "name": "stdout",
     "output_type": "stream",
     "text": [
      "tensor(0.2886)\n",
      "tensor(0.0964)\n"
     ]
    }
   ],
   "source": [
    "stat_torch = torch.stack([im_in, im_out])\n",
    "print(torch.std(stat_torch))\n",
    "print(torch.mean(stat_torch))"
   ]
  },
  {
   "cell_type": "code",
   "execution_count": 587,
   "id": "176e5f26",
   "metadata": {
    "ExecuteTime": {
     "end_time": "2022-03-27T01:51:56.149971Z",
     "start_time": "2022-03-27T01:51:56.142003Z"
    }
   },
   "outputs": [
    {
     "name": "stdout",
     "output_type": "stream",
     "text": [
      "torch.Size([1, 32, 32])\n",
      "torch.Size([1, 32, 32])\n"
     ]
    }
   ],
   "source": [
    "print(im_in.shape)\n",
    "print(im_out.shape)"
   ]
  },
  {
   "cell_type": "markdown",
   "id": "238cd6e5",
   "metadata": {},
   "source": [
    "+ In"
   ]
  },
  {
   "cell_type": "code",
   "execution_count": 588,
   "id": "3b28814d",
   "metadata": {
    "ExecuteTime": {
     "end_time": "2022-03-27T01:51:56.307468Z",
     "start_time": "2022-03-27T01:51:56.206974Z"
    }
   },
   "outputs": [
    {
     "data": {
      "text/plain": [
       "<Figure size 432x288 with 0 Axes>"
      ]
     },
     "execution_count": 588,
     "metadata": {},
     "output_type": "execute_result"
    },
    {
     "data": {
      "image/png": "[encoded data removed]",
      "text/plain": [
       "<Figure size 432x288 with 1 Axes>"
      ]
     },
     "metadata": {
      "needs_background": "light"
     },
     "output_type": "display_data"
    },
    {
     "data": {
      "text/plain": [
       "<Figure size 432x288 with 0 Axes>"
      ]
     },
     "metadata": {},
     "output_type": "display_data"
    }
   ],
   "source": [
    "plt.imshow(im_in.detach().cpu().permute(1,2,0), cmap='gray')\n",
    "plt.figure()"
   ]
  },
  {
   "cell_type": "markdown",
   "id": "b2fc265c",
   "metadata": {},
   "source": [
    "+ Out"
   ]
  },
  {
   "cell_type": "code",
   "execution_count": 589,
   "id": "645ca9f9",
   "metadata": {
    "ExecuteTime": {
     "end_time": "2022-03-27T01:51:56.415232Z",
     "start_time": "2022-03-27T01:51:56.309573Z"
    },
    "scrolled": true
   },
   "outputs": [
    {
     "data": {
      "text/plain": [
       "<Figure size 432x288 with 0 Axes>"
      ]
     },
     "execution_count": 589,
     "metadata": {},
     "output_type": "execute_result"
    },
    {
     "data": {
      "image/png": "[encoded data removed]",
      "text/plain": [
       "<Figure size 432x288 with 1 Axes>"
      ]
     },
     "metadata": {
      "needs_background": "light"
     },
     "output_type": "display_data"
    },
    {
     "data": {
      "text/plain": [
       "<Figure size 432x288 with 0 Axes>"
      ]
     },
     "metadata": {},
     "output_type": "display_data"
    }
   ],
   "source": [
    "plt.imshow(im_out.detach().cpu().permute(1,2,0), cmap='gray')\n",
    "plt.figure()"
   ]
  },
  {
   "cell_type": "code",
   "execution_count": 590,
   "id": "4f9c9dc3",
   "metadata": {
    "ExecuteTime": {
     "end_time": "2022-03-27T01:51:56.431231Z",
     "start_time": "2022-03-27T01:51:56.417199Z"
    }
   },
   "outputs": [],
   "source": [
    "class CustomTestDataset(Dataset):\n",
    "    def __init__(self, image_in, image_out):\n",
    "        self.img_labels = (image_in, image_out)\n",
    "\n",
    "    def __len__(self):\n",
    "        return 1\n",
    "\n",
    "    def __getitem__(self, idx):\n",
    "        return self.img_labels[0], self.img_labels[1]"
   ]
  },
  {
   "cell_type": "code",
   "execution_count": 591,
   "id": "9c78820b",
   "metadata": {
    "ExecuteTime": {
     "end_time": "2022-03-27T01:51:56.540183Z",
     "start_time": "2022-03-27T01:51:56.521182Z"
    }
   },
   "outputs": [],
   "source": [
    "train_loader = DataLoader(dataset=CustomTestDataset(im_in, im_out), \n",
    "                          batch_size=BATCH_SIZE, \n",
    "                          shuffle=False)"
   ]
  },
  {
   "cell_type": "markdown",
   "id": "e50d2640",
   "metadata": {},
   "source": [
    "# Transform functions"
   ]
  },
  {
   "cell_type": "code",
   "execution_count": 592,
   "id": "65e55d12",
   "metadata": {
    "ExecuteTime": {
     "end_time": "2022-03-27T01:51:56.865247Z",
     "start_time": "2022-03-27T01:51:56.859744Z"
    }
   },
   "outputs": [],
   "source": [
    "def get_rot_mat(theta, device):\n",
    "    theta_cos = torch.cos(input=theta)\n",
    "    theta_sin = torch.sin(input=theta)\n",
    "    zeros = torch.zeros_like(input=theta_cos).to(device)\n",
    "    return torch.stack(tensors=[theta_cos, -theta_sin, zeros, theta_sin, theta_cos, zeros]).view(2,3)"
   ]
  },
  {
   "cell_type": "code",
   "execution_count": 593,
   "id": "a76dc9aa",
   "metadata": {
    "ExecuteTime": {
     "end_time": "2022-03-27T01:51:57.050199Z",
     "start_time": "2022-03-27T01:51:57.046165Z"
    }
   },
   "outputs": [],
   "source": [
    "def get_scale_matrix(scale_factor, device):\n",
    "    zeros = torch.zeros_like(input=scale_factor).to(device)\n",
    "    return torch.stack(tensors=[scale_factor, zeros, zeros, zeros, scale_factor, zeros]).view(2,3)"
   ]
  },
  {
   "cell_type": "code",
   "execution_count": 594,
   "id": "a1a5f62c",
   "metadata": {},
   "outputs": [],
   "source": [
    "def get_scale_rot_matrix(theta, scale_factor, device):\n",
    "    theta_cos = torch.cos(input=theta)\n",
    "    theta_sin = torch.sin(input=theta)\n",
    "    zeros = torch.zeros_like(input=theta_cos).to(device)\n",
    "    return torch.stack(tensors=[scale_factor*theta_cos, scale_factor * (-theta_sin), zeros, scale_factor * theta_sin, scale_factor*theta_cos, zeros]).view(2,3)"
   ]
  },
  {
   "cell_type": "code",
   "execution_count": 595,
   "id": "70a48ef9",
   "metadata": {
    "ExecuteTime": {
     "end_time": "2022-03-27T01:51:57.301514Z",
     "start_time": "2022-03-27T01:51:57.297774Z"
    }
   },
   "outputs": [],
   "source": [
    "def get_transform_matrix(theta, scale_factor, trans_x, trans_y, device):\n",
    "    theta_cos = torch.cos(input=theta)\n",
    "    theta_sin = torch.sin(input=theta)\n",
    "    return torch.stack(tensors=[scale_factor*theta_cos, scale_factor * (-theta_sin), trans_x, scale_factor * theta_sin, scale_factor*theta_cos, trans_y]).view(2,3)"
   ]
  },
  {
   "cell_type": "code",
   "execution_count": 596,
   "id": "6368ccaa",
   "metadata": {
    "ExecuteTime": {
     "end_time": "2022-03-27T01:51:57.518490Z",
     "start_time": "2022-03-27T01:51:57.502461Z"
    }
   },
   "outputs": [],
   "source": [
    "def rot_img(x, theta, device):\n",
    "    rot_mat = get_rot_mat(theta=theta, device=device).unsqueeze(dim=0).repeat(x.shape[0],1,1)    # repeat for whole batch\n",
    "    grid = F.affine_grid(theta=rot_mat, size=x.size(), align_corners=False)\n",
    "    x = F.grid_sample(input=x, grid=grid, align_corners=False)\n",
    "    return x"
   ]
  },
  {
   "cell_type": "code",
   "execution_count": 597,
   "id": "7bdbd350",
   "metadata": {
    "ExecuteTime": {
     "end_time": "2022-03-27T01:51:57.704278Z",
     "start_time": "2022-03-27T01:51:57.686278Z"
    }
   },
   "outputs": [],
   "source": [
    "def scale_img(x, scale_factor, device):\n",
    "    scale_mat = get_scale_matrix(scale_factor=scale_factor, device=device).unsqueeze(dim=0).repeat(x.shape[0],1,1)    # repeat for whole batch\n",
    "    grid = F.affine_grid(theta=scale_mat, size=x.size(), align_corners=False)\n",
    "    x = F.grid_sample(input=x, grid=grid, align_corners=False)\n",
    "    return x"
   ]
  },
  {
   "cell_type": "code",
   "execution_count": 598,
   "id": "24b57d8d",
   "metadata": {
    "ExecuteTime": {
     "end_time": "2022-03-27T01:51:57.875438Z",
     "start_time": "2022-03-27T01:51:57.867406Z"
    }
   },
   "outputs": [],
   "source": [
    "def scale_rot_img(x, theta, scale_factor, device):\n",
    "    scale_mat = get_scale_rot_matrix(theta = theta, scale_factor=scale_factor, device=device).unsqueeze(dim=0).repeat(x.shape[0],1,1)    # repeat for whole batch\n",
    "    grid = F.affine_grid(theta=scale_mat, size=x.size(), align_corners=False)\n",
    "    x = F.grid_sample(input=x, grid=grid, align_corners=False)\n",
    "    return x"
   ]
  },
  {
   "cell_type": "code",
   "execution_count": 599,
   "id": "04586182",
   "metadata": {},
   "outputs": [],
   "source": [
    "def transform_img(x, theta, scale_factor, trans_x, trans_y, device):\n",
    "    scale_mat = get_transform_matrix(theta = theta, scale_factor=scale_factor, trans_x=trans_x, trans_y=trans_y,device=device).unsqueeze(dim=0).repeat(x.shape[0],1,1)    # repeat for whole batch\n",
    "    grid = F.affine_grid(theta=scale_mat, size=x.size(), align_corners=False)\n",
    "    x = F.grid_sample(input=x, grid=grid, align_corners=False)\n",
    "    return x"
   ]
  },
  {
   "cell_type": "code",
   "execution_count": 600,
   "id": "bed224fe",
   "metadata": {},
   "outputs": [],
   "source": [
    "def transform_img_with_matrix(x, trans_matrix):\n",
    "    scale_mat = trans_matrix.view(2,3).unsqueeze(dim=0).repeat(x.shape[0],1,1)    # repeat for whole batch\n",
    "    grid = F.affine_grid(theta=scale_mat, size=x.size(), align_corners=False)\n",
    "    x = F.grid_sample(input=x, grid=grid, align_corners=False)\n",
    "    return x"
   ]
  },
  {
   "cell_type": "markdown",
   "id": "26d27b3c",
   "metadata": {},
   "source": [
    "# Network"
   ]
  },
  {
   "cell_type": "markdown",
   "id": "f80a8487",
   "metadata": {},
   "source": [
    "+ Functions"
   ]
  },
  {
   "cell_type": "code",
   "execution_count": 601,
   "id": "f44c1a9d",
   "metadata": {
    "ExecuteTime": {
     "end_time": "2022-03-27T01:51:58.403160Z",
     "start_time": "2022-03-27T01:51:58.392782Z"
    }
   },
   "outputs": [],
   "source": [
    "def train(train_loader, model, criterion, optimizer, device):\n",
    "    model.train()\n",
    "    running_loss = 0\n",
    "    \n",
    "    for X, y_true in train_loader:\n",
    "        optimizer.zero_grad()\n",
    "        \n",
    "        X = X.to(device)\n",
    "        y_true = y_true.to(device)\n",
    "    \n",
    "        y_hat = model(X) \n",
    "        loss = criterion(y_hat, y_true) \n",
    "        running_loss += loss.item() * X.size(0)\n",
    "\n",
    "        loss.backward()\n",
    "        clip_grad_norm_(model.parameters(), max_norm=0.1)\n",
    "        optimizer.step()\n",
    "        \n",
    "    epoch_loss = running_loss / len(train_loader.dataset)\n",
    "    return model, optimizer, epoch_loss"
   ]
  },
  {
   "cell_type": "code",
   "execution_count": 602,
   "id": "3e8a20cf",
   "metadata": {
    "ExecuteTime": {
     "end_time": "2022-03-27T01:51:58.589004Z",
     "start_time": "2022-03-27T01:51:58.575969Z"
    }
   },
   "outputs": [],
   "source": [
    "def validate(valid_loader, model, criterion, device):\n",
    "    model.eval()\n",
    "    running_loss = 0\n",
    "    \n",
    "    for X, y_true in valid_loader:\n",
    "        X = X.to(device)\n",
    "        y_true = y_true.to(device)\n",
    "\n",
    "        y_hat = model(X) \n",
    "        loss = criterion(y_hat, y_true) \n",
    "        running_loss += loss.item() * X.size(0)\n",
    "\n",
    "    epoch_loss = running_loss / len(valid_loader.dataset)\n",
    "        \n",
    "    return model, epoch_loss"
   ]
  },
  {
   "cell_type": "code",
   "execution_count": 603,
   "id": "4732b493",
   "metadata": {
    "ExecuteTime": {
     "end_time": "2022-03-27T01:51:58.744386Z",
     "start_time": "2022-03-27T01:51:58.736387Z"
    }
   },
   "outputs": [],
   "source": [
    "def training_loop(model, criterion, optimizer, train_loader, epochs, device, print_every=50):\n",
    "    best_loss = 1e10\n",
    "    train_losses = []\n",
    " \n",
    "    for epoch in range(0, epochs):\n",
    "        model, optimizer, train_loss = train(train_loader, model, criterion, optimizer, device)\n",
    "        train_losses.append(train_loss)\n",
    "        \n",
    "        if epoch % print_every == (print_every - 1):\n",
    "            print(f'{datetime.now().time().replace(microsecond=0)} --- '\n",
    "                  f'Epoch: {epoch}\\t'\n",
    "                  f'Train loss: {train_loss:.4f}')\n",
    "    \n",
    "    return model, optimizer, train_losses"
   ]
  },
  {
   "cell_type": "markdown",
   "id": "dc7e0734",
   "metadata": {},
   "source": [
    "+ Model"
   ]
  },
  {
   "cell_type": "code",
   "execution_count": 604,
   "id": "98dcfe42",
   "metadata": {
    "ExecuteTime": {
     "end_time": "2022-03-27T01:51:59.132986Z",
     "start_time": "2022-03-27T01:51:59.125282Z"
    }
   },
   "outputs": [],
   "source": [
    "class AttentionTransformation(nn.Module):\n",
    "\n",
    "    def __init__(self, device, img_size):\n",
    "        super().__init__()\n",
    "        \n",
    "        self.device = device\n",
    "        self.img_size = img_size\n",
    "        \n",
    "        self.feature_extractor = nn.Sequential(            \n",
    "            nn.Conv2d(in_channels=1, out_channels=8, kernel_size=5, stride=1),\n",
    "            nn.LeakyReLU(),\n",
    "            # nn.BatchNorm2d(8),\n",
    "            # nn.MaxPool2d(kernel_size=3),\n",
    "            nn.Conv2d(in_channels=8, out_channels=4, kernel_size=3, stride=1),\n",
    "            nn.LeakyReLU(),\n",
    "            nn.Conv2d(in_channels=4, out_channels=6, kernel_size=3, stride=2),\n",
    "            nn.LeakyReLU(),\n",
    "            nn.Conv2d(in_channels=6, out_channels=3, kernel_size=2, stride=2),\n",
    "            \n",
    "        )\n",
    "        \n",
    "        self.transf_ff = nn.Sequential(\n",
    "            nn.Linear(in_features=108, out_features=50),\n",
    "            nn.ReLU(),\n",
    "            nn.Linear(in_features=50, out_features=4)\n",
    "        )\n",
    "        \n",
    "        self.scale_ff = nn.Sequential(\n",
    "            nn.Linear(in_features=4, out_features=1),\n",
    "        )\n",
    "        \n",
    "        self.rot_ff = nn.Sequential(\n",
    "            nn.Linear(in_features=4, out_features=1)\n",
    "        )\n",
    "        \n",
    "        self.trans_x_ff = nn.Sequential(\n",
    "            nn.Linear(in_features=4, out_features=1),\n",
    "            nn.Tanh()\n",
    "        ) \n",
    "            \n",
    "        self.trans_y_ff = nn.Sequential(\n",
    "            nn.Linear(in_features=4, out_features=1),\n",
    "            nn.Tanh()\n",
    "        )\n",
    "        \n",
    "        # zeroing transformation weights\n",
    "        with torch.no_grad():\n",
    "            self.transf_ff[0].weight.data.zero_()\n",
    "            self.transf_ff[2].weight.data.zero_()            \n",
    "            self.scale_ff[0].weight.data.zero_()            \n",
    "            self.rot_ff[0].weight.data.zero_()            \n",
    "            self.trans_x_ff[0].weight.data.zero_()                       \n",
    "            self.trans_y_ff[0].weight.data.zero_()\n",
    "\n",
    "\n",
    "    def forward(self, x_inp, is_evaling=False):\n",
    "        x = self.feature_extractor(x_inp)\n",
    "        x = torch.flatten(x, 1)\n",
    "        # print(x.shape)\n",
    "        trans = self.transf_ff(x)\n",
    "        trans_x = self.trans_x_ff(trans)\n",
    "        trans_y = self.trans_y_ff(trans)\n",
    "        scale_factor = torch.exp(self.scale_ff(trans))\n",
    "        rot_factor = self.rot_ff(trans)\n",
    "        if is_evaling:\n",
    "            print(\"Params:\\n-Scale: \" + str(scale_factor)+ \"\\n-Theta: \" + str(rot_factor)+\"\\n-Trans_x: \" + str(trans_x)+\"\\n-Trans_y: \" + str(trans_y))\n",
    "        trans_x =transform_img(x=x_inp, theta=rot_factor, scale_factor=scale_factor, device=self.device, trans_x=trans_x, trans_y=trans_y)\n",
    "        return trans_x"
   ]
  },
  {
   "cell_type": "code",
   "execution_count": 605,
   "id": "e93391c9",
   "metadata": {
    "ExecuteTime": {
     "end_time": "2022-03-27T01:51:59.352232Z",
     "start_time": "2022-03-27T01:51:59.329235Z"
    }
   },
   "outputs": [],
   "source": [
    "torch.manual_seed(RANDOM_SEED)\n",
    "model = AttentionTransformation(device,IMG_SIZE).to(device)\n",
    "optimizer = torch.optim.Adam(model.parameters(), lr=LEARNING_RATE)\n",
    "criterion = nn.MSELoss(reduce=\"mean\")"
   ]
  },
  {
   "cell_type": "code",
   "execution_count": 606,
   "id": "ed6017aa",
   "metadata": {
    "ExecuteTime": {
     "end_time": "2022-03-27T01:52:06.550823Z",
     "start_time": "2022-03-27T01:51:59.697914Z"
    },
    "scrolled": true
   },
   "outputs": [
    {
     "name": "stdout",
     "output_type": "stream",
     "text": [
      "21:28:04 --- Epoch: 29\tTrain loss: 0.0035\n",
      "21:28:04 --- Epoch: 59\tTrain loss: 0.0001\n",
      "21:28:05 --- Epoch: 89\tTrain loss: 0.0001\n",
      "21:28:05 --- Epoch: 119\tTrain loss: 0.0001\n",
      "21:28:05 --- Epoch: 149\tTrain loss: 0.0001\n",
      "21:28:06 --- Epoch: 179\tTrain loss: 0.0001\n",
      "21:28:06 --- Epoch: 209\tTrain loss: 0.0001\n",
      "21:28:06 --- Epoch: 239\tTrain loss: 0.0001\n",
      "21:28:07 --- Epoch: 269\tTrain loss: 0.0001\n",
      "21:28:07 --- Epoch: 299\tTrain loss: 0.0001\n"
     ]
    },
    {
     "ename": "KeyboardInterrupt",
     "evalue": "",
     "output_type": "error",
     "traceback": [
      "\u001b[1;31m---------------------------------------------------------------------------\u001b[0m",
      "\u001b[1;31mKeyboardInterrupt\u001b[0m                         Traceback (most recent call last)",
      "\u001b[1;32mc:\\Users\\01149762\\Documents\\AI\\engineer-thesis\\notebooks\\diff_transforms\\test_all_transformations.ipynb Cell 37'\u001b[0m in \u001b[0;36m<cell line: 1>\u001b[1;34m()\u001b[0m\n\u001b[1;32m----> <a href='vscode-notebook-cell:/c%3A/Users/01149762/Documents/AI/engineer-thesis/notebooks/diff_transforms/test_all_transformations.ipynb#ch0000036?line=0'>1</a>\u001b[0m model, optimizer, _ \u001b[39m=\u001b[39m training_loop(model, criterion, optimizer, train_loader, N_EPOCHS, device, print_every\u001b[39m=\u001b[39;49m\u001b[39m30\u001b[39;49m)\n",
      "\u001b[1;32mc:\\Users\\01149762\\Documents\\AI\\engineer-thesis\\notebooks\\diff_transforms\\test_all_transformations.ipynb Cell 33'\u001b[0m in \u001b[0;36mtraining_loop\u001b[1;34m(model, criterion, optimizer, train_loader, epochs, device, print_every)\u001b[0m\n\u001b[0;32m      <a href='vscode-notebook-cell:/c%3A/Users/01149762/Documents/AI/engineer-thesis/notebooks/diff_transforms/test_all_transformations.ipynb#ch0000032?line=2'>3</a>\u001b[0m train_losses \u001b[39m=\u001b[39m []\n\u001b[0;32m      <a href='vscode-notebook-cell:/c%3A/Users/01149762/Documents/AI/engineer-thesis/notebooks/diff_transforms/test_all_transformations.ipynb#ch0000032?line=4'>5</a>\u001b[0m \u001b[39mfor\u001b[39;00m epoch \u001b[39min\u001b[39;00m \u001b[39mrange\u001b[39m(\u001b[39m0\u001b[39m, epochs):\n\u001b[1;32m----> <a href='vscode-notebook-cell:/c%3A/Users/01149762/Documents/AI/engineer-thesis/notebooks/diff_transforms/test_all_transformations.ipynb#ch0000032?line=5'>6</a>\u001b[0m     model, optimizer, train_loss \u001b[39m=\u001b[39m train(train_loader, model, criterion, optimizer, device)\n\u001b[0;32m      <a href='vscode-notebook-cell:/c%3A/Users/01149762/Documents/AI/engineer-thesis/notebooks/diff_transforms/test_all_transformations.ipynb#ch0000032?line=6'>7</a>\u001b[0m     train_losses\u001b[39m.\u001b[39mappend(train_loss)\n\u001b[0;32m      <a href='vscode-notebook-cell:/c%3A/Users/01149762/Documents/AI/engineer-thesis/notebooks/diff_transforms/test_all_transformations.ipynb#ch0000032?line=8'>9</a>\u001b[0m     \u001b[39mif\u001b[39;00m epoch \u001b[39m%\u001b[39m print_every \u001b[39m==\u001b[39m (print_every \u001b[39m-\u001b[39m \u001b[39m1\u001b[39m):\n",
      "\u001b[1;32mc:\\Users\\01149762\\Documents\\AI\\engineer-thesis\\notebooks\\diff_transforms\\test_all_transformations.ipynb Cell 31'\u001b[0m in \u001b[0;36mtrain\u001b[1;34m(train_loader, model, criterion, optimizer, device)\u001b[0m\n\u001b[0;32m     <a href='vscode-notebook-cell:/c%3A/Users/01149762/Documents/AI/engineer-thesis/notebooks/diff_transforms/test_all_transformations.ipynb#ch0000030?line=14'>15</a>\u001b[0m     loss\u001b[39m.\u001b[39mbackward()\n\u001b[0;32m     <a href='vscode-notebook-cell:/c%3A/Users/01149762/Documents/AI/engineer-thesis/notebooks/diff_transforms/test_all_transformations.ipynb#ch0000030?line=15'>16</a>\u001b[0m     clip_grad_norm_(model\u001b[39m.\u001b[39mparameters(), max_norm\u001b[39m=\u001b[39m\u001b[39m0.1\u001b[39m)\n\u001b[1;32m---> <a href='vscode-notebook-cell:/c%3A/Users/01149762/Documents/AI/engineer-thesis/notebooks/diff_transforms/test_all_transformations.ipynb#ch0000030?line=16'>17</a>\u001b[0m     optimizer\u001b[39m.\u001b[39;49mstep()\n\u001b[0;32m     <a href='vscode-notebook-cell:/c%3A/Users/01149762/Documents/AI/engineer-thesis/notebooks/diff_transforms/test_all_transformations.ipynb#ch0000030?line=18'>19</a>\u001b[0m epoch_loss \u001b[39m=\u001b[39m running_loss \u001b[39m/\u001b[39m \u001b[39mlen\u001b[39m(train_loader\u001b[39m.\u001b[39mdataset)\n\u001b[0;32m     <a href='vscode-notebook-cell:/c%3A/Users/01149762/Documents/AI/engineer-thesis/notebooks/diff_transforms/test_all_transformations.ipynb#ch0000030?line=19'>20</a>\u001b[0m \u001b[39mreturn\u001b[39;00m model, optimizer, epoch_loss\n",
      "File \u001b[1;32mc:\\Users\\01149762\\Documents\\AI\\engineer-thesis\\venv\\lib\\site-packages\\torch\\optim\\optimizer.py:88\u001b[0m, in \u001b[0;36mOptimizer._hook_for_profile.<locals>.profile_hook_step.<locals>.wrapper\u001b[1;34m(*args, **kwargs)\u001b[0m\n\u001b[0;32m     <a href='file:///c%3A/Users/01149762/Documents/AI/engineer-thesis/venv/lib/site-packages/torch/optim/optimizer.py?line=85'>86</a>\u001b[0m profile_name \u001b[39m=\u001b[39m \u001b[39m\"\u001b[39m\u001b[39mOptimizer.step#\u001b[39m\u001b[39m{}\u001b[39;00m\u001b[39m.step\u001b[39m\u001b[39m\"\u001b[39m\u001b[39m.\u001b[39mformat(obj\u001b[39m.\u001b[39m\u001b[39m__class__\u001b[39m\u001b[39m.\u001b[39m\u001b[39m__name__\u001b[39m)\n\u001b[0;32m     <a href='file:///c%3A/Users/01149762/Documents/AI/engineer-thesis/venv/lib/site-packages/torch/optim/optimizer.py?line=86'>87</a>\u001b[0m \u001b[39mwith\u001b[39;00m torch\u001b[39m.\u001b[39mautograd\u001b[39m.\u001b[39mprofiler\u001b[39m.\u001b[39mrecord_function(profile_name):\n\u001b[1;32m---> <a href='file:///c%3A/Users/01149762/Documents/AI/engineer-thesis/venv/lib/site-packages/torch/optim/optimizer.py?line=87'>88</a>\u001b[0m     \u001b[39mreturn\u001b[39;00m func(\u001b[39m*\u001b[39margs, \u001b[39m*\u001b[39m\u001b[39m*\u001b[39mkwargs)\n",
      "File \u001b[1;32mc:\\Users\\01149762\\Documents\\AI\\engineer-thesis\\venv\\lib\\site-packages\\torch\\autograd\\grad_mode.py:28\u001b[0m, in \u001b[0;36m_DecoratorContextManager.__call__.<locals>.decorate_context\u001b[1;34m(*args, **kwargs)\u001b[0m\n\u001b[0;32m     <a href='file:///c%3A/Users/01149762/Documents/AI/engineer-thesis/venv/lib/site-packages/torch/autograd/grad_mode.py?line=24'>25</a>\u001b[0m \u001b[39m@functools\u001b[39m\u001b[39m.\u001b[39mwraps(func)\n\u001b[0;32m     <a href='file:///c%3A/Users/01149762/Documents/AI/engineer-thesis/venv/lib/site-packages/torch/autograd/grad_mode.py?line=25'>26</a>\u001b[0m \u001b[39mdef\u001b[39;00m \u001b[39mdecorate_context\u001b[39m(\u001b[39m*\u001b[39margs, \u001b[39m*\u001b[39m\u001b[39m*\u001b[39mkwargs):\n\u001b[0;32m     <a href='file:///c%3A/Users/01149762/Documents/AI/engineer-thesis/venv/lib/site-packages/torch/autograd/grad_mode.py?line=26'>27</a>\u001b[0m     \u001b[39mwith\u001b[39;00m \u001b[39mself\u001b[39m\u001b[39m.\u001b[39m\u001b[39m__class__\u001b[39m():\n\u001b[1;32m---> <a href='file:///c%3A/Users/01149762/Documents/AI/engineer-thesis/venv/lib/site-packages/torch/autograd/grad_mode.py?line=27'>28</a>\u001b[0m         \u001b[39mreturn\u001b[39;00m func(\u001b[39m*\u001b[39margs, \u001b[39m*\u001b[39m\u001b[39m*\u001b[39mkwargs)\n",
      "File \u001b[1;32mc:\\Users\\01149762\\Documents\\AI\\engineer-thesis\\venv\\lib\\site-packages\\torch\\optim\\adam.py:133\u001b[0m, in \u001b[0;36mAdam.step\u001b[1;34m(self, closure)\u001b[0m\n\u001b[0;32m    <a href='file:///c%3A/Users/01149762/Documents/AI/engineer-thesis/venv/lib/site-packages/torch/optim/adam.py?line=129'>130</a>\u001b[0m             \u001b[39m# record the step after step update\u001b[39;00m\n\u001b[0;32m    <a href='file:///c%3A/Users/01149762/Documents/AI/engineer-thesis/venv/lib/site-packages/torch/optim/adam.py?line=130'>131</a>\u001b[0m             state_steps\u001b[39m.\u001b[39mappend(state[\u001b[39m'\u001b[39m\u001b[39mstep\u001b[39m\u001b[39m'\u001b[39m])\n\u001b[1;32m--> <a href='file:///c%3A/Users/01149762/Documents/AI/engineer-thesis/venv/lib/site-packages/torch/optim/adam.py?line=132'>133</a>\u001b[0m     F\u001b[39m.\u001b[39;49madam(params_with_grad,\n\u001b[0;32m    <a href='file:///c%3A/Users/01149762/Documents/AI/engineer-thesis/venv/lib/site-packages/torch/optim/adam.py?line=133'>134</a>\u001b[0m            grads,\n\u001b[0;32m    <a href='file:///c%3A/Users/01149762/Documents/AI/engineer-thesis/venv/lib/site-packages/torch/optim/adam.py?line=134'>135</a>\u001b[0m            exp_avgs,\n\u001b[0;32m    <a href='file:///c%3A/Users/01149762/Documents/AI/engineer-thesis/venv/lib/site-packages/torch/optim/adam.py?line=135'>136</a>\u001b[0m            exp_avg_sqs,\n\u001b[0;32m    <a href='file:///c%3A/Users/01149762/Documents/AI/engineer-thesis/venv/lib/site-packages/torch/optim/adam.py?line=136'>137</a>\u001b[0m            max_exp_avg_sqs,\n\u001b[0;32m    <a href='file:///c%3A/Users/01149762/Documents/AI/engineer-thesis/venv/lib/site-packages/torch/optim/adam.py?line=137'>138</a>\u001b[0m            state_steps,\n\u001b[0;32m    <a href='file:///c%3A/Users/01149762/Documents/AI/engineer-thesis/venv/lib/site-packages/torch/optim/adam.py?line=138'>139</a>\u001b[0m            amsgrad\u001b[39m=\u001b[39;49mgroup[\u001b[39m'\u001b[39;49m\u001b[39mamsgrad\u001b[39;49m\u001b[39m'\u001b[39;49m],\n\u001b[0;32m    <a href='file:///c%3A/Users/01149762/Documents/AI/engineer-thesis/venv/lib/site-packages/torch/optim/adam.py?line=139'>140</a>\u001b[0m            beta1\u001b[39m=\u001b[39;49mbeta1,\n\u001b[0;32m    <a href='file:///c%3A/Users/01149762/Documents/AI/engineer-thesis/venv/lib/site-packages/torch/optim/adam.py?line=140'>141</a>\u001b[0m            beta2\u001b[39m=\u001b[39;49mbeta2,\n\u001b[0;32m    <a href='file:///c%3A/Users/01149762/Documents/AI/engineer-thesis/venv/lib/site-packages/torch/optim/adam.py?line=141'>142</a>\u001b[0m            lr\u001b[39m=\u001b[39;49mgroup[\u001b[39m'\u001b[39;49m\u001b[39mlr\u001b[39;49m\u001b[39m'\u001b[39;49m],\n\u001b[0;32m    <a href='file:///c%3A/Users/01149762/Documents/AI/engineer-thesis/venv/lib/site-packages/torch/optim/adam.py?line=142'>143</a>\u001b[0m            weight_decay\u001b[39m=\u001b[39;49mgroup[\u001b[39m'\u001b[39;49m\u001b[39mweight_decay\u001b[39;49m\u001b[39m'\u001b[39;49m],\n\u001b[0;32m    <a href='file:///c%3A/Users/01149762/Documents/AI/engineer-thesis/venv/lib/site-packages/torch/optim/adam.py?line=143'>144</a>\u001b[0m            eps\u001b[39m=\u001b[39;49mgroup[\u001b[39m'\u001b[39;49m\u001b[39meps\u001b[39;49m\u001b[39m'\u001b[39;49m])\n\u001b[0;32m    <a href='file:///c%3A/Users/01149762/Documents/AI/engineer-thesis/venv/lib/site-packages/torch/optim/adam.py?line=144'>145</a>\u001b[0m \u001b[39mreturn\u001b[39;00m loss\n",
      "File \u001b[1;32mc:\\Users\\01149762\\Documents\\AI\\engineer-thesis\\venv\\lib\\site-packages\\torch\\optim\\_functional.py:87\u001b[0m, in \u001b[0;36madam\u001b[1;34m(params, grads, exp_avgs, exp_avg_sqs, max_exp_avg_sqs, state_steps, amsgrad, beta1, beta2, lr, weight_decay, eps)\u001b[0m\n\u001b[0;32m     <a href='file:///c%3A/Users/01149762/Documents/AI/engineer-thesis/venv/lib/site-packages/torch/optim/_functional.py?line=84'>85</a>\u001b[0m \u001b[39m# Decay the first and second moment running average coefficient\u001b[39;00m\n\u001b[0;32m     <a href='file:///c%3A/Users/01149762/Documents/AI/engineer-thesis/venv/lib/site-packages/torch/optim/_functional.py?line=85'>86</a>\u001b[0m exp_avg\u001b[39m.\u001b[39mmul_(beta1)\u001b[39m.\u001b[39madd_(grad, alpha\u001b[39m=\u001b[39m\u001b[39m1\u001b[39m \u001b[39m-\u001b[39m beta1)\n\u001b[1;32m---> <a href='file:///c%3A/Users/01149762/Documents/AI/engineer-thesis/venv/lib/site-packages/torch/optim/_functional.py?line=86'>87</a>\u001b[0m exp_avg_sq\u001b[39m.\u001b[39;49mmul_(beta2)\u001b[39m.\u001b[39;49maddcmul_(grad, grad\u001b[39m.\u001b[39;49mconj(), value\u001b[39m=\u001b[39;49m\u001b[39m1\u001b[39;49m \u001b[39m-\u001b[39;49m beta2)\n\u001b[0;32m     <a href='file:///c%3A/Users/01149762/Documents/AI/engineer-thesis/venv/lib/site-packages/torch/optim/_functional.py?line=87'>88</a>\u001b[0m \u001b[39mif\u001b[39;00m amsgrad:\n\u001b[0;32m     <a href='file:///c%3A/Users/01149762/Documents/AI/engineer-thesis/venv/lib/site-packages/torch/optim/_functional.py?line=88'>89</a>\u001b[0m     \u001b[39m# Maintains the maximum of all 2nd moment running avg. till now\u001b[39;00m\n\u001b[0;32m     <a href='file:///c%3A/Users/01149762/Documents/AI/engineer-thesis/venv/lib/site-packages/torch/optim/_functional.py?line=89'>90</a>\u001b[0m     torch\u001b[39m.\u001b[39mmaximum(max_exp_avg_sqs[i], exp_avg_sq, out\u001b[39m=\u001b[39mmax_exp_avg_sqs[i])\n",
      "\u001b[1;31mKeyboardInterrupt\u001b[0m: "
     ]
    }
   ],
   "source": [
    "model, optimizer, _ = training_loop(model, criterion, optimizer, train_loader, N_EPOCHS, device, print_every=30)"
   ]
  },
  {
   "cell_type": "markdown",
   "id": "e709c3bc",
   "metadata": {},
   "source": [
    "# Evaluation"
   ]
  },
  {
   "cell_type": "code",
   "execution_count": 607,
   "id": "c12a9f51",
   "metadata": {
    "ExecuteTime": {
     "end_time": "2022-03-27T01:52:07.520036Z",
     "start_time": "2022-03-27T01:52:07.511040Z"
    }
   },
   "outputs": [
    {
     "name": "stdout",
     "output_type": "stream",
     "text": [
      "Params:\n",
      "-Scale: tensor([[1.0011]], device='cuda:0')\n",
      "-Theta: tensor([[1.1921e-07]], device='cuda:0')\n",
      "-Trans_x: tensor([[5.5879e-09]], device='cuda:0')\n",
      "-Trans_y: tensor([[0.1254]], device='cuda:0')\n"
     ]
    }
   ],
   "source": [
    "with torch.no_grad():\n",
    "    y = model(next(iter(train_loader))[0].to(device),is_evaling=True)"
   ]
  },
  {
   "cell_type": "code",
   "execution_count": 608,
   "id": "144b0b91",
   "metadata": {
    "ExecuteTime": {
     "end_time": "2022-03-27T01:52:07.969770Z",
     "start_time": "2022-03-27T01:52:07.965372Z"
    }
   },
   "outputs": [
    {
     "data": {
      "text/plain": [
       "torch.Size([1, 1, 32, 32])"
      ]
     },
     "execution_count": 608,
     "metadata": {},
     "output_type": "execute_result"
    }
   ],
   "source": [
    "y.shape"
   ]
  },
  {
   "cell_type": "markdown",
   "id": "17a66850",
   "metadata": {},
   "source": [
    "+ What is as input:"
   ]
  },
  {
   "cell_type": "code",
   "execution_count": 609,
   "id": "ac09be04",
   "metadata": {
    "ExecuteTime": {
     "end_time": "2022-03-27T01:52:10.096720Z",
     "start_time": "2022-03-27T01:52:09.997631Z"
    }
   },
   "outputs": [
    {
     "data": {
      "text/plain": [
       "<Figure size 432x288 with 0 Axes>"
      ]
     },
     "execution_count": 609,
     "metadata": {},
     "output_type": "execute_result"
    },
    {
     "data": {
      "image/png": "[encoded data removed]",
      "text/plain": [
       "<Figure size 432x288 with 1 Axes>"
      ]
     },
     "metadata": {
      "needs_background": "light"
     },
     "output_type": "display_data"
    },
    {
     "data": {
      "text/plain": [
       "<Figure size 432x288 with 0 Axes>"
      ]
     },
     "metadata": {},
     "output_type": "display_data"
    }
   ],
   "source": [
    "plt.imshow(im_in.detach().cpu().permute(1,2,0), cmap='gray')\n",
    "plt.figure()"
   ]
  },
  {
   "cell_type": "markdown",
   "id": "2525174b",
   "metadata": {},
   "source": [
    "+ What is doing model:"
   ]
  },
  {
   "cell_type": "code",
   "execution_count": 610,
   "id": "ef78a69b",
   "metadata": {
    "ExecuteTime": {
     "end_time": "2022-03-27T01:52:11.292999Z",
     "start_time": "2022-03-27T01:52:11.197714Z"
    }
   },
   "outputs": [
    {
     "data": {
      "text/plain": [
       "<Figure size 432x288 with 0 Axes>"
      ]
     },
     "execution_count": 610,
     "metadata": {},
     "output_type": "execute_result"
    },
    {
     "data": {
      "image/png": "[encoded data removed]",
      "text/plain": [
       "<Figure size 432x288 with 1 Axes>"
      ]
     },
     "metadata": {
      "needs_background": "light"
     },
     "output_type": "display_data"
    },
    {
     "data": {
      "text/plain": [
       "<Figure size 432x288 with 0 Axes>"
      ]
     },
     "metadata": {},
     "output_type": "display_data"
    }
   ],
   "source": [
    "plt.imshow(y.detach().cpu().squeeze(0).permute(1,2,0), cmap='gray')\n",
    "plt.figure()"
   ]
  },
  {
   "cell_type": "markdown",
   "id": "6ba2d9c4",
   "metadata": {},
   "source": [
    "+ What should do model:"
   ]
  },
  {
   "cell_type": "code",
   "execution_count": 611,
   "id": "52bd1ea0",
   "metadata": {
    "ExecuteTime": {
     "end_time": "2022-03-27T01:52:12.986298Z",
     "start_time": "2022-03-27T01:52:12.885291Z"
    }
   },
   "outputs": [
    {
     "data": {
      "text/plain": [
       "<Figure size 432x288 with 0 Axes>"
      ]
     },
     "execution_count": 611,
     "metadata": {},
     "output_type": "execute_result"
    },
    {
     "data": {
      "image/png": "[encoded data removed]",
      "text/plain": [
       "<Figure size 432x288 with 1 Axes>"
      ]
     },
     "metadata": {
      "needs_background": "light"
     },
     "output_type": "display_data"
    },
    {
     "data": {
      "text/plain": [
       "<Figure size 432x288 with 0 Axes>"
      ]
     },
     "metadata": {},
     "output_type": "display_data"
    }
   ],
   "source": [
    "plt.imshow(im_out.detach().cpu().permute(1,2,0), cmap='gray')\n",
    "plt.figure()"
   ]
  },
  {
   "cell_type": "code",
   "execution_count": null,
   "id": "4e1f8b5a",
   "metadata": {},
   "outputs": [],
   "source": []
  }
 ],
 "metadata": {
  "interpreter": {
   "hash": "3e26849a565322f1f2ee8e8714881fdb760551d08fd176d7ee6ecd0e3f01e68a"
  },
  "kernelspec": {
   "display_name": "Python 3.9.5 ('venv': venv)",
   "language": "python",
   "name": "python3"
  },
  "language_info": {
   "codemirror_mode": {
    "name": "ipython",
    "version": 3
   },
   "file_extension": ".py",
   "mimetype": "text/x-python",
   "name": "python",
   "nbconvert_exporter": "python",
   "pygments_lexer": "ipython3",
   "version": "3.9.5"
  },
  "toc": {
   "base_numbering": 1,
   "nav_menu": {},
   "number_sections": true,
   "sideBar": true,
   "skip_h1_title": false,
   "title_cell": "Table of Contents",
   "title_sidebar": "Contents",
   "toc_cell": false,
   "toc_position": {},
   "toc_section_display": true,
   "toc_window_display": false
  }
 },
 "nbformat": 4,
 "nbformat_minor": 5
}
