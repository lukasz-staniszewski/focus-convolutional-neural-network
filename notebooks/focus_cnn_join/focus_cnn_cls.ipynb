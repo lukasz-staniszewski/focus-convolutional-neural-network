{
 "cells": [
  {
   "cell_type": "code",
   "execution_count": 1,
   "metadata": {},
   "outputs": [
    {
     "name": "stdout",
     "output_type": "stream",
     "text": [
      "The autoreload extension is already loaded. To reload it, use:\n",
      "  %reload_ext autoreload\n"
     ]
    }
   ],
   "source": [
    "%load_ext autoreload\n",
    "%autoreload 2"
   ]
  },
  {
   "attachments": {},
   "cell_type": "markdown",
   "metadata": {},
   "source": [
    "# Data"
   ]
  },
  {
   "cell_type": "code",
   "execution_count": 2,
   "metadata": {},
   "outputs": [],
   "source": [
    "from data_utils.data_loaders import FocusCNNLoader"
   ]
  },
  {
   "cell_type": "code",
   "execution_count": 3,
   "metadata": {},
   "outputs": [],
   "source": [
    "loader = FocusCNNLoader(\n",
    "    batch_size=4,\n",
    "    shuffle=True,\n",
    "    num_workers=1,\n",
    "    images_dir = \"/home/ubuntu/focus-convolutional-neural-network/data/processed/COCO-2017/CocoFocusCNN/train/images\",\n",
    "    csv_path=\"/home/ubuntu/focus-convolutional-neural-network/data/processed/COCO-2017/CocoFocusCNN/train/labels.csv\",\n",
    "    labels={\n",
    "        \"0\": \"none\",\n",
    "        \"1\": \"person\",\n",
    "        \"2\": \"car\",\n",
    "        \"3\": \"bicycle\"\n",
    "    },\n",
    "    tf_image_size=(640, 640),\n",
    "    save_out_dir=\"/home/ubuntu/focus-convolutional-neural-network/res/focus_cnn/coco_focuscnn/trainer/labels/\",\n",
    "    validation_split=0.15,\n",
    "    is_test=False\n",
    ")"
   ]
  },
  {
   "cell_type": "code",
   "execution_count": 4,
   "metadata": {},
   "outputs": [
    {
     "name": "stdout",
     "output_type": "stream",
     "text": [
      "x[0].shape=torch.Size([4, 3, 640, 640])\n",
      "x[1].shape=torch.Size([4])\n"
     ]
    }
   ],
   "source": [
    "dl = loader.get_train_loader()\n",
    "x = next(iter(dl))\n",
    "print(f\"{x[0].shape=}\")\n",
    "print(f\"{x[1].shape=}\")"
   ]
  },
  {
   "attachments": {},
   "cell_type": "markdown",
   "metadata": {},
   "source": [
    "# Models"
   ]
  },
  {
   "cell_type": "code",
   "execution_count": 5,
   "metadata": {},
   "outputs": [],
   "source": [
    "from models.focuscnn.FocusCNN import FocusCNN\n",
    "from models.focus.ResFocusNetwork import ResFocusNetwork\n",
    "from models.classifier.MultiClassifier import MultiClassifier\n",
    "from collections import OrderedDict"
   ]
  },
  {
   "cell_type": "code",
   "execution_count": 6,
   "metadata": {},
   "outputs": [],
   "source": [
    "import torch"
   ]
  },
  {
   "cell_type": "code",
   "execution_count": 7,
   "metadata": {},
   "outputs": [],
   "source": [
    "classifier = MultiClassifier(\n",
    "    n_classes=4,\n",
    "    backbone=\"resnet34\",\n",
    ")\n",
    "classifier_path = \"/home/ubuntu/focus-convolutional-neural-network/res/classifiers/coco_classifier_multi/trainer/0219_215726/models/checkpoint-epoch59.pth\"\n",
    "\n",
    "focus_networks = OrderedDict({\n",
    "    \"1\": ResFocusNetwork(\n",
    "        loss_lambda_tr=1,\n",
    "        loss_lambda_rot=1,\n",
    "        loss_lambda_sc=1,\n",
    "        backbone=\"resnet34\",\n",
    "        threshold=0.5,\n",
    "        inp_img_size=(640, 640),\n",
    "        loss_rot=False\n",
    "    ),\n",
    "    \"2\": ResFocusNetwork(\n",
    "        loss_lambda_tr=1,\n",
    "        loss_lambda_rot=1,\n",
    "        loss_lambda_sc=1,\n",
    "        backbone=\"resnet34\",\n",
    "        threshold=0.5,\n",
    "        inp_img_size=(640, 640),\n",
    "        loss_rot=False\n",
    "    ),\n",
    "    \"3\": ResFocusNetwork(\n",
    "        loss_lambda_tr=1,\n",
    "        loss_lambda_rot=1,\n",
    "        loss_lambda_sc=1,\n",
    "        backbone=\"resnet34\",\n",
    "        threshold=0.5,\n",
    "        inp_img_size=(640, 640),\n",
    "        loss_rot=False\n",
    "    ),\n",
    "})\n",
    "focus_networks_paths = OrderedDict({\n",
    "    \"1\": \"/home/ubuntu/focus-convolutional-neural-network/res/focus/coco_focus_person/trainer/0103_092318/models/checkpoint-epoch79.pth\",\n",
    "    \"2\": \"/home/ubuntu/focus-convolutional-neural-network/res/focus/coco_focus_car/trainer/0111_050401/models/checkpoint-epoch19.pth\",\n",
    "    \"3\": \"/home/ubuntu/focus-convolutional-neural-network/res/focus/coco_focus_bicycle/trainer/0114_175807/models/checkpoint-epoch56.pth\"\n",
    "})"
   ]
  },
  {
   "cell_type": "code",
   "execution_count": 8,
   "metadata": {},
   "outputs": [],
   "source": [
    "model = FocusCNN(\n",
    "    classifier_model=classifier,\n",
    "    focus_models=focus_networks,\n",
    "    inp_img_size=(640, 640),\n",
    "    out_img_size=(300, 300)\n",
    ")"
   ]
  },
  {
   "cell_type": "code",
   "execution_count": 9,
   "metadata": {},
   "outputs": [],
   "source": [
    "model.load_model(\n",
    "    classifier_model_path=classifier_path,\n",
    "    focus_models_path=focus_networks_paths\n",
    ")"
   ]
  },
  {
   "cell_type": "code",
   "execution_count": 10,
   "metadata": {},
   "outputs": [],
   "source": [
    "dl_train = loader.get_train_loader()"
   ]
  },
  {
   "cell_type": "code",
   "execution_count": 11,
   "metadata": {},
   "outputs": [],
   "source": [
    "loss = torch.nn.CrossEntropyLoss()"
   ]
  },
  {
   "cell_type": "code",
   "execution_count": 12,
   "metadata": {},
   "outputs": [],
   "source": [
    "iter_dl = iter(dl_train)\n",
    "bn_1 = next(iter_dl)\n",
    "bn_2 = next(iter_dl)"
   ]
  },
  {
   "cell_type": "code",
   "execution_count": 13,
   "metadata": {},
   "outputs": [],
   "source": [
    "model.train()"
   ]
  },
  {
   "cell_type": "code",
   "execution_count": 14,
   "metadata": {},
   "outputs": [],
   "source": [
    "model.to(\"cuda\")"
   ]
  },
  {
   "cell_type": "code",
   "execution_count": 15,
   "metadata": {},
   "outputs": [],
   "source": [
    "data = bn_1\n",
    "\n",
    "inp_img = data[0].to(device=\"cuda\")\n",
    "\n",
    "for k in data[2]['1'].keys():\n",
    "    data[2]['1'][k] = data[2]['1'][k].to(device=\"cuda\")\n",
    "    data[2]['2'][k] = data[2]['2'][k].to(device=\"cuda\")\n",
    "    data[2]['3'][k] = data[2]['3'][k].to(device=\"cuda\")"
   ]
  },
  {
   "cell_type": "code",
   "execution_count": 23,
   "metadata": {},
   "outputs": [
    {
     "data": {
      "text/plain": [
       "{'1': {'label': tensor([0., 1., 0., 1.], device='cuda:0'),\n",
       "  'transform': tensor([[ 0.0000,  0.0000,  0.0000],\n",
       "          [ 0.7947,  0.2973, -2.1448],\n",
       "          [ 0.0000,  0.0000,  0.0000],\n",
       "          [-0.0508,  0.0064, -0.9781]], device='cuda:0')},\n",
       " '2': {'label': tensor([0., 0., 0., 2.], device='cuda:0'),\n",
       "  'transform': tensor([[ 0.0000,  0.0000,  0.0000],\n",
       "          [ 0.0000,  0.0000,  0.0000],\n",
       "          [ 0.0000,  0.0000,  0.0000],\n",
       "          [ 0.2423, -0.5398, -0.6032]], device='cuda:0')},\n",
       " '3': {'label': tensor([0., 0., 0., 0.], device='cuda:0'),\n",
       "  'transform': tensor([[0., 0., 0.],\n",
       "          [0., 0., 0.],\n",
       "          [0., 0., 0.],\n",
       "          [0., 0., 0.]], device='cuda:0')}}"
      ]
     },
     "execution_count": 23,
     "metadata": {},
     "output_type": "execute_result"
    }
   ],
   "source": [
    "data[2]"
   ]
  },
  {
   "cell_type": "code",
   "execution_count": 25,
   "metadata": {},
   "outputs": [
    {
     "data": {
      "text/plain": [
       "False"
      ]
     },
     "execution_count": 25,
     "metadata": {},
     "output_type": "execute_result"
    }
   ],
   "source": [
    "isinstance(data[2].keys(), dict)"
   ]
  },
  {
   "cell_type": "code",
   "execution_count": 16,
   "metadata": {},
   "outputs": [
    {
     "name": "stderr",
     "output_type": "stream",
     "text": [
      "/home/ubuntu/focus-convolutional-neural-network/src/pipeline/loss.py:113: UserWarning: The use of `x.T` on tensors of dimension other than 2 to reverse their shape is deprecated and it will throw an error in a future release. Consider `x.mT` to transpose batches of matrices or `x.permute(*torch.arange(x.ndim - 1, -1, -1))` to reverse the dimensions of a tensor. (Triggered internally at ../aten/src/ATen/native/TensorShape.cpp:3571.)\n",
      "  * target_cls.T\n"
     ]
    }
   ],
   "source": [
    "out = model(x=inp_img, target=data[2])"
   ]
  },
  {
   "cell_type": "code",
   "execution_count": 17,
   "metadata": {},
   "outputs": [],
   "source": [
    "target=data[2]\n",
    "target_cls = torch.cat(\n",
    "        [\n",
    "            target[cls_idx][\"label\"]\n",
    "            for cls_idx in model.focus_models.keys()\n",
    "        ]\n",
    "    ).type(torch.LongTensor).to(inp_img.device)\n"
   ]
  },
  {
   "cell_type": "code",
   "execution_count": 18,
   "metadata": {},
   "outputs": [
    {
     "data": {
      "text/plain": [
       "tensor(4.2140, device='cuda:0', grad_fn=<NllLossBackward0>)"
      ]
     },
     "execution_count": 18,
     "metadata": {},
     "output_type": "execute_result"
    }
   ],
   "source": [
    "loss_val = loss(out[\"out_cls\"], target_cls)\n",
    "loss_val"
   ]
  },
  {
   "cell_type": "code",
   "execution_count": 19,
   "metadata": {},
   "outputs": [],
   "source": [
    "loss_val.backward()"
   ]
  },
  {
   "cell_type": "code",
   "execution_count": 20,
   "metadata": {},
   "outputs": [
    {
     "data": {
      "text/plain": [
       "tensor([0, 1, 0, 1, 0, 0, 0, 2, 0, 0, 0, 0], device='cuda:0')"
      ]
     },
     "execution_count": 20,
     "metadata": {},
     "output_type": "execute_result"
    }
   ],
   "source": [
    "target_cls"
   ]
  },
  {
   "cell_type": "code",
   "execution_count": 21,
   "metadata": {},
   "outputs": [
    {
     "data": {
      "text/plain": [
       "tensor([0, 0, 0, 1, 1, 0, 0, 1, 1, 2, 0, 1], device='cuda:0')"
      ]
     },
     "execution_count": 21,
     "metadata": {},
     "output_type": "execute_result"
    }
   ],
   "source": [
    "torch.argmax(out[\"out_cls\"], dim=1)"
   ]
  },
  {
   "cell_type": "code",
   "execution_count": null,
   "metadata": {},
   "outputs": [],
   "source": []
  }
 ],
 "metadata": {
  "kernelspec": {
   "display_name": "venv",
   "language": "python",
   "name": "python3"
  },
  "language_info": {
   "codemirror_mode": {
    "name": "ipython",
    "version": 3
   },
   "file_extension": ".py",
   "mimetype": "text/x-python",
   "name": "python",
   "nbconvert_exporter": "python",
   "pygments_lexer": "ipython3",
   "version": "3.11.3"
  },
  "orig_nbformat": 4,
  "vscode": {
   "interpreter": {
    "hash": "c23f8bac5f54f555216c25507ea8382a3bcc21e21d40d6abf1fac4c9e8531714"
   }
  }
 },
 "nbformat": 4,
 "nbformat_minor": 2
}
