{
 "cells": [
  {
   "cell_type": "code",
   "execution_count": 61,
   "metadata": {},
   "outputs": [
    {
     "name": "stdout",
     "output_type": "stream",
     "text": [
      "The autoreload extension is already loaded. To reload it, use:\n",
      "  %reload_ext autoreload\n"
     ]
    }
   ],
   "source": [
    "%load_ext autoreload\n",
    "%autoreload 2"
   ]
  },
  {
   "attachments": {},
   "cell_type": "markdown",
   "metadata": {},
   "source": [
    "# Data"
   ]
  },
  {
   "cell_type": "code",
   "execution_count": 62,
   "metadata": {},
   "outputs": [],
   "source": [
    "from data_utils.data_loaders import FocusCNNLoader"
   ]
  },
  {
   "cell_type": "code",
   "execution_count": 63,
   "metadata": {},
   "outputs": [],
   "source": [
    "loader = FocusCNNLoader(\n",
    "    batch_size=8,\n",
    "    shuffle=True,\n",
    "    num_workers=1,\n",
    "    images_dir = \"/home/ubuntu/focus-convolutional-neural-network/data/processed/COCO-2017/CocoFocusCNN/train/images\",\n",
    "    csv_path=\"/home/ubuntu/focus-convolutional-neural-network/data/processed/COCO-2017/CocoFocusCNN/train/labels.csv\",\n",
    "    labels={\n",
    "        \"0\": \"none\",\n",
    "        \"1\": \"person\",\n",
    "        \"2\": \"car\",\n",
    "        \"3\": \"bicycle\"\n",
    "    },\n",
    "    tf_image_size=(640, 640),\n",
    "    save_out_dir=\"/home/ubuntu/focus-convolutional-neural-network/res/focus_cnn/coco_focuscnn/trainer/labels/\",\n",
    "    validation_split=0.15,\n",
    "    is_test=False\n",
    ")"
   ]
  },
  {
   "cell_type": "code",
   "execution_count": 64,
   "metadata": {},
   "outputs": [
    {
     "name": "stdout",
     "output_type": "stream",
     "text": [
      "x[0].shape=torch.Size([8, 3, 640, 640])\n",
      "x[1].shape=torch.Size([8])\n"
     ]
    }
   ],
   "source": [
    "dl = loader.get_train_loader()\n",
    "x = next(iter(dl))\n",
    "print(f\"{x[0].shape=}\")\n",
    "print(f\"{x[1].shape=}\")"
   ]
  },
  {
   "attachments": {},
   "cell_type": "markdown",
   "metadata": {},
   "source": [
    "# Models"
   ]
  },
  {
   "cell_type": "code",
   "execution_count": 65,
   "metadata": {},
   "outputs": [],
   "source": [
    "from models.focuscnn.FocusCNN import FocusCNN\n",
    "from models.focus.ResFocusNetwork import ResFocusNetwork\n",
    "from models.classifier.MultiClassifier import MultiClassifier\n",
    "from collections import OrderedDict"
   ]
  },
  {
   "cell_type": "code",
   "execution_count": 66,
   "metadata": {},
   "outputs": [],
   "source": [
    "import torch"
   ]
  },
  {
   "cell_type": "code",
   "execution_count": 67,
   "metadata": {},
   "outputs": [],
   "source": [
    "from pipeline import pipeline_utils"
   ]
  },
  {
   "cell_type": "code",
   "execution_count": 68,
   "metadata": {},
   "outputs": [],
   "source": [
    "classifier = MultiClassifier(\n",
    "    n_classes=4,\n",
    "    backbone=\"resnet34\",\n",
    ")\n",
    "classifier_path = \"/home/ubuntu/focus-convolutional-neural-network/res/classifiers/coco_classifier_multi/trainer/0627_075340/models/checkpoint-epoch73.pth\"\n",
    "\n",
    "focus_networks = OrderedDict({\n",
    "    \"1\": ResFocusNetwork(\n",
    "        loss_lambda_tr=1,\n",
    "        loss_lambda_rot=1,\n",
    "        loss_lambda_sc=1,\n",
    "        backbone=\"resnet34\",\n",
    "        threshold=0.5,\n",
    "        inp_img_size=(640, 640),\n",
    "        loss_rot=False\n",
    "    ),\n",
    "    \"2\": ResFocusNetwork(\n",
    "        loss_lambda_tr=1,\n",
    "        loss_lambda_rot=1,\n",
    "        loss_lambda_sc=1,\n",
    "        backbone=\"resnet34\",\n",
    "        threshold=0.5,\n",
    "        inp_img_size=(640, 640),\n",
    "        loss_rot=False\n",
    "    ),\n",
    "    \"3\": ResFocusNetwork(\n",
    "        loss_lambda_tr=1,\n",
    "        loss_lambda_rot=1,\n",
    "        loss_lambda_sc=1,\n",
    "        backbone=\"resnet34\",\n",
    "        threshold=0.5,\n",
    "        inp_img_size=(640, 640),\n",
    "        loss_rot=False\n",
    "    ),\n",
    "})\n",
    "focus_networks_paths = OrderedDict({\n",
    "    \"1\": \"/home/ubuntu/focus-convolutional-neural-network/res/focus/coco_focus_person/trainer/0628_212101_without_rotation/models/checkpoint-epoch63.pth\",\n",
    "    \"2\": \"/home/ubuntu/focus-convolutional-neural-network/res/focus/coco_focus_car/trainer/0701_161142_without_rotation/models/checkpoint-epoch58.pth\",\n",
    "    \"3\": \"/home/ubuntu/focus-convolutional-neural-network/res/focus/coco_focus_bicycle/trainer/0713_without_rot/models/checkpoint-epoch92.pth\"\n",
    "})"
   ]
  },
  {
   "cell_type": "code",
   "execution_count": 69,
   "metadata": {},
   "outputs": [],
   "source": [
    "model = FocusCNN(\n",
    "    classifier_model=classifier,\n",
    "    focus_models=focus_networks,\n",
    "    inp_img_size=(640, 640),\n",
    "    out_img_size=(300, 300)\n",
    ")"
   ]
  },
  {
   "cell_type": "code",
   "execution_count": 70,
   "metadata": {},
   "outputs": [],
   "source": [
    "model.load_model(\n",
    "    classifier_model_path=classifier_path,\n",
    "    focus_models_path=focus_networks_paths\n",
    ")"
   ]
  },
  {
   "cell_type": "code",
   "execution_count": 88,
   "metadata": {},
   "outputs": [],
   "source": [
    "dl_train = loader.get_train_loader()"
   ]
  },
  {
   "cell_type": "code",
   "execution_count": 72,
   "metadata": {},
   "outputs": [],
   "source": [
    "iter_dl = iter(dl_train)\n",
    "bn_1 = next(iter_dl)\n",
    "bn_2 = next(iter_dl)"
   ]
  },
  {
   "cell_type": "code",
   "execution_count": 73,
   "metadata": {},
   "outputs": [],
   "source": [
    "model.train()"
   ]
  },
  {
   "cell_type": "code",
   "execution_count": 74,
   "metadata": {},
   "outputs": [],
   "source": [
    "model.to(\"cuda\")"
   ]
  },
  {
   "cell_type": "code",
   "execution_count": 75,
   "metadata": {},
   "outputs": [],
   "source": [
    "data = bn_1"
   ]
  },
  {
   "cell_type": "code",
   "execution_count": 76,
   "metadata": {},
   "outputs": [],
   "source": [
    "inp_img = pipeline_utils.to_device(data[0], \"cuda\")"
   ]
  },
  {
   "cell_type": "code",
   "execution_count": 89,
   "metadata": {},
   "outputs": [],
   "source": [
    "target = pipeline_utils.to_device(data[2], \"cuda\")"
   ]
  },
  {
   "cell_type": "code",
   "execution_count": 78,
   "metadata": {},
   "outputs": [],
   "source": [
    "out = model(x=inp_img, target=target)"
   ]
  },
  {
   "cell_type": "code",
   "execution_count": 79,
   "metadata": {},
   "outputs": [
    {
     "data": {
      "text/plain": [
       "tensor(0.9679, device='cuda:0', grad_fn=<NllLossBackward0>)"
      ]
     },
     "execution_count": 79,
     "metadata": {},
     "output_type": "execute_result"
    }
   ],
   "source": [
    "loss_val = out[\"loss\"]\n",
    "loss_val"
   ]
  },
  {
   "cell_type": "code",
   "execution_count": 80,
   "metadata": {},
   "outputs": [],
   "source": [
    "loss_val.backward()"
   ]
  },
  {
   "cell_type": "code",
   "execution_count": 90,
   "metadata": {},
   "outputs": [
    {
     "data": {
      "text/plain": [
       "tensor([1, 1, 1, 1, 1, 0, 0, 1, 0, 0, 0, 0, 0, 0, 2, 2, 0, 0, 0, 0, 0, 0, 0, 0])"
      ]
     },
     "execution_count": 90,
     "metadata": {},
     "output_type": "execute_result"
    }
   ],
   "source": [
    "target_cls = out[\"target_cls\"]\n",
    "target_cls"
   ]
  },
  {
   "cell_type": "code",
   "execution_count": 91,
   "metadata": {},
   "outputs": [],
   "source": [
    "out = pipeline_utils.to_device(out, device=\"cpu\")\n",
    "target = pipeline_utils.to_device(target, device=\"cpu\")"
   ]
  },
  {
   "cell_type": "code",
   "execution_count": 92,
   "metadata": {},
   "outputs": [
    {
     "data": {
      "text/plain": [
       "{'1': {'label': tensor([1, 1, 1, 1, 1, 0, 0, 1]),\n",
       "  'transform': tensor([[ 0.1730, -0.0170, -0.0918],\n",
       "          [-0.2036,  0.0398, -0.4686],\n",
       "          [-0.1710, -0.2410, -1.4278],\n",
       "          [-0.3457, -0.1821, -0.4380],\n",
       "          [ 0.0599, -0.2799, -0.8261],\n",
       "          [ 0.0000,  0.0000,  0.0000],\n",
       "          [ 0.0000,  0.0000,  0.0000],\n",
       "          [ 0.0411,  0.0105, -1.4114]])},\n",
       " '2': {'label': tensor([0, 0, 0, 0, 0, 0, 2, 2]),\n",
       "  'transform': tensor([[ 0.0000,  0.0000,  0.0000],\n",
       "          [ 0.0000,  0.0000,  0.0000],\n",
       "          [ 0.0000,  0.0000,  0.0000],\n",
       "          [ 0.0000,  0.0000,  0.0000],\n",
       "          [ 0.0000,  0.0000,  0.0000],\n",
       "          [ 0.0000,  0.0000,  0.0000],\n",
       "          [ 0.2736,  0.5696, -1.2906],\n",
       "          [-0.5880, -0.0714, -1.6666]])},\n",
       " '3': {'label': tensor([0, 0, 0, 0, 0, 0, 0, 0]),\n",
       "  'transform': tensor([[0., 0., 0.],\n",
       "          [0., 0., 0.],\n",
       "          [0., 0., 0.],\n",
       "          [0., 0., 0.],\n",
       "          [0., 0., 0.],\n",
       "          [0., 0., 0.],\n",
       "          [0., 0., 0.],\n",
       "          [0., 0., 0.]])}}"
      ]
     },
     "execution_count": 92,
     "metadata": {},
     "output_type": "execute_result"
    }
   ],
   "source": [
    "target"
   ]
  },
  {
   "cell_type": "code",
   "execution_count": 83,
   "metadata": {},
   "outputs": [
    {
     "data": {
      "text/plain": [
       "[{'boxes': tensor([[ 72.9087,  26.9309, 654.9722, 608.9945]]),\n",
       "  'scores': tensor([1.]),\n",
       "  'labels': tensor([1])},\n",
       " {'boxes': tensor([[ 40.5618, 121.0110, 450.6645, 531.1137]]),\n",
       "  'scores': tensor([1.0000]),\n",
       "  'labels': tensor([1])},\n",
       " {'boxes': tensor([[194.6780, 162.8454, 347.1106, 315.2781]]),\n",
       "  'scores': tensor([1.0000]),\n",
       "  'labels': tensor([1])},\n",
       " {'boxes': tensor([[ -7.0633,  50.0305, 400.6338, 457.7276]]),\n",
       "  'scores': tensor([0.9997]),\n",
       "  'labels': tensor([1])},\n",
       " {'boxes': tensor([[238.8703,  94.1497, 483.4637, 338.7432]]),\n",
       "  'scores': tensor([0.9998]),\n",
       "  'labels': tensor([1])},\n",
       " {'boxes': tensor([]),\n",
       "  'scores': tensor([]),\n",
       "  'labels': tensor([], dtype=torch.int64)},\n",
       " {'boxes': tensor([[305.4766, 428.2527, 469.9732, 592.7493]]),\n",
       "  'scores': tensor([0.9896]),\n",
       "  'labels': tensor([2])},\n",
       " {'boxes': tensor([[256.6360, 238.1834, 407.3045, 388.8519],\n",
       "          [ 35.4372, 253.3440, 169.9179, 387.8247]]),\n",
       "  'scores': tensor([1.0000, 0.6850]),\n",
       "  'labels': tensor([1, 2])}]"
      ]
     },
     "execution_count": 83,
     "metadata": {},
     "output_type": "execute_result"
    }
   ],
   "source": [
    "preds = model.get_prediction(output=out, img_ids=data[1])\n",
    "preds"
   ]
  },
  {
   "cell_type": "code",
   "execution_count": 84,
   "metadata": {},
   "outputs": [],
   "source": [
    "preds = model.get_prediction(output=out, img_ids=data[1])\n",
    "target = model.prepare_target_for_map(target_bboxes=data[3], target_image_ids=data[1])"
   ]
  },
  {
   "cell_type": "code",
   "execution_count": 85,
   "metadata": {},
   "outputs": [
    {
     "data": {
      "text/plain": [
       "([{'boxes': tensor([[ 72.9087,  26.9309, 654.9722, 608.9945]]),\n",
       "   'scores': tensor([1.]),\n",
       "   'labels': tensor([1])},\n",
       "  {'boxes': tensor([[ 40.5618, 121.0110, 450.6645, 531.1137]]),\n",
       "   'scores': tensor([1.0000]),\n",
       "   'labels': tensor([1])},\n",
       "  {'boxes': tensor([[194.6780, 162.8454, 347.1106, 315.2781]]),\n",
       "   'scores': tensor([1.0000]),\n",
       "   'labels': tensor([1])},\n",
       "  {'boxes': tensor([[ -7.0633,  50.0305, 400.6338, 457.7276]]),\n",
       "   'scores': tensor([0.9997]),\n",
       "   'labels': tensor([1])},\n",
       "  {'boxes': tensor([[238.8703,  94.1497, 483.4637, 338.7432]]),\n",
       "   'scores': tensor([0.9998]),\n",
       "   'labels': tensor([1])},\n",
       "  {'boxes': tensor([]),\n",
       "   'scores': tensor([]),\n",
       "   'labels': tensor([], dtype=torch.int64)},\n",
       "  {'boxes': tensor([[305.4766, 428.2527, 469.9732, 592.7493]]),\n",
       "   'scores': tensor([0.9896]),\n",
       "   'labels': tensor([2])},\n",
       "  {'boxes': tensor([[256.6360, 238.1834, 407.3045, 388.8519],\n",
       "           [ 35.4372, 253.3440, 169.9179, 387.8247]]),\n",
       "   'scores': tensor([1.0000, 0.6850]),\n",
       "   'labels': tensor([1, 2])}],\n",
       " [{'boxes': tensor([[ 83.4000,  22.6100, 750.6901, 629.1100]]),\n",
       "   'labels': tensor([1])},\n",
       "  {'boxes': tensor([[ 54.5750, 132.4500, 509.7000, 665.4500]]),\n",
       "   'labels': tensor([1])},\n",
       "  {'boxes': tensor([[188.5300, 166.1350, 530.5500, 485.7600]]),\n",
       "   'labels': tensor([1])},\n",
       "  {'boxes': tensor([[  2.8600,  55.2200, 418.7400, 523.4600]]),\n",
       "   'labels': tensor([1])},\n",
       "  {'boxes': tensor([[199.1000,  90.3700, 678.3500, 460.8900]]),\n",
       "   'labels': tensor([1])},\n",
       "  {'boxes': tensor([]), 'labels': tensor([], dtype=torch.int64)},\n",
       "  {'boxes': tensor([[ 319.5300,  414.2500,  815.1200, 1004.5600]]),\n",
       "   'labels': tensor([2])},\n",
       "  {'boxes': tensor([[255.1400, 245.3300, 666.3100, 646.6900],\n",
       "           [ 71.3950, 236.7200, 263.6800, 594.3300]]),\n",
       "   'labels': tensor([1, 2])}])"
      ]
     },
     "execution_count": 85,
     "metadata": {},
     "output_type": "execute_result"
    }
   ],
   "source": [
    "preds, target"
   ]
  },
  {
   "cell_type": "code",
   "execution_count": 86,
   "metadata": {},
   "outputs": [
    {
     "data": {
      "text/plain": [
       "{'map': tensor(0.0926),\n",
       " 'map_50': tensor(0.1683),\n",
       " 'map_75': tensor(0.1122),\n",
       " 'map_small': tensor(-1.),\n",
       " 'map_medium': tensor(-1.),\n",
       " 'map_large': tensor(0.0926),\n",
       " 'mar_1': tensor(0.1333),\n",
       " 'mar_10': tensor(0.1333),\n",
       " 'mar_100': tensor(0.1333),\n",
       " 'mar_small': tensor(-1.),\n",
       " 'mar_medium': tensor(-1.),\n",
       " 'mar_large': tensor(0.1333),\n",
       " 'map_per_class': tensor(-1.),\n",
       " 'mar_100_per_class': tensor(-1.),\n",
       " 'classes': tensor([1, 2], dtype=torch.int32)}"
      ]
     },
     "execution_count": 86,
     "metadata": {},
     "output_type": "execute_result"
    }
   ],
   "source": [
    "from torchmetrics.detection.mean_ap import MeanAveragePrecision\n",
    "\n",
    "# Initialize the metric\n",
    "metric = MeanAveragePrecision()\n",
    "\n",
    "metric.update(preds, target)\n",
    "\n",
    "metric.compute()"
   ]
  },
  {
   "cell_type": "code",
   "execution_count": null,
   "metadata": {},
   "outputs": [],
   "source": []
  }
 ],
 "metadata": {
  "kernelspec": {
   "display_name": "venv",
   "language": "python",
   "name": "python3"
  },
  "language_info": {
   "codemirror_mode": {
    "name": "ipython",
    "version": 3
   },
   "file_extension": ".py",
   "mimetype": "text/x-python",
   "name": "python",
   "nbconvert_exporter": "python",
   "pygments_lexer": "ipython3",
   "version": "3.10.6"
  },
  "orig_nbformat": 4,
  "vscode": {
   "interpreter": {
    "hash": "c23f8bac5f54f555216c25507ea8382a3bcc21e21d40d6abf1fac4c9e8531714"
   }
  }
 },
 "nbformat": 4,
 "nbformat_minor": 2
}
