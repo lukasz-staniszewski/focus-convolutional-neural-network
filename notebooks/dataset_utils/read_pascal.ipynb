{
 "cells": [
  {
   "cell_type": "code",
   "execution_count": 6,
   "metadata": {},
   "outputs": [],
   "source": [
    "from pascal_voc_writer import Writer\n",
    "from PIL import Image\n",
    "import os"
   ]
  },
  {
   "cell_type": "code",
   "execution_count": 2,
   "metadata": {},
   "outputs": [
    {
     "data": {
      "text/plain": [
       "'../../data/raw/VOC2012/JPEGImages/'"
      ]
     },
     "execution_count": 2,
     "metadata": {},
     "output_type": "execute_result"
    }
   ],
   "source": [
    "\"../../data/raw/VOC2012/JPEGImages/\""
   ]
  },
  {
   "cell_type": "code",
   "execution_count": 7,
   "metadata": {},
   "outputs": [],
   "source": [
    "lst = []\n",
    "for file in os.listdir(\"../../data/raw/VOC2012/JPEGImages/\"):\n",
    "    img = Image.open(\"../../data/raw/VOC2012/JPEGImages/\"+file)\n",
    "    lst.append(img.size)\n",
    "    # width, height = img.size\n",
    "    # if width > max_width:\n",
    "    #     max_width = width\n",
    "    # if height > max_height:\n",
    "    #     max_height = height"
   ]
  },
  {
   "cell_type": "code",
   "execution_count": 8,
   "metadata": {},
   "outputs": [
    {
     "data": {
      "text/plain": [
       "[(486, 500), (500, 281), (500, 366), (500, 375), (500, 335)]"
      ]
     },
     "execution_count": 8,
     "metadata": {},
     "output_type": "execute_result"
    }
   ],
   "source": [
    "lst[:5]"
   ]
  },
  {
   "cell_type": "code",
   "execution_count": 9,
   "metadata": {},
   "outputs": [],
   "source": [
    "import numpy as np"
   ]
  },
  {
   "cell_type": "code",
   "execution_count": 11,
   "metadata": {},
   "outputs": [],
   "source": [
    "xd = np.array(lst)"
   ]
  },
  {
   "cell_type": "code",
   "execution_count": 12,
   "metadata": {},
   "outputs": [],
   "source": [
    "import pandas as pd"
   ]
  },
  {
   "cell_type": "code",
   "execution_count": 14,
   "metadata": {},
   "outputs": [
    {
     "data": {
      "text/html": [
       "<div>\n",
       "<style scoped>\n",
       "    .dataframe tbody tr th:only-of-type {\n",
       "        vertical-align: middle;\n",
       "    }\n",
       "\n",
       "    .dataframe tbody tr th {\n",
       "        vertical-align: top;\n",
       "    }\n",
       "\n",
       "    .dataframe thead th {\n",
       "        text-align: right;\n",
       "    }\n",
       "</style>\n",
       "<table border=\"1\" class=\"dataframe\">\n",
       "  <thead>\n",
       "    <tr style=\"text-align: right;\">\n",
       "      <th></th>\n",
       "      <th>0</th>\n",
       "      <th>1</th>\n",
       "    </tr>\n",
       "  </thead>\n",
       "  <tbody>\n",
       "    <tr>\n",
       "      <th>count</th>\n",
       "      <td>17125.000000</td>\n",
       "      <td>17125.000000</td>\n",
       "    </tr>\n",
       "    <tr>\n",
       "      <th>mean</th>\n",
       "      <td>466.797547</td>\n",
       "      <td>389.507620</td>\n",
       "    </tr>\n",
       "    <tr>\n",
       "      <th>std</th>\n",
       "      <td>61.931367</td>\n",
       "      <td>65.497125</td>\n",
       "    </tr>\n",
       "    <tr>\n",
       "      <th>min</th>\n",
       "      <td>142.000000</td>\n",
       "      <td>71.000000</td>\n",
       "    </tr>\n",
       "    <tr>\n",
       "      <th>25%</th>\n",
       "      <td>499.000000</td>\n",
       "      <td>338.000000</td>\n",
       "    </tr>\n",
       "    <tr>\n",
       "      <th>50%</th>\n",
       "      <td>500.000000</td>\n",
       "      <td>375.000000</td>\n",
       "    </tr>\n",
       "    <tr>\n",
       "      <th>75%</th>\n",
       "      <td>500.000000</td>\n",
       "      <td>400.000000</td>\n",
       "    </tr>\n",
       "    <tr>\n",
       "      <th>max</th>\n",
       "      <td>500.000000</td>\n",
       "      <td>500.000000</td>\n",
       "    </tr>\n",
       "  </tbody>\n",
       "</table>\n",
       "</div>"
      ],
      "text/plain": [
       "                  0             1\n",
       "count  17125.000000  17125.000000\n",
       "mean     466.797547    389.507620\n",
       "std       61.931367     65.497125\n",
       "min      142.000000     71.000000\n",
       "25%      499.000000    338.000000\n",
       "50%      500.000000    375.000000\n",
       "75%      500.000000    400.000000\n",
       "max      500.000000    500.000000"
      ]
     },
     "execution_count": 14,
     "metadata": {},
     "output_type": "execute_result"
    }
   ],
   "source": [
    "pd.DataFrame(xd).describe()"
   ]
  },
  {
   "cell_type": "code",
   "execution_count": 15,
   "metadata": {},
   "outputs": [],
   "source": [
    "dir_anno = \"../../data/raw/VOC2012/Annotations\"\n",
    "img_dir  = \"../../data/raw/VOC2012/JPEGImages\""
   ]
  },
  {
   "cell_type": "code",
   "execution_count": 19,
   "metadata": {},
   "outputs": [
    {
     "name": "stderr",
     "output_type": "stream",
     "text": [
      "100%|██████████| 17125/17125 [00:02<00:00, 6267.81it/s]\n"
     ]
    }
   ],
   "source": [
    "from fileinput import filename\n",
    "import os \n",
    "import numpy as np\n",
    "import xml.etree.ElementTree as ET\n",
    "from collections import OrderedDict\n",
    "import matplotlib.pyplot as plt\n",
    "import pandas as pd \n",
    "from tqdm import tqdm\n",
    "\n",
    "def extract_single_xml_file(tree):\n",
    "    names = []\n",
    "    for elems in tree.iter():\n",
    "        if elems.tag == \"object\":\n",
    "            for elem in elems:\n",
    "                if elem.tag == \"name\":\n",
    "                    names.append(str(elem.text))\n",
    "    return names\n",
    "\n",
    "df_anno = []\n",
    "filenames = os.listdir(dir_anno)\n",
    "for fnm in tqdm(filenames):  \n",
    "    if not fnm.startswith('.'): ## do not include hidden folders/files\n",
    "        tree = ET.parse(os.path.join(dir_anno,fnm))\n",
    "        names = extract_single_xml_file(tree)\n",
    "        df_anno += names"
   ]
  },
  {
   "cell_type": "code",
   "execution_count": 22,
   "metadata": {},
   "outputs": [],
   "source": [
    "from collections import Counter\n",
    "cnt = Counter(df_anno)"
   ]
  },
  {
   "cell_type": "code",
   "execution_count": 23,
   "metadata": {},
   "outputs": [
    {
     "data": {
      "text/plain": [
       "(17401, 2492, 1598, 1277, 837)"
      ]
     },
     "execution_count": 23,
     "metadata": {},
     "output_type": "execute_result"
    }
   ],
   "source": [
    "cnt['person'], cnt['car'], cnt['dog'], cnt['cat'], cnt['bicycle']"
   ]
  },
  {
   "cell_type": "code",
   "execution_count": 24,
   "metadata": {},
   "outputs": [
    {
     "data": {
      "text/plain": [
       "{'aeroplane': 1002,\n",
       " 'tvmonitor': 893,\n",
       " 'train': 704,\n",
       " 'boat': 1059,\n",
       " 'chair': 3056,\n",
       " 'bird': 1271,\n",
       " 'bottle': 1561,\n",
       " 'sheep': 1084,\n",
       " 'diningtable': 800,\n",
       " 'horse': 803,\n",
       " 'motorbike': 801,\n",
       " 'sofa': 841,\n",
       " 'cow': 771,\n",
       " 'bus': 685,\n",
       " 'pottedplant': 1202}"
      ]
     },
     "execution_count": 24,
     "metadata": {},
     "output_type": "execute_result"
    }
   ],
   "source": [
    "other_keys = {k: v for k, v in cnt.items() if k not in ['person', 'car', 'dog', 'cat', 'bicycle']}\n",
    "other_keys"
   ]
  },
  {
   "cell_type": "code",
   "execution_count": 25,
   "metadata": {},
   "outputs": [
    {
     "data": {
      "text/plain": [
       "16533"
      ]
     },
     "execution_count": 25,
     "metadata": {},
     "output_type": "execute_result"
    }
   ],
   "source": [
    "sum(other_keys.values())"
   ]
  },
  {
   "cell_type": "code",
   "execution_count": null,
   "metadata": {},
   "outputs": [],
   "source": []
  }
 ],
 "metadata": {
  "kernelspec": {
   "display_name": "Python 3.9.5 ('venv': venv)",
   "language": "python",
   "name": "python3"
  },
  "language_info": {
   "codemirror_mode": {
    "name": "ipython",
    "version": 3
   },
   "file_extension": ".py",
   "mimetype": "text/x-python",
   "name": "python",
   "nbconvert_exporter": "python",
   "pygments_lexer": "ipython3",
   "version": "3.9.5"
  },
  "orig_nbformat": 4,
  "vscode": {
   "interpreter": {
    "hash": "2d003083da56131e9c2597bd8311bd4849912c9f5353e8172a48e2f0a9f74796"
   }
  }
 },
 "nbformat": 4,
 "nbformat_minor": 2
}
