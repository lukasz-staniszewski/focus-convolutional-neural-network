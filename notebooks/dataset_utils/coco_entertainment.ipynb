{
 "cells": [
  {
   "cell_type": "code",
   "execution_count": 6,
   "id": "7201fa03",
   "metadata": {
    "ExecuteTime": {
     "end_time": "2022-03-28T10:23:20.648510Z",
     "start_time": "2022-03-28T10:20:44.958528Z"
    }
   },
   "outputs": [
    {
     "name": "stdout",
     "output_type": "stream",
     "text": [
      "Downloading split 'validation' to 'C:\\Users\\01149762\\fiftyone\\coco-2017\\validation' if necessary\n",
      "Found annotations at 'C:\\Users\\01149762\\fiftyone\\coco-2017\\raw\\instances_val2017.json'\n",
      "93 images found; downloading the remaining 7\n",
      " 100% |██████████████████████| 7/7 [958.6ms elapsed, 0s remaining, 7.3 images/s]      \n",
      "Writing annotations for 107 downloaded samples to 'C:\\Users\\01149762\\fiftyone\\coco-2017\\validation\\labels.json'\n",
      "Dataset info written to 'C:\\Users\\01149762\\fiftyone\\coco-2017\\info.json'\n",
      "Loading existing dataset 'detector-recipe'. To reload from disk, either delete the existing dataset or provide a custom `dataset_name` to use\n"
     ]
    }
   ],
   "source": [
    "import fiftyone as fo\n",
    "import fiftyone.zoo as foz\n",
    "\n",
    "dataset = foz.load_zoo_dataset(\n",
    "    \"coco-2017\",\n",
    "    split=\"validation\",\n",
    "    label_types=[\"detections\"],\n",
    "    classes=[\"person\"],\n",
    "    max_samples=100,\n",
    "    dataset_name=\"detector-recipe\",\n",
    "    # classes=[\"person\"],\n",
    "    only_matching=True\n",
    ")"
   ]
  },
  {
   "cell_type": "code",
   "execution_count": 7,
   "id": "61ab1c76",
   "metadata": {
    "ExecuteTime": {
     "end_time": "2022-03-28T10:23:30.286924Z",
     "start_time": "2022-03-28T10:23:30.223872Z"
    }
   },
   "outputs": [
    {
     "name": "stdout",
     "output_type": "stream",
     "text": [
      "Name:        detector-recipe\n",
      "Media type:  image\n",
      "Num samples: 100\n",
      "Persistent:  False\n",
      "Tags:        ['validation']\n",
      "Sample fields:\n",
      "    id:           fiftyone.core.fields.ObjectIdField\n",
      "    filepath:     fiftyone.core.fields.StringField\n",
      "    tags:         fiftyone.core.fields.ListField(fiftyone.core.fields.StringField)\n",
      "    metadata:     fiftyone.core.fields.EmbeddedDocumentField(fiftyone.core.metadata.Metadata)\n",
      "    ground_truth: fiftyone.core.fields.EmbeddedDocumentField(fiftyone.core.labels.Detections)\n"
     ]
    }
   ],
   "source": [
    "print(dataset)"
   ]
  },
  {
   "cell_type": "code",
   "execution_count": 8,
   "id": "0a86521a",
   "metadata": {
    "ExecuteTime": {
     "end_time": "2022-03-28T10:24:09.459134Z",
     "start_time": "2022-03-28T10:24:09.433653Z"
    }
   },
   "outputs": [
    {
     "name": "stdout",
     "output_type": "stream",
     "text": [
      "<Sample: {\n",
      "    'id': '625c1b08e408cac9cdd9b15b',\n",
      "    'media_type': 'image',\n",
      "    'filepath': 'C:\\\\Users\\\\01149762\\\\fiftyone\\\\coco-2017\\\\validation\\\\data\\\\000000026204.jpg',\n",
      "    'tags': BaseList(['validation']),\n",
      "    'metadata': <ImageMetadata: {\n",
      "        'size_bytes': None,\n",
      "        'mime_type': None,\n",
      "        'width': 640,\n",
      "        'height': 427,\n",
      "        'num_channels': None,\n",
      "    }>,\n",
      "    'ground_truth': <Detections: {\n",
      "        'detections': BaseList([\n",
      "            <Detection: {\n",
      "                'id': '625c1b08e408cac9cdd9b14f',\n",
      "                'attributes': BaseDict({}),\n",
      "                'tags': BaseList([]),\n",
      "                'label': 'car',\n",
      "                'bounding_box': BaseList([\n",
      "                    0.585359375,\n",
      "                    0.604192037470726,\n",
      "                    0.21040625,\n",
      "                    0.16988290398126465,\n",
      "                ]),\n",
      "                'mask': None,\n",
      "                'confidence': None,\n",
      "                'index': None,\n",
      "                'supercategory': 'vehicle',\n",
      "                'iscrowd': 0,\n",
      "            }>,\n",
      "            <Detection: {\n",
      "                'id': '625c1b08e408cac9cdd9b150',\n",
      "                'attributes': BaseDict({}),\n",
      "                'tags': BaseList([]),\n",
      "                'label': 'person',\n",
      "                'bounding_box': BaseList([\n",
      "                    0.052125,\n",
      "                    0.5521545667447307,\n",
      "                    0.035812500000000004,\n",
      "                    0.12222482435597189,\n",
      "                ]),\n",
      "                'mask': None,\n",
      "                'confidence': None,\n",
      "                'index': None,\n",
      "                'supercategory': 'person',\n",
      "                'iscrowd': 0,\n",
      "            }>,\n",
      "            <Detection: {\n",
      "                'id': '625c1b08e408cac9cdd9b151',\n",
      "                'attributes': BaseDict({}),\n",
      "                'tags': BaseList([]),\n",
      "                'label': 'person',\n",
      "                'bounding_box': BaseList([\n",
      "                    0.024,\n",
      "                    0.5350585480093677,\n",
      "                    0.032671875,\n",
      "                    0.12224824355971897,\n",
      "                ]),\n",
      "                'mask': None,\n",
      "                'confidence': None,\n",
      "                'index': None,\n",
      "                'supercategory': 'person',\n",
      "                'iscrowd': 0,\n",
      "            }>,\n",
      "            <Detection: {\n",
      "                'id': '625c1b08e408cac9cdd9b152',\n",
      "                'attributes': BaseDict({}),\n",
      "                'tags': BaseList([]),\n",
      "                'label': 'car',\n",
      "                'bounding_box': BaseList([\n",
      "                    0.81609375,\n",
      "                    0.6088758782201406,\n",
      "                    0.12703124999999998,\n",
      "                    0.11159250585480093,\n",
      "                ]),\n",
      "                'mask': None,\n",
      "                'confidence': None,\n",
      "                'index': None,\n",
      "                'supercategory': 'vehicle',\n",
      "                'iscrowd': 0,\n",
      "            }>,\n",
      "            <Detection: {\n",
      "                'id': '625c1b08e408cac9cdd9b153',\n",
      "                'attributes': BaseDict({}),\n",
      "                'tags': BaseList([]),\n",
      "                'label': 'truck',\n",
      "                'bounding_box': BaseList([\n",
      "                    0.208765625,\n",
      "                    0.4579391100702576,\n",
      "                    0.120921875,\n",
      "                    0.251615925058548,\n",
      "                ]),\n",
      "                'mask': None,\n",
      "                'confidence': None,\n",
      "                'index': None,\n",
      "                'supercategory': 'vehicle',\n",
      "                'iscrowd': 0,\n",
      "            }>,\n",
      "            <Detection: {\n",
      "                'id': '625c1b08e408cac9cdd9b154',\n",
      "                'attributes': BaseDict({}),\n",
      "                'tags': BaseList([]),\n",
      "                'label': 'car',\n",
      "                'bounding_box': BaseList([\n",
      "                    0.6065625,\n",
      "                    0.5776346604215457,\n",
      "                    0.06965625,\n",
      "                    0.05646370023419204,\n",
      "                ]),\n",
      "                'mask': None,\n",
      "                'confidence': None,\n",
      "                'index': None,\n",
      "                'supercategory': 'vehicle',\n",
      "                'iscrowd': 0,\n",
      "            }>,\n",
      "            <Detection: {\n",
      "                'id': '625c1b08e408cac9cdd9b155',\n",
      "                'attributes': BaseDict({}),\n",
      "                'tags': BaseList([]),\n",
      "                'label': 'car',\n",
      "                'bounding_box': BaseList([\n",
      "                    0.90446875,\n",
      "                    0.5929976580796253,\n",
      "                    0.095296875,\n",
      "                    0.15367681498829042,\n",
      "                ]),\n",
      "                'mask': None,\n",
      "                'confidence': None,\n",
      "                'index': None,\n",
      "                'supercategory': 'vehicle',\n",
      "                'iscrowd': 0,\n",
      "            }>,\n",
      "            <Detection: {\n",
      "                'id': '625c1b08e408cac9cdd9b156',\n",
      "                'attributes': BaseDict({}),\n",
      "                'tags': BaseList([]),\n",
      "                'label': 'traffic light',\n",
      "                'bounding_box': BaseList([\n",
      "                    0.17320312499999999,\n",
      "                    0.37278688524590164,\n",
      "                    0.022921875,\n",
      "                    0.07117096018735364,\n",
      "                ]),\n",
      "                'mask': None,\n",
      "                'confidence': None,\n",
      "                'index': None,\n",
      "                'supercategory': 'outdoor',\n",
      "                'iscrowd': 0,\n",
      "            }>,\n",
      "            <Detection: {\n",
      "                'id': '625c1b08e408cac9cdd9b157',\n",
      "                'attributes': BaseDict({}),\n",
      "                'tags': BaseList([]),\n",
      "                'label': 'person',\n",
      "                'bounding_box': BaseList([\n",
      "                    0.55315625,\n",
      "                    0.5384543325526931,\n",
      "                    0.03240625,\n",
      "                    0.05805620608899297,\n",
      "                ]),\n",
      "                'mask': None,\n",
      "                'confidence': None,\n",
      "                'index': None,\n",
      "                'supercategory': 'person',\n",
      "                'iscrowd': 0,\n",
      "            }>,\n",
      "            <Detection: {\n",
      "                'id': '625c1b08e408cac9cdd9b158',\n",
      "                'attributes': BaseDict({}),\n",
      "                'tags': BaseList([]),\n",
      "                'label': 'person',\n",
      "                'bounding_box': BaseList([\n",
      "                    0.10196875000000001,\n",
      "                    0.5517798594847776,\n",
      "                    0.006671874999999999,\n",
      "                    0.0311943793911007,\n",
      "                ]),\n",
      "                'mask': None,\n",
      "                'confidence': None,\n",
      "                'index': None,\n",
      "                'supercategory': 'person',\n",
      "                'iscrowd': 0,\n",
      "            }>,\n",
      "            <Detection: {\n",
      "                'id': '625c1b08e408cac9cdd9b159',\n",
      "                'attributes': BaseDict({}),\n",
      "                'tags': BaseList([]),\n",
      "                'label': 'car',\n",
      "                'bounding_box': BaseList([\n",
      "                    0.25579687500000003,\n",
      "                    0.567400468384075,\n",
      "                    0.19990625,\n",
      "                    0.21014051522248245,\n",
      "                ]),\n",
      "                'mask': None,\n",
      "                'confidence': None,\n",
      "                'index': None,\n",
      "                'supercategory': 'vehicle',\n",
      "                'iscrowd': 0,\n",
      "            }>,\n",
      "            <Detection: {\n",
      "                'id': '625c1b08e408cac9cdd9b15a',\n",
      "                'attributes': BaseDict({}),\n",
      "                'tags': BaseList([]),\n",
      "                'label': 'truck',\n",
      "                'bounding_box': BaseList([\n",
      "                    0.67284375,\n",
      "                    0.5754332552693209,\n",
      "                    0.144953125,\n",
      "                    0.13768149882903982,\n",
      "                ]),\n",
      "                'mask': None,\n",
      "                'confidence': None,\n",
      "                'index': None,\n",
      "                'supercategory': 'vehicle',\n",
      "                'iscrowd': 0,\n",
      "            }>,\n",
      "        ]),\n",
      "    }>,\n",
      "}>\n"
     ]
    }
   ],
   "source": [
    "sample = next(iter(dataset))\n",
    "print(sample.)"
   ]
  },
  {
   "cell_type": "code",
   "execution_count": 10,
   "id": "cb2c90da",
   "metadata": {
    "ExecuteTime": {
     "end_time": "2022-03-28T10:24:53.095543Z",
     "start_time": "2022-03-28T10:24:45.850944Z"
    }
   },
   "outputs": [
    {
     "data": {
      "text/html": [
       "\n",
       "        <iframe\n",
       "            width=\"100%\"\n",
       "            height=\"800\"\n",
       "            src=\"http://localhost:5151/?notebook=true&handleId=238ffe13-05c0-4ad6-bf57-688712e5b6da\"\n",
       "            frameborder=\"0\"\n",
       "            allowfullscreen\n",
       "            \n",
       "        ></iframe>\n",
       "        "
      ],
      "text/plain": [
       "<IPython.lib.display.IFrame at 0x19a703a0a00>"
      ]
     },
     "metadata": {},
     "output_type": "display_data"
    }
   ],
   "source": [
    "session = fo.launch_app(dataset)"
   ]
  },
  {
   "cell_type": "code",
   "execution_count": 5,
   "id": "28489b01",
   "metadata": {
    "ExecuteTime": {
     "end_time": "2022-03-28T10:28:12.820457Z",
     "start_time": "2022-03-28T10:27:42.587756Z"
    }
   },
   "outputs": [
    {
     "name": "stderr",
     "output_type": "stream",
     "text": [
      "Downloading: \"https://download.pytorch.org/models/fasterrcnn_resnet50_fpn_coco-258fb6c6.pth\" to C:\\Users\\01149762/.cache\\torch\\hub\\checkpoints\\fasterrcnn_resnet50_fpn_coco-258fb6c6.pth\n",
      "100.0%\n"
     ]
    },
    {
     "name": "stdout",
     "output_type": "stream",
     "text": [
      "Model ready\n"
     ]
    }
   ],
   "source": [
    "import torch\n",
    "import torchvision\n",
    "\n",
    "# Run the model on GPU if it is available\n",
    "device = torch.device(\"cuda:0\" if torch.cuda.is_available() else \"cpu\")\n",
    "\n",
    "# Load a pre-trained Faster R-CNN model\n",
    "model = torchvision.models.detection.fasterrcnn_resnet50_fpn(pretrained=True)\n",
    "model.to(device)\n",
    "model.eval()\n",
    "\n",
    "print(\"Model ready\")"
   ]
  },
  {
   "cell_type": "code",
   "execution_count": 6,
   "id": "4f558bda",
   "metadata": {
    "ExecuteTime": {
     "end_time": "2022-03-28T10:28:12.835715Z",
     "start_time": "2022-03-28T10:28:12.823515Z"
    }
   },
   "outputs": [],
   "source": [
    "# Choose a random subset of 100 samples to add predictions to\n",
    "predictions_view = dataset.take(100, seed=51)"
   ]
  },
  {
   "cell_type": "code",
   "execution_count": 8,
   "id": "d6f2005e",
   "metadata": {
    "ExecuteTime": {
     "end_time": "2022-03-28T10:28:50.912189Z",
     "start_time": "2022-03-28T10:28:35.569265Z"
    }
   },
   "outputs": [
    {
     "name": "stdout",
     "output_type": "stream",
     "text": [
      " 100% |█████████████████| 100/100 [15.3s elapsed, 0s remaining, 6.7 samples/s]      \n"
     ]
    }
   ],
   "source": [
    "from PIL import Image\n",
    "from torchvision.transforms import functional as func\n",
    "\n",
    "import fiftyone as fo\n",
    "\n",
    "# Get class list\n",
    "classes = dataset.default_classes\n",
    "\n",
    "# Add predictions to samples\n",
    "with fo.ProgressBar() as pb:\n",
    "    for sample in pb(predictions_view):\n",
    "        # Load image\n",
    "        image = Image.open(sample.filepath)\n",
    "        image = func.to_tensor(image).to(device)\n",
    "        c, h, w = image.shape\n",
    "\n",
    "        # Perform inference\n",
    "        preds = model([image])[0]\n",
    "        labels = preds[\"labels\"].cpu().detach().numpy()\n",
    "        scores = preds[\"scores\"].cpu().detach().numpy()\n",
    "        boxes = preds[\"boxes\"].cpu().detach().numpy()\n",
    "\n",
    "        # Convert detections to FiftyOne format\n",
    "        detections = []\n",
    "        for label, score, box in zip(labels, scores, boxes):\n",
    "            # Convert to [top-left-x, top-left-y, width, height]\n",
    "            # in relative coordinates in [0, 1] x [0, 1]\n",
    "            x1, y1, x2, y2 = box\n",
    "            rel_box = [x1 / w, y1 / h, (x2 - x1) / w, (y2 - y1) / h]\n",
    "\n",
    "            detections.append(\n",
    "                fo.Detection(\n",
    "                    label=classes[label],\n",
    "                    bounding_box=rel_box,\n",
    "                    confidence=score\n",
    "                )\n",
    "            )\n",
    "\n",
    "        # Save predictions to dataset\n",
    "        sample[\"predictions\"] = fo.Detections(detections=detections)\n",
    "        sample.save()"
   ]
  },
  {
   "cell_type": "code",
   "execution_count": 9,
   "id": "a6700770",
   "metadata": {
    "ExecuteTime": {
     "end_time": "2022-03-28T10:28:53.853229Z",
     "start_time": "2022-03-28T10:28:53.808675Z"
    }
   },
   "outputs": [
    {
     "data": {
      "text/html": [
       "\n",
       "        <iframe\n",
       "            width=\"100%\"\n",
       "            height=\"800\"\n",
       "            src=\"http://localhost:5151/?notebook=true&handleId=e5dddca1-862f-4a90-bf54-6a8e637ba016\"\n",
       "            frameborder=\"0\"\n",
       "            allowfullscreen\n",
       "            \n",
       "        ></iframe>\n",
       "        "
      ],
      "text/plain": [
       "<IPython.lib.display.IFrame at 0x2b4cfd9d790>"
      ]
     },
     "metadata": {},
     "output_type": "display_data"
    }
   ],
   "source": [
    "session.view = predictions_view\n"
   ]
  },
  {
   "cell_type": "code",
   "execution_count": null,
   "id": "548a66a0",
   "metadata": {},
   "outputs": [],
   "source": []
  }
 ],
 "metadata": {
  "kernelspec": {
   "display_name": "Python 3 (ipykernel)",
   "language": "python",
   "name": "python3"
  },
  "language_info": {
   "codemirror_mode": {
    "name": "ipython",
    "version": 3
   },
   "file_extension": ".py",
   "mimetype": "text/x-python",
   "name": "python",
   "nbconvert_exporter": "python",
   "pygments_lexer": "ipython3",
   "version": "3.9.5"
  },
  "toc": {
   "base_numbering": 1,
   "nav_menu": {},
   "number_sections": true,
   "sideBar": true,
   "skip_h1_title": false,
   "title_cell": "Table of Contents",
   "title_sidebar": "Contents",
   "toc_cell": false,
   "toc_position": {},
   "toc_section_display": true,
   "toc_window_display": false
  }
 },
 "nbformat": 4,
 "nbformat_minor": 5
}
